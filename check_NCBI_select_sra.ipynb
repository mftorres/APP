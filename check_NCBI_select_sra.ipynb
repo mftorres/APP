{
 "cells": [
  {
   "cell_type": "code",
   "execution_count": 47,
   "metadata": {
    "ExecuteTime": {
     "end_time": "2021-05-12T14:51:12.663446Z",
     "start_time": "2021-05-12T14:51:12.656442Z"
    }
   },
   "outputs": [],
   "source": [
    "import re # searching patterns\n",
    "import pandas as pd # dataframes\n",
    "import numpy as np # vectors and arrays\n",
    "import plotly.express as px # interactive plots\n",
    "import time # to slow down computations for testing\n",
    "from matplotlib.lines import Line2D # for hand-made legend objects\n",
    "import matplotlib.patches as patches # figure patches\n",
    "import matplotlib.pyplot as plt # matplotlib plotting\n",
    "from plotly.subplots import make_subplots # plotly subplots .. like gridspec\n",
    "import plotly.graph_objects as go # interactive plots\n",
    "\n",
    "import warnings\n",
    "warnings.filterwarnings('ignore')"
   ]
  },
  {
   "cell_type": "code",
   "execution_count": null,
   "metadata": {},
   "outputs": [],
   "source": [
    "# all SRA records for plants were downloaded from NCBI"
   ]
  },
  {
   "cell_type": "code",
   "execution_count": 48,
   "metadata": {
    "ExecuteTime": {
     "end_time": "2021-05-12T14:51:22.406687Z",
     "start_time": "2021-05-12T14:51:15.703122Z"
    }
   },
   "outputs": [
    {
     "data": {
      "text/html": [
       "<div>\n",
       "<style scoped>\n",
       "    .dataframe tbody tr th:only-of-type {\n",
       "        vertical-align: middle;\n",
       "    }\n",
       "\n",
       "    .dataframe tbody tr th {\n",
       "        vertical-align: top;\n",
       "    }\n",
       "\n",
       "    .dataframe thead th {\n",
       "        text-align: right;\n",
       "    }\n",
       "</style>\n",
       "<table border=\"1\" class=\"dataframe\">\n",
       "  <thead>\n",
       "    <tr style=\"text-align: right;\">\n",
       "      <th></th>\n",
       "      <th>Experiment Accession</th>\n",
       "      <th>Experiment Title</th>\n",
       "      <th>Organism Name</th>\n",
       "      <th>Instrument</th>\n",
       "      <th>Submitter</th>\n",
       "      <th>Study Accession</th>\n",
       "      <th>Study Title</th>\n",
       "      <th>Sample Accession</th>\n",
       "      <th>Sample Title</th>\n",
       "      <th>Total Size, Mb</th>\n",
       "      <th>Total RUNs</th>\n",
       "      <th>Total Spots</th>\n",
       "      <th>Total Bases</th>\n",
       "      <th>Library Name</th>\n",
       "      <th>Library Strategy</th>\n",
       "      <th>Library Source</th>\n",
       "      <th>Library Selection</th>\n",
       "    </tr>\n",
       "  </thead>\n",
       "  <tbody>\n",
       "    <tr>\n",
       "      <td>0</td>\n",
       "      <td>SRX10508740</td>\n",
       "      <td>LJ_WGS_data</td>\n",
       "      <td>Oryza sativa</td>\n",
       "      <td>BGISEQ-500</td>\n",
       "      <td>Chinese Academy of Science</td>\n",
       "      <td>SRP313315</td>\n",
       "      <td>Raw sequencing data for 32 rice genomes</td>\n",
       "      <td>SRS8632875</td>\n",
       "      <td>NaN</td>\n",
       "      <td>7483.75</td>\n",
       "      <td>1</td>\n",
       "      <td>80864864.0</td>\n",
       "      <td>1.212973e+10</td>\n",
       "      <td>LJ_WGS_data</td>\n",
       "      <td>WGS</td>\n",
       "      <td>GENOMIC</td>\n",
       "      <td>RANDOM PCR</td>\n",
       "    </tr>\n",
       "    <tr>\n",
       "      <td>1</td>\n",
       "      <td>SRX10508739</td>\n",
       "      <td>ZH11_WGS_data_4</td>\n",
       "      <td>Oryza sativa</td>\n",
       "      <td>BGISEQ-500</td>\n",
       "      <td>Chinese Academy of Science</td>\n",
       "      <td>SRP313315</td>\n",
       "      <td>Raw sequencing data for 32 rice genomes</td>\n",
       "      <td>SRS8632874</td>\n",
       "      <td>NaN</td>\n",
       "      <td>1515.13</td>\n",
       "      <td>1</td>\n",
       "      <td>25618470.0</td>\n",
       "      <td>2.561393e+09</td>\n",
       "      <td>ZH11_WGS_data_4</td>\n",
       "      <td>WGS</td>\n",
       "      <td>GENOMIC</td>\n",
       "      <td>RANDOM PCR</td>\n",
       "    </tr>\n",
       "    <tr>\n",
       "      <td>2</td>\n",
       "      <td>SRX10508738</td>\n",
       "      <td>ZH11_WGS_data_3</td>\n",
       "      <td>Oryza sativa</td>\n",
       "      <td>BGISEQ-500</td>\n",
       "      <td>Chinese Academy of Science</td>\n",
       "      <td>SRP313315</td>\n",
       "      <td>Raw sequencing data for 32 rice genomes</td>\n",
       "      <td>SRS8632874</td>\n",
       "      <td>NaN</td>\n",
       "      <td>2430.72</td>\n",
       "      <td>1</td>\n",
       "      <td>41175640.0</td>\n",
       "      <td>4.116844e+09</td>\n",
       "      <td>ZH11_WGS_data_3</td>\n",
       "      <td>WGS</td>\n",
       "      <td>GENOMIC</td>\n",
       "      <td>RANDOM PCR</td>\n",
       "    </tr>\n",
       "    <tr>\n",
       "      <td>3</td>\n",
       "      <td>SRX10508737</td>\n",
       "      <td>ZH11_WGS_data_2</td>\n",
       "      <td>Oryza sativa</td>\n",
       "      <td>BGISEQ-500</td>\n",
       "      <td>Chinese Academy of Science</td>\n",
       "      <td>SRP313315</td>\n",
       "      <td>Raw sequencing data for 32 rice genomes</td>\n",
       "      <td>SRS8632874</td>\n",
       "      <td>NaN</td>\n",
       "      <td>2231.19</td>\n",
       "      <td>1</td>\n",
       "      <td>37332582.0</td>\n",
       "      <td>3.732591e+09</td>\n",
       "      <td>ZH11_WGS_data_2</td>\n",
       "      <td>WGS</td>\n",
       "      <td>GENOMIC</td>\n",
       "      <td>RANDOM PCR</td>\n",
       "    </tr>\n",
       "    <tr>\n",
       "      <td>4</td>\n",
       "      <td>SRX10508736</td>\n",
       "      <td>ZH11_WGS_data_1</td>\n",
       "      <td>Oryza sativa</td>\n",
       "      <td>BGISEQ-500</td>\n",
       "      <td>Chinese Academy of Science</td>\n",
       "      <td>SRP313315</td>\n",
       "      <td>Raw sequencing data for 32 rice genomes</td>\n",
       "      <td>SRS8632874</td>\n",
       "      <td>NaN</td>\n",
       "      <td>2066.25</td>\n",
       "      <td>1</td>\n",
       "      <td>35034494.0</td>\n",
       "      <td>3.502842e+09</td>\n",
       "      <td>ZH11_WGS_data_1</td>\n",
       "      <td>WGS</td>\n",
       "      <td>GENOMIC</td>\n",
       "      <td>RANDOM PCR</td>\n",
       "    </tr>\n",
       "    <tr>\n",
       "      <td>...</td>\n",
       "      <td>...</td>\n",
       "      <td>...</td>\n",
       "      <td>...</td>\n",
       "      <td>...</td>\n",
       "      <td>...</td>\n",
       "      <td>...</td>\n",
       "      <td>...</td>\n",
       "      <td>...</td>\n",
       "      <td>...</td>\n",
       "      <td>...</td>\n",
       "      <td>...</td>\n",
       "      <td>...</td>\n",
       "      <td>...</td>\n",
       "      <td>...</td>\n",
       "      <td>...</td>\n",
       "      <td>...</td>\n",
       "      <td>...</td>\n",
       "    </tr>\n",
       "    <tr>\n",
       "      <td>1027257</td>\n",
       "      <td>SRX001919</td>\n",
       "      <td>NaN</td>\n",
       "      <td>Vigna radiata</td>\n",
       "      <td>454 GS FLX</td>\n",
       "      <td>BIOTEC</td>\n",
       "      <td>SRP000414</td>\n",
       "      <td>Vigna radiata strain:Kamphaeng Saen Genome seq...</td>\n",
       "      <td>SRS001831</td>\n",
       "      <td>NaN</td>\n",
       "      <td>295.20</td>\n",
       "      <td>1</td>\n",
       "      <td>470024.0</td>\n",
       "      <td>1.221423e+08</td>\n",
       "      <td>VRKPS</td>\n",
       "      <td>WGS</td>\n",
       "      <td>GENOMIC</td>\n",
       "      <td>RANDOM</td>\n",
       "    </tr>\n",
       "    <tr>\n",
       "      <td>1027258</td>\n",
       "      <td>SRX001880</td>\n",
       "      <td>454 sequencing of Senecio madagascariensis fra...</td>\n",
       "      <td>Senecio madagascariensis</td>\n",
       "      <td>454 GS FLX</td>\n",
       "      <td>University of Queens</td>\n",
       "      <td>SRP000400</td>\n",
       "      <td>Senecio madagascariensis transcriptome project</td>\n",
       "      <td>SRS001794</td>\n",
       "      <td>NaN</td>\n",
       "      <td>51.21</td>\n",
       "      <td>1</td>\n",
       "      <td>81333.0</td>\n",
       "      <td>2.206906e+07</td>\n",
       "      <td>library 4</td>\n",
       "      <td>ChIP-Seq</td>\n",
       "      <td>TRANSCRIPTOMIC</td>\n",
       "      <td>cDNA</td>\n",
       "    </tr>\n",
       "    <tr>\n",
       "      <td>1027259</td>\n",
       "      <td>SRX001879</td>\n",
       "      <td>454 sequencing of Sencecio madagascariensis tr...</td>\n",
       "      <td>Senecio madagascariensis</td>\n",
       "      <td>454 GS FLX</td>\n",
       "      <td>University of Queens</td>\n",
       "      <td>SRP000400</td>\n",
       "      <td>Senecio madagascariensis transcriptome project</td>\n",
       "      <td>SRS001793</td>\n",
       "      <td>NaN</td>\n",
       "      <td>47.50</td>\n",
       "      <td>1</td>\n",
       "      <td>76769.0</td>\n",
       "      <td>2.058598e+07</td>\n",
       "      <td>library 3</td>\n",
       "      <td>EST</td>\n",
       "      <td>TRANSCRIPTOMIC</td>\n",
       "      <td>cDNA</td>\n",
       "    </tr>\n",
       "    <tr>\n",
       "      <td>1027260</td>\n",
       "      <td>SRX001878</td>\n",
       "      <td>454 sequencing of Sencecio madagascariensis tr...</td>\n",
       "      <td>Senecio madagascariensis</td>\n",
       "      <td>454 GS FLX</td>\n",
       "      <td>University of Queens</td>\n",
       "      <td>SRP000400</td>\n",
       "      <td>Senecio madagascariensis transcriptome project</td>\n",
       "      <td>SRS001793</td>\n",
       "      <td>NaN</td>\n",
       "      <td>16.41</td>\n",
       "      <td>1</td>\n",
       "      <td>26896.0</td>\n",
       "      <td>6.887973e+06</td>\n",
       "      <td>library 2</td>\n",
       "      <td>EST</td>\n",
       "      <td>TRANSCRIPTOMIC</td>\n",
       "      <td>cDNA</td>\n",
       "    </tr>\n",
       "    <tr>\n",
       "      <td>1027261</td>\n",
       "      <td>SRX001877</td>\n",
       "      <td>454 sequencing of Sencecio madagascariensis tr...</td>\n",
       "      <td>Senecio madagascariensis</td>\n",
       "      <td>454 GS FLX</td>\n",
       "      <td>University of Queens</td>\n",
       "      <td>SRP000400</td>\n",
       "      <td>Senecio madagascariensis transcriptome project</td>\n",
       "      <td>SRS001793</td>\n",
       "      <td>NaN</td>\n",
       "      <td>23.06</td>\n",
       "      <td>1</td>\n",
       "      <td>36856.0</td>\n",
       "      <td>9.807665e+06</td>\n",
       "      <td>library 1</td>\n",
       "      <td>EST</td>\n",
       "      <td>TRANSCRIPTOMIC</td>\n",
       "      <td>cDNA</td>\n",
       "    </tr>\n",
       "  </tbody>\n",
       "</table>\n",
       "<p>1027262 rows × 17 columns</p>\n",
       "</div>"
      ],
      "text/plain": [
       "        Experiment Accession  \\\n",
       "0                SRX10508740   \n",
       "1                SRX10508739   \n",
       "2                SRX10508738   \n",
       "3                SRX10508737   \n",
       "4                SRX10508736   \n",
       "...                      ...   \n",
       "1027257            SRX001919   \n",
       "1027258            SRX001880   \n",
       "1027259            SRX001879   \n",
       "1027260            SRX001878   \n",
       "1027261            SRX001877   \n",
       "\n",
       "                                          Experiment Title  \\\n",
       "0                                              LJ_WGS_data   \n",
       "1                                          ZH11_WGS_data_4   \n",
       "2                                          ZH11_WGS_data_3   \n",
       "3                                          ZH11_WGS_data_2   \n",
       "4                                          ZH11_WGS_data_1   \n",
       "...                                                    ...   \n",
       "1027257                                                NaN   \n",
       "1027258  454 sequencing of Senecio madagascariensis fra...   \n",
       "1027259  454 sequencing of Sencecio madagascariensis tr...   \n",
       "1027260  454 sequencing of Sencecio madagascariensis tr...   \n",
       "1027261  454 sequencing of Sencecio madagascariensis tr...   \n",
       "\n",
       "                    Organism Name  Instrument                   Submitter  \\\n",
       "0                    Oryza sativa  BGISEQ-500  Chinese Academy of Science   \n",
       "1                    Oryza sativa  BGISEQ-500  Chinese Academy of Science   \n",
       "2                    Oryza sativa  BGISEQ-500  Chinese Academy of Science   \n",
       "3                    Oryza sativa  BGISEQ-500  Chinese Academy of Science   \n",
       "4                    Oryza sativa  BGISEQ-500  Chinese Academy of Science   \n",
       "...                           ...         ...                         ...   \n",
       "1027257             Vigna radiata  454 GS FLX                      BIOTEC   \n",
       "1027258  Senecio madagascariensis  454 GS FLX        University of Queens   \n",
       "1027259  Senecio madagascariensis  454 GS FLX        University of Queens   \n",
       "1027260  Senecio madagascariensis  454 GS FLX        University of Queens   \n",
       "1027261  Senecio madagascariensis  454 GS FLX        University of Queens   \n",
       "\n",
       "        Study Accession                                        Study Title  \\\n",
       "0             SRP313315            Raw sequencing data for 32 rice genomes   \n",
       "1             SRP313315            Raw sequencing data for 32 rice genomes   \n",
       "2             SRP313315            Raw sequencing data for 32 rice genomes   \n",
       "3             SRP313315            Raw sequencing data for 32 rice genomes   \n",
       "4             SRP313315            Raw sequencing data for 32 rice genomes   \n",
       "...                 ...                                                ...   \n",
       "1027257       SRP000414  Vigna radiata strain:Kamphaeng Saen Genome seq...   \n",
       "1027258       SRP000400     Senecio madagascariensis transcriptome project   \n",
       "1027259       SRP000400     Senecio madagascariensis transcriptome project   \n",
       "1027260       SRP000400     Senecio madagascariensis transcriptome project   \n",
       "1027261       SRP000400     Senecio madagascariensis transcriptome project   \n",
       "\n",
       "        Sample Accession Sample Title  Total Size, Mb  Total RUNs  \\\n",
       "0             SRS8632875          NaN         7483.75           1   \n",
       "1             SRS8632874          NaN         1515.13           1   \n",
       "2             SRS8632874          NaN         2430.72           1   \n",
       "3             SRS8632874          NaN         2231.19           1   \n",
       "4             SRS8632874          NaN         2066.25           1   \n",
       "...                  ...          ...             ...         ...   \n",
       "1027257        SRS001831          NaN          295.20           1   \n",
       "1027258        SRS001794          NaN           51.21           1   \n",
       "1027259        SRS001793          NaN           47.50           1   \n",
       "1027260        SRS001793          NaN           16.41           1   \n",
       "1027261        SRS001793          NaN           23.06           1   \n",
       "\n",
       "         Total Spots   Total Bases     Library Name Library Strategy  \\\n",
       "0         80864864.0  1.212973e+10      LJ_WGS_data              WGS   \n",
       "1         25618470.0  2.561393e+09  ZH11_WGS_data_4              WGS   \n",
       "2         41175640.0  4.116844e+09  ZH11_WGS_data_3              WGS   \n",
       "3         37332582.0  3.732591e+09  ZH11_WGS_data_2              WGS   \n",
       "4         35034494.0  3.502842e+09  ZH11_WGS_data_1              WGS   \n",
       "...              ...           ...              ...              ...   \n",
       "1027257     470024.0  1.221423e+08            VRKPS              WGS   \n",
       "1027258      81333.0  2.206906e+07        library 4         ChIP-Seq   \n",
       "1027259      76769.0  2.058598e+07        library 3              EST   \n",
       "1027260      26896.0  6.887973e+06        library 2              EST   \n",
       "1027261      36856.0  9.807665e+06        library 1              EST   \n",
       "\n",
       "         Library Source Library Selection  \n",
       "0               GENOMIC        RANDOM PCR  \n",
       "1               GENOMIC        RANDOM PCR  \n",
       "2               GENOMIC        RANDOM PCR  \n",
       "3               GENOMIC        RANDOM PCR  \n",
       "4               GENOMIC        RANDOM PCR  \n",
       "...                 ...               ...  \n",
       "1027257         GENOMIC            RANDOM  \n",
       "1027258  TRANSCRIPTOMIC              cDNA  \n",
       "1027259  TRANSCRIPTOMIC              cDNA  \n",
       "1027260  TRANSCRIPTOMIC              cDNA  \n",
       "1027261  TRANSCRIPTOMIC              cDNA  \n",
       "\n",
       "[1027262 rows x 17 columns]"
      ]
     },
     "execution_count": 48,
     "metadata": {},
     "output_type": "execute_result"
    }
   ],
   "source": [
    "# loading the data\n",
    "allsra = pd.read_csv('./sra_results_20210405.csv', sep = ',')\n",
    "allsra"
   ]
  },
  {
   "cell_type": "code",
   "execution_count": 49,
   "metadata": {
    "ExecuteTime": {
     "end_time": "2021-05-12T14:51:42.243349Z",
     "start_time": "2021-05-12T14:51:42.235334Z"
    }
   },
   "outputs": [
    {
     "data": {
      "text/plain": [
       "Index(['Experiment Accession', 'Experiment Title', 'Organism Name',\n",
       "       'Instrument', 'Submitter', 'Study Accession', 'Study Title',\n",
       "       'Sample Accession', 'Sample Title', 'Total Size, Mb', 'Total RUNs',\n",
       "       'Total Spots', 'Total Bases', 'Library Name', 'Library Strategy',\n",
       "       'Library Source', 'Library Selection'],\n",
       "      dtype='object')"
      ]
     },
     "execution_count": 49,
     "metadata": {},
     "output_type": "execute_result"
    }
   ],
   "source": [
    "# checking out which info is available from the data\n",
    "allsra.columns"
   ]
  },
  {
   "cell_type": "code",
   "execution_count": 50,
   "metadata": {
    "ExecuteTime": {
     "end_time": "2021-05-12T14:51:43.569014Z",
     "start_time": "2021-05-12T14:51:43.515877Z"
    }
   },
   "outputs": [
    {
     "data": {
      "text/plain": [
       "array(['GENOMIC', 'TRANSCRIPTOMIC', 'METAGENOMIC', 'OTHER',\n",
       "       'METATRANSCRIPTOMIC', 'SYNTHETIC', 'GENOMIC SINGLE CELL',\n",
       "       'TRANSCRIPTOMIC SINGLE CELL', 'VIRAL RNA'], dtype=object)"
      ]
     },
     "execution_count": 50,
     "metadata": {},
     "output_type": "execute_result"
    }
   ],
   "source": [
    "# how to start filtering out data\n",
    "# check out unique types of library source\n",
    "allsra['Library Source'].unique()"
   ]
  },
  {
   "cell_type": "code",
   "execution_count": 51,
   "metadata": {
    "ExecuteTime": {
     "end_time": "2021-05-12T14:51:45.266950Z",
     "start_time": "2021-05-12T14:51:45.193908Z"
    }
   },
   "outputs": [
    {
     "data": {
      "text/plain": [
       "array(['Quantitative DNA metabarcoding experiment',\n",
       "       'Study of the fungal bacterial and archaeal diversity associated with Triticum aestivum var. Paragon roots',\n",
       "       'Camellia sinensis var. sinensis cultivar:Tieguanyin Genome sequencing and assembly',\n",
       "       'Petunia hybrida DAP-seq raw sequence reads',\n",
       "       'Deep sequencing of small RNA fraction isolated from raspberry and Ribes sp.',\n",
       "       'ChIP-seq of H3K27me3 in rice emf2a mutant',\n",
       "       'transcriptome and H3K27me3 ChIP-seq in WT and emf2a mutant',\n",
       "       'Histone H1 is required for proper genome folding and coupling DNA methylation with gene expression',\n",
       "       'MAGO proteins safeguard the plant male germline under environmental stress',\n",
       "       'Aconitum kusnezoffii Raw sequence reads',\n",
       "       'Euonymus alatus Raw sequence reads',\n",
       "       'Pisum sativum Raw sequence reads',\n",
       "       'Glycyrrhiza uralensis Raw sequence reads',\n",
       "       'The complete chloroplast genome sequence of Actinidia arguta',\n",
       "       'complete chloroplast genome of Phyllostachys angusta McClure',\n",
       "       'Illumina sequence  of Gymnocladus chinensis Baill',\n",
       "       'Lilium rosthornii Genome sequencing and assembly',\n",
       "       'Lilium nepalense Genome sequencing and assembly',\n",
       "       'Chromosome  Lilium amoenu sequencing',\n",
       "       'Characterization of the complete chloroplast genome of Populus deltoides Caihong',\n",
       "       'Characterization of the complete chloroplast genome of Populus deltoides Zhonghong',\n",
       "       'Oryza sativa spikelet sRNA-Seq, transcriptom and degradome',\n",
       "       'A potential gateway for stress-specific preferential translation 1 in Arabidopsis',\n",
       "       'First report of grapevine asteroid mosaic-associated virus infecting free-living grapevine (Vitis spp) in New York State.',\n",
       "       'Bacterial profiling of field-grown sorghum root, rhizosphere, and soil during drought and recovery',\n",
       "       'Characterization of the complete chloroplast genome of Populus deltoides Zhonglin 2025',\n",
       "       'Chickpea Root Nodule microRNA and PARE Libraries',\n",
       "       'Solanum tuberosum L. Low temperature treatment for microRNA',\n",
       "       'Tomato ribo-seq time-course analysis of auxin responses',\n",
       "       'Lathyrus odoratus Raw sequence reads',\n",
       "       'Bacterial profiling of the leaf, root, and rhizosphere of a Sorghum bicolor diversity panel',\n",
       "       'Three Fragaria genome',\n",
       "       \"Betalain biosynthesis in bougainvillea 'Thimma'\",\n",
       "       'cotton fiber degradome sequencing',\n",
       "       'eight complete plastid genomes from three moss families Amblystegiaceae, Calliergonaceae and Pylaisiaceae',\n",
       "       'maize necrotic upper tips1 regulatory network',\n",
       "       'Sus scrofa Raw sequence reads', 'Sludge Raw sequence reads',\n",
       "       'Mapping the Salt Stress Induced Changes in Root miRNome in Pokkali Rice',\n",
       "       'DCL2 and DCL4 genes double-knockout Nicotiana benthamiana',\n",
       "       'Methods for Quick DNA Barcode Reference Library Construction',\n",
       "       'TLI Cycle 8',\n",
       "       'TSWV genes differentially processed by RNAi in resistant tomato',\n",
       "       'Genome-wide association of three agronomic traits in qingke barley',\n",
       "       'ATAC-seq with unique molecular identifiers improves quantification and footprinting',\n",
       "       'wheat microbiome', 'wheat root microbiome Raw sequence reads',\n",
       "       'plant metagenome Raw sequence reads',\n",
       "       'Cucumis sativus strain:cucumber | breed:LuFeng',\n",
       "       'Gossypium hirsutum Raw sequence reads',\n",
       "       'Oryza sativa Raw sequence reads',\n",
       "       'Low temperature treatment for potato leaf',\n",
       "       'Identification of TERT-associated RNAs in Arabidopsis thaliana',\n",
       "       'Bactrocera tryoni reverse',\n",
       "       'Amplicon sequencing in Brassica napus',\n",
       "       'Evolution of the mitochondrial genome in gymnosperms',\n",
       "       'Arabidopsis thaliana methylated cytosine editing',\n",
       "       'Deep sequencing  of miRNAs',\n",
       "       'Massively parallel generation of legible consensus sequence to alternative for traditional Sanger sequencing',\n",
       "       'Rice met1-2 mutant callus multi omics sequencing data',\n",
       "       'Evidence of developmental escape from transcriptional-gene-silencing in MESSI retrotransposons',\n",
       "       'Profiling of small RNAs in PVY-infected tomato plants',\n",
       "       'Craigia yunnanensis',\n",
       "       'Small RNA sequencing of sweet cherry for detecting virus',\n",
       "       'RNAs in a decoction of Glycyrrhizae Radix',\n",
       "       'Cajanus cajan Raw sequence reads-', 'banana small RNA sequencing',\n",
       "       'Unexpected variations in posttranscriptional silencing induced by differentially produced dsRNAs',\n",
       "       'Stevia miRNA study',\n",
       "       'Genome-wide assessment of Population Structure and Genetic Diversity for Anabasis aphylla',\n",
       "       'Genetic basis and timing of a major mating system shift in Capsella',\n",
       "       'Small RNA-seq of Cocos nucifera',\n",
       "       'Fungicides and the grapevine wood mycobiome. A case study on tracheomycotic ascomycete Phaeomoniella chlamydospora reveals potential for two novel control strategies.',\n",
       "       'PROG1 ChIP-Seq data',\n",
       "       'Large-scale sRNA sequencing in Arabidopsis thaliana',\n",
       "       'Fungal microbiome in the process of the traditional Chinese medicine Yuanzhi associated with aflatoxins contamination',\n",
       "       'Wood mycobiome of a vineyard affected by esca',\n",
       "       'Microbal community diversities of Houpo sweating',\n",
       "       'NGS of genome editing by CRISPR-SpCas9 NG system in rice calli',\n",
       "       'Microbial community diversities  of Houpo sweating',\n",
       "       'OsMYB80 regulates anther development and pollen fertility by targeting multiple biological pathways',\n",
       "       'sRNA sequencing of Psathyrostachys huashanica',\n",
       "       'Arabidopsis thaliana strain:Col0 Raw sequence reads',\n",
       "       'DETAILED DYNAMICS OF THE INITIAL PHASES OF DE NOVO RNA-DIRECTED DNA METHYLATION IN PLANT CELLS',\n",
       "       'Identification and in silico characterization of novel and conserved microRNAs in methyl jasmonate treated Scots pine (Pinus sylvestris) needles',\n",
       "       'Hulless Barley SmallRNA Sequencing',\n",
       "       'FIP1-mediated Alternative Polyadenylation regulates plant development and root stress responses',\n",
       "       'Oryza sativa Japonica Group x Oryza sativa Indica Group Genome sequencing',\n",
       "       'Triticum aestivum Epigenomics',\n",
       "       'Prunus persica Raw sequence reads',\n",
       "       'Physiological Genomics of Maize Nodal Root Growth under Drought',\n",
       "       'Ribo profiling of rice under normal and salt stress conditions',\n",
       "       'Seasonal microbial dynamics on grapevine leaves under biocontrol and copper fungicide treatments',\n",
       "       'Small RNA Sequencing for detection of maize lethal necrosis disease causing viruses',\n",
       "       'Contrasting evolutionary origins of two mountain endemics: Saxifraga wahlenbergii (Western Carpathians) and S. styriaca (Eastern Alps)',\n",
       "       'Cloning of White Rust Resistance gene WRR12 from Arabidopsis thaliana',\n",
       "       'Zea mays Transcriptome or Gene expression',\n",
       "       'Small RNAs in RDR6 gene knockouted Nicotiana benthamiana (agroinfiltrated)',\n",
       "       'small RNAs in transgenic Arabidopsis  expressing effector protein of fungal pathogen',\n",
       "       'The complete chloroplast genome sequence of Celosia Cristata',\n",
       "       'The complete chloroplast genome sequence of Spathiphyllum parrish',\n",
       "       'The complete chloroplast genome sequence of Spathiphyllum cannifolium',\n",
       "       'CCR of Pyrus sinkiangensis Yu',\n",
       "       'Small RNA sequence reads of Salinity Tolerant Pearl millet',\n",
       "       'Application of Next Generation Sequencing Using Virus-Derived Small RNAs for New Virus Detection in Tomato Samples in Serbia',\n",
       "       'Small RNA-seq to characterize viruses responsible of Lettuce big vein disease in Spain',\n",
       "       'Solanum lycopersicum STTM lines',\n",
       "       'smallRNA from Chenopodium quinoa', 'Plant mixed sample',\n",
       "       'Cucumis melo var. inodorus isolate:Payzawat Genome sequencing and assembly',\n",
       "       'multi-omics revealing the transcriptional reprogramming of six-month Taxus Callus cells',\n",
       "       'Small RNA and mRNA sequencing Arabidopsis thaliana WT and hyl1-2 seedlings in light or dark illumination conditions.',\n",
       "       'Small RNA sequencing of Indian potato cv. Kufri Jyoti to study nitrogen use efficiency in potato',\n",
       "       'Transcriptome profiling of sorted endoreduplicated nuclei from mature-green tomato fruits',\n",
       "       'A wild barley accession WB-1 and a barley cultivar Golden Promise Raw sequence reads',\n",
       "       'Detection and characterisation of circular RNAs (circRNAs) in plants by multiple displacement amplification (MDA)',\n",
       "       'Solanum lycopersicum cultivar:M82 Transcriptome or Gene expression',\n",
       "       'Detection of extrachromosomal linear DNAs of LTR retrotransposons by ALE-seq',\n",
       "       'Small RNA sequncing of Wheat infected by Zymoseptoria tritici during the infection cycle',\n",
       "       'Hordeum vulgare Genome sequencing',\n",
       "       'Small RNA sequencing and degradome analysis of radish root',\n",
       "       'Small RNA sequencing data in response to  Brassinosteroid treatment  of A. thaliana root and shoot tissues',\n",
       "       'sugarcane centromere study using ChIP-seq',\n",
       "       'Regulatory networks of gene expression in maize (Zea mays) under drought stress and re-watering',\n",
       "       'Circular RNA sequencing',\n",
       "       'Medicago sativa L. Raw sequence reads obtained from Genotyping-by-Sequencing',\n",
       "       'Gossypium hirsutum',\n",
       "       'studies of small RNAs on wild banana  (Musa itinerans)  response to cold stress',\n",
       "       'small rna sequencing  in Rhododendron arboreum',\n",
       "       'Transcriptome and sRNAome sequencing',\n",
       "       'Triticum aestivum Raw sequence reads',\n",
       "       'Brachypodium distachyon centromere study',\n",
       "       'Deep sequencing of small RNA fraction isolated from strawberry, raspberry and Ribes sp., and from tobacco plants infected with different infectious clones of Potato virus A and Potato virus Y.',\n",
       "       'Degradome sequencing',\n",
       "       'Morus alba var. multicaulis Transcriptome or Gene expression',\n",
       "       'viromic study of P70 accession grapevine',\n",
       "       'Theobroma cacao Raw sequence reads',\n",
       "       'Arabidopsis thaliana Epigenomics',\n",
       "       'Eucalyptus grandis Raw sequence reads',\n",
       "       'Brassica napus Transcriptome or Gene expression',\n",
       "       'Oryza sativa Epigenomics',\n",
       "       'MiSEQ data of wheat chloroplast genomes from 16 diverse genotypes',\n",
       "       'MBD sequencing(Lan, PLoS ONE, 2011) Analysis of Hwaseonchal-byeo, stage of seed development and heading date + 21days using Illumina HiSeq 2000',\n",
       "       '16S rRNA sequence database of the bacterial community of several raw eaten cruficerous vegetables',\n",
       "       'triticum aestivum Chloroplast genome sequencing',\n",
       "       'BS-seq and RNA-seq of different apple peels',\n",
       "       'Transcriptome profiling of the urb2 mutant',\n",
       "       'Viridiplantae environmental sample',\n",
       "       'GBS sequencing of a perennial sunflower mapping population',\n",
       "       'Brassica hybrid  sequencing',\n",
       "       'Hydrogen peroxide-responsive miRNAs and their targets in wheat',\n",
       "       'Cotton introgression lines  raw sequence reads',\n",
       "       'KNOT mediated silencing - transgenes silencing mediated by 3D chromosome conformational changes',\n",
       "       'Apomictic and sexual ovules of Boechera display heterochronic global gene expression patterns',\n",
       "       'Full-length multi-barcoding of ShenMaiSan and ShanJiSan',\n",
       "       'Paulownia tomentosa Raw sequence reads',\n",
       "       'Arabidopsis Small RNARaw sequence reads',\n",
       "       'Effects of antimicrobial peptide expression on the root microbiota of field-grown Nicotiana attenuata plants',\n",
       "       'Saccharum officinarum Raw sequence reads',\n",
       "       'Thermoresponive small RNAs in Arabidopsis thalinana',\n",
       "       'Avena chloroplast sequencing and assembly',\n",
       "       'Pathogenic Seedborne Viruses Are Rare but Phaseolus vulgaris Endornaviruses Are Common in Bean Varieties Grown in Nicaragua and Tanzania',\n",
       "       'Beta vulgaris Raw sequence reads',\n",
       "       'Global studies of miR021b function in wheat',\n",
       "       'Oryza sativa Genome sequencing',\n",
       "       'DNase I-seq on developing seeds',\n",
       "       'Solanum americanum clone 954750186 Nanopore resistance-gene enrichment sequencing (RenSeq).',\n",
       "       'Camellia sinensis Raw sequence reads',\n",
       "       'A genome-wide transcriptome and translatome analysis of Arabidopsis transposons identifies a unique and conserved genome expression strategy for Ty1/Copia retroelements',\n",
       "       'miRNAseq in clusterbean for five different tissues',\n",
       "       'Phoenix dactylifera cultivar:Khalas Epigenomics',\n",
       "       'Fragaria x ananassa Variation',\n",
       "       'TYLCV- susceptible breeding line TMXA48-4-0 (S) small RNA sequencing reads',\n",
       "       'TYLCV-resistant breeding line CLN2777A (R) small RNA raw sequence reads with TYLCV infection',\n",
       "       'Solanum lycopersicum L. circRNA-seq',\n",
       "       'Orazy sativa Raw sequence reads',\n",
       "       'Genetic to epigenetic switch in the flexible sex determination system of polyploid persimmon',\n",
       "       'Genome-wide identification of non-coding RNAs targeted by XRN exoribonucleases in collaboration with FRY1 using RNA-Seq in Arabidopsis thaliana.',\n",
       "       'Crocus sativus chromosome triplets 1 and 2 sequence reads',\n",
       "       'ALF: A novel genome walking for detection of unknown/unauthorised genetically modified organisms (UGMOs)',\n",
       "       'Global studies of eIF5B function in Arabidopsis',\n",
       "       'MiR319, miR390, and miR393 are involved in aluminum response of flax (Linum usitatissimum L.)',\n",
       "       'Brassica oleracea var. capitata Transcriptome or Gene expression',\n",
       "       'Exome capture sequencing of 96 winter and spring barley cultivars for the analysis of genome-wide haplotype diversity',\n",
       "       'ATAC-seq on Col-0 and Bur-0 strains of Arabidopsis thaliana',\n",
       "       'global studies of microbial diversity in the digestive tract of murray cod Raw sequence reads',\n",
       "       'Solanum lycopersicum Raw sequence reads',\n",
       "       'microRNAs in wild and cultivar genotypes of cardamom',\n",
       "       'Drought responsive microRNAs in cardamom',\n",
       "       'Picea likiangensis var. rubescens Transcriptome or Gene expression',\n",
       "       'A genetic screen for impaired systemic spreading of PTGS in Arabidopsis',\n",
       "       'Sequencing of Aegilops markgrafii, a diploid wild relative of wheat',\n",
       "       'Noncanonical Alternative Polyadenylation Contributes to Gene Regulation in Response to Hypoxia',\n",
       "       'The profile of Verticillium dahliae small RNAs that load into Arabidopsis Argonaute 1 (AGO1) or AGO2 protein during inoculation',\n",
       "       '454_no_MTP_BACs', 'Zea mays cultivar:B73 Raw sequence reads',\n",
       "       'hydrogen influence on proembryogenic mass of Larix leptolepis Raw sequence reads',\n",
       "       'Arabidopsis thaliana Raw sequence reads', 'Raw sequence reads',\n",
       "       'NGS-based PCR barcodes using rbcL and ITS2 markers',\n",
       "       'Triticum aestivum cultivar:JM 22 Transcriptome or Gene expression',\n",
       "       'Zea mays subsp. mays Raw sequence reads',\n",
       "       'Osmanthus fragrans Raw sequence reads',\n",
       "       'Agave americana Genome sequencing and assembly',\n",
       "       'Genome wide small RNA sequencing of heat tolerant and susceptible rice genotypes during short and long duration of heat stress and recovery',\n",
       "       'Solanum torvum Raw sequence reads',\n",
       "       'Oryza sativa Indica Group Raw sequence reads',\n",
       "       'ChIPseq of Arabidopsis SARD1', 'BioClay Project',\n",
       "       'Characterization of diallelic SNP loci via a reduced-representation Genotyping-by-Sequencing (GBS) approach, to investigate fine-scale population genetic structure across the native range of Ambrosia artemisiifolia L.',\n",
       "       'Ananas comosus var. bracteatus Raw sequence reads',\n",
       "       'Fine-mapping of the CcRpp1 locus in Cajanus cajan',\n",
       "       'The sequences were from HiSeq2000 for testing the genome sequencing method of Feature Sets-based Genome Mapping.',\n",
       "       'Nelumbo nucifera breed:China Antique Transcriptome or Gene expression',\n",
       "       'Pyrus pyrifolia cultivar:Kosui Transcriptome or Gene expression',\n",
       "       'Cajanus cajan cultivar:ICPL 15011 Genome sequencing and assembly',\n",
       "       'Brachypodium distachyon strain:Bd21 Raw sequence reads',\n",
       "       \"Ziziphus jujuba 'Junzao' genome sequencing and assembly\",\n",
       "       'short RNA reads from Li1 and Li2 short fiber cell mutants of Gossypium hirsutum',\n",
       "       'Brassica oleracea var. botrytis Raw sequence reads',\n",
       "       'RNA-seq analysis to investigate the downstream genes of EXB1 in Arabidopsis',\n",
       "       'Glycine max Raw sequence reads',\n",
       "       'Citrus reticulata Raw sequence reads',\n",
       "       'Nicotiana benthamiana strain:Infected with Polygonum ringspot virus isolate Raw sequence reads',\n",
       "       'The KH domain protein RCF3 is a tissue-specific regulator of the plant miRNA biogenesis cofactor HYL1',\n",
       "       'Arachis hypogaea Raw sequence reads',\n",
       "       'Pinus densiflora Raw sequence reads',\n",
       "       'Raw data of transcriptome sequencing and small RNAs sequencing in Brassica rapa subsp. pekinensis',\n",
       "       'Ogura-CMS sterile line (Tyms) and its maintainer line (231-330) of Chinese cabbage transcriptome',\n",
       "       'Zea mays cultivar:Hi-Type II Raw sequence reads',\n",
       "       'CENH3 ChIP-sequencing (CENH3-ChIPseq) from Rhynchospora pubera leaves',\n",
       "       'Plants release precursors of potent histone deacetylase inhibitors to suppress growth of competitors',\n",
       "       'The chromatin landscape of the barley genome reveals unexpected genome-level features linked with H3K27me3 and the distributions of transposable element families',\n",
       "       'Suaeda maritima', 'Marchantia polymorpha Raw sequence reads',\n",
       "       'High-throughput sequencing of protists in the sea surface',\n",
       "       'Detected and quantified siRNAs in ripe fruits of S. lycopersicum (cv. M82), S. pennellii (LA716) and IL9-2-6-1 cultivated under greenhouse conditions and in ripe fruits of S. lycopersicum (cv. M82) from a field trial.',\n",
       "       'The impact of the pathogen Rhizoctonia solani and its beneficial counterpart Bacillus amyloliquefaciens on the indigenous lettuce microbiome',\n",
       "       'Detected and quantified siRNAs targeting VTE3(1) loci in ripe fruits of S. lycopersicum (cv. M82), S. pennellii (LA716) and IL9-2-6-1',\n",
       "       'Raw RAD-seq data of Diapensia',\n",
       "       'Triticum aestivum cultivar:Chinese Spring Raw sequence reads',\n",
       "       'Beckmannia syzigachne Assembly', 'Fungi Raw sequence reads',\n",
       "       'Polygonum ringspot virus Raw sequence reads',\n",
       "       'Arabidopsis thaliana strain:Col Transcriptome or Gene expression',\n",
       "       'Species belonging to Cynara genus',\n",
       "       'Cynara cardunculus var. scolymus strain:Brindisino Genome sequencing',\n",
       "       'axiom 820K array Triticum aestivum',\n",
       "       'Musa balbisiana strain:Colla Raw sequence reads',\n",
       "       'Vlaspik and PI 197088 cucumbers inoculated with Pseudoperonospora cubensis (MSU-1) raw sequence reads',\n",
       "       'Pyrus x bretschneideri Raw sequence reads',\n",
       "       'degradome sequencing raw sequence reads of Populus tomentosa  under cold',\n",
       "       'Sequencing of HVVMRXALLeA0131P08 BAC',\n",
       "       'low nitrogen stress Raw sequence reads',\n",
       "       'Arabidopsis Genetic Variation, part of 1001 genomes project',\n",
       "       'Platanus x hispanica Raw sequence reads',\n",
       "       'Tomato spotted wilt virus infected Nicotiana benthamiana',\n",
       "       'Diospyros kaki cultivar:Eshi No. 1 Transcriptome or Gene expression',\n",
       "       'Integration of Developmental and Environmental Signals via a Polyadenylation Factor in Arabidopsis',\n",
       "       'Primula veris', 'Hevea brasiliensis',\n",
       "       'Eucalyptus camaldulensis; Eucalyptus tereticornis; Eucalyptus grandis-Targeted Locus (Loci)',\n",
       "       'Nicotiana benthamiana Transcriptome or Gene expression',\n",
       "       '454 Sequencing of Taxus cuspidata (Japanese Yew) transcriptome from cultured cambial meristematic cells',\n",
       "       'CPL phosphatases as plant miRNA-processing regulators - sRNA reads',\n",
       "       'Funaria hygrometrica sporophyte/gametophyte gene expression',\n",
       "       'small RNA sequencing in developing pollen of Oryza sativa',\n",
       "       'Cleome gynandra leaf development RNA-seq',\n",
       "       'Novel exon splicing junctions and novel transcriptional active regions in Oryza sativa',\n",
       "       'Changes in rhizosphere bacterial community of soybean during the growth in the field',\n",
       "       'Hevea brasiliensis subsp. brasiliensis strain:clone RRIM 600 Transcriptome or Gene expression',\n",
       "       'Nicotiana benthamiana Clone ends', 'ZB small RNA sequencing',\n",
       "       'cherry and Prunus necrotic ring spot virus (PNRSV)',\n",
       "       'Taxus wallichiana var. chinensis Transcriptome or Gene expression',\n",
       "       'Medicago truncatula strain:Jemalong A17 Transcriptome or Gene expression',\n",
       "       'Identification of novel sugarcane viruses through high-throughput sequencing',\n",
       "       'Triticum aestivum', 'Oryza sativa strain:Kitaake',\n",
       "       'Sequencing of Barley BACs mapped to rym11 locus',\n",
       "       'Solanum tuberosum',\n",
       "       'Populus simonii × Populus nigra Transcriptome or Gene expression',\n",
       "       'Maize single base resolution methylome in B73 and Mo17 inbred line and their reciprocal hybrid',\n",
       "       'Endophytic bacterial communities of field-grown Nicotiana attenuata plants are influenced by tissues and independent of ontogeny and JA-signaling capacities',\n",
       "       'polyA RNA sequencing of 7d old Arabidopsis thaliana seedlings',\n",
       "       'Atypical DNA methylation of genes encoding cysteine-rich peptides in Arabidopsis thaliana',\n",
       "       'Lagenaria siceraria RAD-Seq project',\n",
       "       'Transcriptome Analyses of Reniform Nematode Pathogen Infection',\n",
       "       'Tetraploid Cotton and Diploid Progenitor Survey Sequencing of Genomic DNA, Total RNA and Small RNA',\n",
       "       'An investigation on the response of living conifer tissues to saprotrophic Phlebiopsis gigantea and its potential to acquire necrotrophic capability',\n",
       "       'cotton Gene expression profiles deciphering leaf senescence variation between early- and late-senescence cotton lines',\n",
       "       'BBSRC_Waugh_BarleyRNAseq', 'Zea mays Targeted Locus (Loci)',\n",
       "       'Triticum aestivum strain:HD2985, HD2329 Transcriptome or Gene expression',\n",
       "       'Setaria italica',\n",
       "       'Transcriptome Analysis of Suli Pear (Pyrus pyrifolia white pear group) Bud Dormancy by RNA-Seq',\n",
       "       'sRNA annotation Research',\n",
       "       'High resolution genetic mapping by genome sequencing reveals genome duplication and tetraploid genetic structure of the diploid Miscanthus sinensis',\n",
       "       'Development of high-density genetic maps for barley and wheat using a novel two-enzyme genotyping-by-sequencing approach.',\n",
       "       'Genomic diversity in switchgrass (Panicum virgatum): from the continental scale to a dune landscape',\n",
       "       'CLOTU: An online pipeline for processing and clustering of 454 amplicon reads into OTUs followed by taxonomic annotation.',\n",
       "       'De novo assembled expressed gene catalog of a fast-growing Eucalyptus plantation tree produced by Illumina mRNA-Seq',\n",
       "       'High-throughput sequencing of Hop stunt viroid-derived small RNAs from cucumber leaves and phloem',\n",
       "       'An Expression Alteration of Small RNA Profiling in Autotriploids Derived from Rice Twin-Seedlings',\n",
       "       'Novel microRNAs uncovered by deep sequencing of small RNA transcriptomes in T. aestivum and B. distachyon',\n",
       "       'Vitis vinifera pn40024 small RNA sequencing',\n",
       "       'High-throughput sequencing of small RNAs in Medicago truncatula',\n",
       "       'AGO1-dependent Small RNA in Arabidopsis Identified by High-Throughput Sequencing',\n",
       "       'A link between RNA metabolism and silencing affecting Arabidopsis development'],\n",
       "      dtype=object)"
      ]
     },
     "execution_count": 51,
     "metadata": {},
     "output_type": "execute_result"
    }
   ],
   "source": [
    "# explore further the 'other'. Do titles sound like something we want?\n",
    "allsra[allsra['Library Source'] == 'OTHER']['Study Title'].unique() # looks too technicall for what we need"
   ]
  },
  {
   "cell_type": "code",
   "execution_count": 52,
   "metadata": {
    "ExecuteTime": {
     "end_time": "2021-05-12T14:51:48.349252Z",
     "start_time": "2021-05-12T14:51:47.547108Z"
    }
   },
   "outputs": [
    {
     "name": "stdout",
     "output_type": "stream",
     "text": [
      "735364\n"
     ]
    },
    {
     "data": {
      "text/plain": [
       "array(['WGS', 'Targeted-Capture', 'Hi-C', 'OTHER', 'RAD-Seq', 'RNA-Seq',\n",
       "       'ChIP-Seq', 'GBS', 'WGA', 'WXS', 'Bisulfite-Seq', 'AMPLICON',\n",
       "       'DNase-Hypersensitivity', 'MRE-Seq', 'MNase-Seq', 'ATAC-seq',\n",
       "       'MBD-Seq', 'FL-cDNA', 'RIP-Seq', 'miRNA-Seq', 'CLONE',\n",
       "       'Tethered Chromatin Conformation Capture', 'WCS', 'FAIRE-seq',\n",
       "       'Synthetic-Long-Read', 'MeDIP-Seq', 'CLONEEND', 'POOLCLONE',\n",
       "       'FINISHING', 'EST', 'Tn-Seq', 'ChIA-PET', 'ChIP', 'other'],\n",
       "      dtype=object)"
      ]
     },
     "execution_count": 52,
     "metadata": {},
     "output_type": "execute_result"
    }
   ],
   "source": [
    "# filtering and limiting to 'genomic'\n",
    "genomesra = allsra[allsra['Library Source'] == 'GENOMIC']\n",
    "# print length of filtered dataframe\n",
    "print(len(genomesra))\n",
    "# unique types of library strategy\n",
    "genomesra['Library Strategy'].unique()"
   ]
  },
  {
   "cell_type": "code",
   "execution_count": 53,
   "metadata": {
    "ExecuteTime": {
     "end_time": "2021-05-12T14:51:49.349927Z",
     "start_time": "2021-05-12T14:51:49.304427Z"
    }
   },
   "outputs": [
    {
     "data": {
      "text/html": [
       "<div>\n",
       "<style scoped>\n",
       "    .dataframe tbody tr th:only-of-type {\n",
       "        vertical-align: middle;\n",
       "    }\n",
       "\n",
       "    .dataframe tbody tr th {\n",
       "        vertical-align: top;\n",
       "    }\n",
       "\n",
       "    .dataframe thead th {\n",
       "        text-align: right;\n",
       "    }\n",
       "</style>\n",
       "<table border=\"1\" class=\"dataframe\">\n",
       "  <thead>\n",
       "    <tr style=\"text-align: right;\">\n",
       "      <th></th>\n",
       "      <th>Experiment Accession</th>\n",
       "      <th>Experiment Title</th>\n",
       "      <th>Organism Name</th>\n",
       "      <th>Instrument</th>\n",
       "      <th>Submitter</th>\n",
       "      <th>Study Accession</th>\n",
       "      <th>Study Title</th>\n",
       "      <th>Sample Accession</th>\n",
       "      <th>Sample Title</th>\n",
       "      <th>Total Size, Mb</th>\n",
       "      <th>Total RUNs</th>\n",
       "      <th>Total Spots</th>\n",
       "      <th>Total Bases</th>\n",
       "      <th>Library Name</th>\n",
       "      <th>Library Strategy</th>\n",
       "      <th>Library Source</th>\n",
       "      <th>Library Selection</th>\n",
       "    </tr>\n",
       "  </thead>\n",
       "  <tbody>\n",
       "    <tr>\n",
       "      <td>118</td>\n",
       "      <td>SRX10508039</td>\n",
       "      <td>Angiosperms 353 target capture of Castilleja c...</td>\n",
       "      <td>Castilleja citrina</td>\n",
       "      <td>NextSeq 500</td>\n",
       "      <td>Northwestern University</td>\n",
       "      <td>SRP313302</td>\n",
       "      <td>Range-wide sampling of Castilleja sessiliflora...</td>\n",
       "      <td>SRS8632265</td>\n",
       "      <td>NaN</td>\n",
       "      <td>281.41</td>\n",
       "      <td>1</td>\n",
       "      <td>2125445.0</td>\n",
       "      <td>6.376335e+08</td>\n",
       "      <td>CFC-9</td>\n",
       "      <td>Targeted-Capture</td>\n",
       "      <td>GENOMIC</td>\n",
       "      <td>Hybrid Selection</td>\n",
       "    </tr>\n",
       "    <tr>\n",
       "      <td>119</td>\n",
       "      <td>SRX10508038</td>\n",
       "      <td>Angiosperms 353 target capture of Castilleja c...</td>\n",
       "      <td>Castilleja citrina</td>\n",
       "      <td>NextSeq 500</td>\n",
       "      <td>Northwestern University</td>\n",
       "      <td>SRP313302</td>\n",
       "      <td>Range-wide sampling of Castilleja sessiliflora...</td>\n",
       "      <td>SRS8632264</td>\n",
       "      <td>NaN</td>\n",
       "      <td>432.05</td>\n",
       "      <td>1</td>\n",
       "      <td>3247805.0</td>\n",
       "      <td>9.743415e+08</td>\n",
       "      <td>CED-3</td>\n",
       "      <td>Targeted-Capture</td>\n",
       "      <td>GENOMIC</td>\n",
       "      <td>Hybrid Selection</td>\n",
       "    </tr>\n",
       "    <tr>\n",
       "      <td>120</td>\n",
       "      <td>SRX10508037</td>\n",
       "      <td>Angiosperms 353 target capture of Castilleja s...</td>\n",
       "      <td>Castilleja sessiliflora</td>\n",
       "      <td>NextSeq 500</td>\n",
       "      <td>Northwestern University</td>\n",
       "      <td>SRP313302</td>\n",
       "      <td>Range-wide sampling of Castilleja sessiliflora...</td>\n",
       "      <td>SRS8632263</td>\n",
       "      <td>NaN</td>\n",
       "      <td>120.95</td>\n",
       "      <td>1</td>\n",
       "      <td>910689.0</td>\n",
       "      <td>2.732067e+08</td>\n",
       "      <td>SWC-5</td>\n",
       "      <td>Targeted-Capture</td>\n",
       "      <td>GENOMIC</td>\n",
       "      <td>Hybrid Selection</td>\n",
       "    </tr>\n",
       "    <tr>\n",
       "      <td>121</td>\n",
       "      <td>SRX10508036</td>\n",
       "      <td>Angiosperms 353 target capture of Castilleja s...</td>\n",
       "      <td>Castilleja sessiliflora</td>\n",
       "      <td>NextSeq 500</td>\n",
       "      <td>Northwestern University</td>\n",
       "      <td>SRP313302</td>\n",
       "      <td>Range-wide sampling of Castilleja sessiliflora...</td>\n",
       "      <td>SRS8632262</td>\n",
       "      <td>NaN</td>\n",
       "      <td>189.54</td>\n",
       "      <td>1</td>\n",
       "      <td>1434460.0</td>\n",
       "      <td>4.303380e+08</td>\n",
       "      <td>SPB-11</td>\n",
       "      <td>Targeted-Capture</td>\n",
       "      <td>GENOMIC</td>\n",
       "      <td>Hybrid Selection</td>\n",
       "    </tr>\n",
       "    <tr>\n",
       "      <td>122</td>\n",
       "      <td>SRX10508035</td>\n",
       "      <td>Angiosperms 353 target capture of Castilleja c...</td>\n",
       "      <td>Castilleja citrina</td>\n",
       "      <td>NextSeq 500</td>\n",
       "      <td>Northwestern University</td>\n",
       "      <td>SRP313302</td>\n",
       "      <td>Range-wide sampling of Castilleja sessiliflora...</td>\n",
       "      <td>SRS8632261</td>\n",
       "      <td>NaN</td>\n",
       "      <td>281.53</td>\n",
       "      <td>1</td>\n",
       "      <td>2105885.0</td>\n",
       "      <td>6.317655e+08</td>\n",
       "      <td>CCCD-98</td>\n",
       "      <td>Targeted-Capture</td>\n",
       "      <td>GENOMIC</td>\n",
       "      <td>Hybrid Selection</td>\n",
       "    </tr>\n",
       "    <tr>\n",
       "      <td>...</td>\n",
       "      <td>...</td>\n",
       "      <td>...</td>\n",
       "      <td>...</td>\n",
       "      <td>...</td>\n",
       "      <td>...</td>\n",
       "      <td>...</td>\n",
       "      <td>...</td>\n",
       "      <td>...</td>\n",
       "      <td>...</td>\n",
       "      <td>...</td>\n",
       "      <td>...</td>\n",
       "      <td>...</td>\n",
       "      <td>...</td>\n",
       "      <td>...</td>\n",
       "      <td>...</td>\n",
       "      <td>...</td>\n",
       "      <td>...</td>\n",
       "    </tr>\n",
       "    <tr>\n",
       "      <td>876574</td>\n",
       "      <td>ERX1365514</td>\n",
       "      <td>Illumina MiSeq paired end sequencing</td>\n",
       "      <td>Solanum okadae</td>\n",
       "      <td>Illumina MiSeq</td>\n",
       "      <td>NaN</td>\n",
       "      <td>ERP014354</td>\n",
       "      <td>Utilizing 'Omics' technologies to identify and...</td>\n",
       "      <td>ERS1066749</td>\n",
       "      <td>NaN</td>\n",
       "      <td>862.78</td>\n",
       "      <td>1</td>\n",
       "      <td>3683854.0</td>\n",
       "      <td>1.849295e+09</td>\n",
       "      <td>unspecified</td>\n",
       "      <td>Targeted-Capture</td>\n",
       "      <td>GENOMIC</td>\n",
       "      <td>other</td>\n",
       "    </tr>\n",
       "    <tr>\n",
       "      <td>876575</td>\n",
       "      <td>ERX1365513</td>\n",
       "      <td>Illumina MiSeq paired end sequencing</td>\n",
       "      <td>Solanum okadae</td>\n",
       "      <td>Illumina MiSeq</td>\n",
       "      <td>NaN</td>\n",
       "      <td>ERP014354</td>\n",
       "      <td>Utilizing 'Omics' technologies to identify and...</td>\n",
       "      <td>ERS1066748</td>\n",
       "      <td>NaN</td>\n",
       "      <td>470.01</td>\n",
       "      <td>1</td>\n",
       "      <td>1518349.0</td>\n",
       "      <td>7.890861e+08</td>\n",
       "      <td>unspecified</td>\n",
       "      <td>Targeted-Capture</td>\n",
       "      <td>GENOMIC</td>\n",
       "      <td>other</td>\n",
       "    </tr>\n",
       "    <tr>\n",
       "      <td>876576</td>\n",
       "      <td>ERX1365512</td>\n",
       "      <td>Illumina MiSeq paired end sequencing</td>\n",
       "      <td>Solanum okadae</td>\n",
       "      <td>Illumina MiSeq</td>\n",
       "      <td>NaN</td>\n",
       "      <td>ERP014354</td>\n",
       "      <td>Utilizing 'Omics' technologies to identify and...</td>\n",
       "      <td>ERS1066747</td>\n",
       "      <td>NaN</td>\n",
       "      <td>609.47</td>\n",
       "      <td>1</td>\n",
       "      <td>1814975.0</td>\n",
       "      <td>9.812422e+08</td>\n",
       "      <td>unspecified</td>\n",
       "      <td>Targeted-Capture</td>\n",
       "      <td>GENOMIC</td>\n",
       "      <td>other</td>\n",
       "    </tr>\n",
       "    <tr>\n",
       "      <td>876577</td>\n",
       "      <td>ERX1365511</td>\n",
       "      <td>Illumina MiSeq paired end sequencing</td>\n",
       "      <td>Solanum okadae</td>\n",
       "      <td>Illumina MiSeq</td>\n",
       "      <td>NaN</td>\n",
       "      <td>ERP014354</td>\n",
       "      <td>Utilizing 'Omics' technologies to identify and...</td>\n",
       "      <td>ERS1066746</td>\n",
       "      <td>NaN</td>\n",
       "      <td>616.72</td>\n",
       "      <td>1</td>\n",
       "      <td>2742300.0</td>\n",
       "      <td>1.376635e+09</td>\n",
       "      <td>unspecified</td>\n",
       "      <td>Targeted-Capture</td>\n",
       "      <td>GENOMIC</td>\n",
       "      <td>other</td>\n",
       "    </tr>\n",
       "    <tr>\n",
       "      <td>876578</td>\n",
       "      <td>ERX1365510</td>\n",
       "      <td>Illumina MiSeq paired end sequencing</td>\n",
       "      <td>Solanum okadae</td>\n",
       "      <td>Illumina MiSeq</td>\n",
       "      <td>NaN</td>\n",
       "      <td>ERP014354</td>\n",
       "      <td>Utilizing 'Omics' technologies to identify and...</td>\n",
       "      <td>ERS1066745</td>\n",
       "      <td>NaN</td>\n",
       "      <td>709.57</td>\n",
       "      <td>1</td>\n",
       "      <td>3179448.0</td>\n",
       "      <td>1.596083e+09</td>\n",
       "      <td>unspecified</td>\n",
       "      <td>Targeted-Capture</td>\n",
       "      <td>GENOMIC</td>\n",
       "      <td>other</td>\n",
       "    </tr>\n",
       "  </tbody>\n",
       "</table>\n",
       "<p>24321 rows × 17 columns</p>\n",
       "</div>"
      ],
      "text/plain": [
       "       Experiment Accession  \\\n",
       "118             SRX10508039   \n",
       "119             SRX10508038   \n",
       "120             SRX10508037   \n",
       "121             SRX10508036   \n",
       "122             SRX10508035   \n",
       "...                     ...   \n",
       "876574           ERX1365514   \n",
       "876575           ERX1365513   \n",
       "876576           ERX1365512   \n",
       "876577           ERX1365511   \n",
       "876578           ERX1365510   \n",
       "\n",
       "                                         Experiment Title  \\\n",
       "118     Angiosperms 353 target capture of Castilleja c...   \n",
       "119     Angiosperms 353 target capture of Castilleja c...   \n",
       "120     Angiosperms 353 target capture of Castilleja s...   \n",
       "121     Angiosperms 353 target capture of Castilleja s...   \n",
       "122     Angiosperms 353 target capture of Castilleja c...   \n",
       "...                                                   ...   \n",
       "876574               Illumina MiSeq paired end sequencing   \n",
       "876575               Illumina MiSeq paired end sequencing   \n",
       "876576               Illumina MiSeq paired end sequencing   \n",
       "876577               Illumina MiSeq paired end sequencing   \n",
       "876578               Illumina MiSeq paired end sequencing   \n",
       "\n",
       "                  Organism Name      Instrument                Submitter  \\\n",
       "118          Castilleja citrina     NextSeq 500  Northwestern University   \n",
       "119          Castilleja citrina     NextSeq 500  Northwestern University   \n",
       "120     Castilleja sessiliflora     NextSeq 500  Northwestern University   \n",
       "121     Castilleja sessiliflora     NextSeq 500  Northwestern University   \n",
       "122          Castilleja citrina     NextSeq 500  Northwestern University   \n",
       "...                         ...             ...                      ...   \n",
       "876574           Solanum okadae  Illumina MiSeq                      NaN   \n",
       "876575           Solanum okadae  Illumina MiSeq                      NaN   \n",
       "876576           Solanum okadae  Illumina MiSeq                      NaN   \n",
       "876577           Solanum okadae  Illumina MiSeq                      NaN   \n",
       "876578           Solanum okadae  Illumina MiSeq                      NaN   \n",
       "\n",
       "       Study Accession                                        Study Title  \\\n",
       "118          SRP313302  Range-wide sampling of Castilleja sessiliflora...   \n",
       "119          SRP313302  Range-wide sampling of Castilleja sessiliflora...   \n",
       "120          SRP313302  Range-wide sampling of Castilleja sessiliflora...   \n",
       "121          SRP313302  Range-wide sampling of Castilleja sessiliflora...   \n",
       "122          SRP313302  Range-wide sampling of Castilleja sessiliflora...   \n",
       "...                ...                                                ...   \n",
       "876574       ERP014354  Utilizing 'Omics' technologies to identify and...   \n",
       "876575       ERP014354  Utilizing 'Omics' technologies to identify and...   \n",
       "876576       ERP014354  Utilizing 'Omics' technologies to identify and...   \n",
       "876577       ERP014354  Utilizing 'Omics' technologies to identify and...   \n",
       "876578       ERP014354  Utilizing 'Omics' technologies to identify and...   \n",
       "\n",
       "       Sample Accession Sample Title  Total Size, Mb  Total RUNs  Total Spots  \\\n",
       "118          SRS8632265          NaN          281.41           1    2125445.0   \n",
       "119          SRS8632264          NaN          432.05           1    3247805.0   \n",
       "120          SRS8632263          NaN          120.95           1     910689.0   \n",
       "121          SRS8632262          NaN          189.54           1    1434460.0   \n",
       "122          SRS8632261          NaN          281.53           1    2105885.0   \n",
       "...                 ...          ...             ...         ...          ...   \n",
       "876574       ERS1066749          NaN          862.78           1    3683854.0   \n",
       "876575       ERS1066748          NaN          470.01           1    1518349.0   \n",
       "876576       ERS1066747          NaN          609.47           1    1814975.0   \n",
       "876577       ERS1066746          NaN          616.72           1    2742300.0   \n",
       "876578       ERS1066745          NaN          709.57           1    3179448.0   \n",
       "\n",
       "         Total Bases Library Name  Library Strategy Library Source  \\\n",
       "118     6.376335e+08        CFC-9  Targeted-Capture        GENOMIC   \n",
       "119     9.743415e+08        CED-3  Targeted-Capture        GENOMIC   \n",
       "120     2.732067e+08        SWC-5  Targeted-Capture        GENOMIC   \n",
       "121     4.303380e+08       SPB-11  Targeted-Capture        GENOMIC   \n",
       "122     6.317655e+08      CCCD-98  Targeted-Capture        GENOMIC   \n",
       "...              ...          ...               ...            ...   \n",
       "876574  1.849295e+09  unspecified  Targeted-Capture        GENOMIC   \n",
       "876575  7.890861e+08  unspecified  Targeted-Capture        GENOMIC   \n",
       "876576  9.812422e+08  unspecified  Targeted-Capture        GENOMIC   \n",
       "876577  1.376635e+09  unspecified  Targeted-Capture        GENOMIC   \n",
       "876578  1.596083e+09  unspecified  Targeted-Capture        GENOMIC   \n",
       "\n",
       "       Library Selection  \n",
       "118     Hybrid Selection  \n",
       "119     Hybrid Selection  \n",
       "120     Hybrid Selection  \n",
       "121     Hybrid Selection  \n",
       "122     Hybrid Selection  \n",
       "...                  ...  \n",
       "876574             other  \n",
       "876575             other  \n",
       "876576             other  \n",
       "876577             other  \n",
       "876578             other  \n",
       "\n",
       "[24321 rows x 17 columns]"
      ]
     },
     "execution_count": 53,
     "metadata": {},
     "output_type": "execute_result"
    }
   ],
   "source": [
    "# strategy = ['WGS', 'Targeted-Capture', 'OTHER', 'RAD-Seq', 'ChIP-Seq', 'GBS', 'WGA','WXS','AMPLICON','WCS','other']\n",
    "# filtering and limiting to target sequence data\n",
    "strategy = ['Targeted-Capture']\n",
    "# create new filtered dataframe\n",
    "genomesra1 = genomesra[genomesra['Library Strategy'].isin(strategy)]\n",
    "genomesra1"
   ]
  },
  {
   "cell_type": "code",
   "execution_count": 54,
   "metadata": {
    "ExecuteTime": {
     "end_time": "2021-05-12T14:51:51.483187Z",
     "start_time": "2021-05-12T14:51:51.474176Z"
    }
   },
   "outputs": [
    {
     "data": {
      "text/plain": [
       "array(['Hybrid Selection', 'RANDOM', 'other', 'unspecified',\n",
       "       'Reduced Representation', 'PCR', 'padlock probes capture method',\n",
       "       'Restriction Digest', 'size fractionation'], dtype=object)"
      ]
     },
     "execution_count": 54,
     "metadata": {},
     "output_type": "execute_result"
    }
   ],
   "source": [
    "# print unique library selection types\n",
    "genomesra1['Library Selection'].unique()"
   ]
  },
  {
   "cell_type": "code",
   "execution_count": 55,
   "metadata": {
    "ExecuteTime": {
     "end_time": "2021-05-12T14:51:53.318322Z",
     "start_time": "2021-05-12T14:51:53.285416Z"
    }
   },
   "outputs": [
    {
     "data": {
      "text/html": [
       "<div>\n",
       "<style scoped>\n",
       "    .dataframe tbody tr th:only-of-type {\n",
       "        vertical-align: middle;\n",
       "    }\n",
       "\n",
       "    .dataframe tbody tr th {\n",
       "        vertical-align: top;\n",
       "    }\n",
       "\n",
       "    .dataframe thead th {\n",
       "        text-align: right;\n",
       "    }\n",
       "</style>\n",
       "<table border=\"1\" class=\"dataframe\">\n",
       "  <thead>\n",
       "    <tr style=\"text-align: right;\">\n",
       "      <th></th>\n",
       "      <th>Experiment Accession</th>\n",
       "      <th>Experiment Title</th>\n",
       "      <th>Organism Name</th>\n",
       "      <th>Instrument</th>\n",
       "      <th>Submitter</th>\n",
       "      <th>Study Accession</th>\n",
       "      <th>Study Title</th>\n",
       "      <th>Sample Accession</th>\n",
       "      <th>Sample Title</th>\n",
       "      <th>Total Size, Mb</th>\n",
       "      <th>Total RUNs</th>\n",
       "      <th>Total Spots</th>\n",
       "      <th>Total Bases</th>\n",
       "      <th>Library Name</th>\n",
       "      <th>Library Strategy</th>\n",
       "      <th>Library Source</th>\n",
       "      <th>Library Selection</th>\n",
       "    </tr>\n",
       "  </thead>\n",
       "  <tbody>\n",
       "    <tr>\n",
       "      <td>118</td>\n",
       "      <td>SRX10508039</td>\n",
       "      <td>Angiosperms 353 target capture of Castilleja c...</td>\n",
       "      <td>Castilleja citrina</td>\n",
       "      <td>NextSeq 500</td>\n",
       "      <td>Northwestern University</td>\n",
       "      <td>SRP313302</td>\n",
       "      <td>Range-wide sampling of Castilleja sessiliflora...</td>\n",
       "      <td>SRS8632265</td>\n",
       "      <td>NaN</td>\n",
       "      <td>281.41</td>\n",
       "      <td>1</td>\n",
       "      <td>2125445.0</td>\n",
       "      <td>6.376335e+08</td>\n",
       "      <td>CFC-9</td>\n",
       "      <td>Targeted-Capture</td>\n",
       "      <td>GENOMIC</td>\n",
       "      <td>Hybrid Selection</td>\n",
       "    </tr>\n",
       "    <tr>\n",
       "      <td>119</td>\n",
       "      <td>SRX10508038</td>\n",
       "      <td>Angiosperms 353 target capture of Castilleja c...</td>\n",
       "      <td>Castilleja citrina</td>\n",
       "      <td>NextSeq 500</td>\n",
       "      <td>Northwestern University</td>\n",
       "      <td>SRP313302</td>\n",
       "      <td>Range-wide sampling of Castilleja sessiliflora...</td>\n",
       "      <td>SRS8632264</td>\n",
       "      <td>NaN</td>\n",
       "      <td>432.05</td>\n",
       "      <td>1</td>\n",
       "      <td>3247805.0</td>\n",
       "      <td>9.743415e+08</td>\n",
       "      <td>CED-3</td>\n",
       "      <td>Targeted-Capture</td>\n",
       "      <td>GENOMIC</td>\n",
       "      <td>Hybrid Selection</td>\n",
       "    </tr>\n",
       "    <tr>\n",
       "      <td>120</td>\n",
       "      <td>SRX10508037</td>\n",
       "      <td>Angiosperms 353 target capture of Castilleja s...</td>\n",
       "      <td>Castilleja sessiliflora</td>\n",
       "      <td>NextSeq 500</td>\n",
       "      <td>Northwestern University</td>\n",
       "      <td>SRP313302</td>\n",
       "      <td>Range-wide sampling of Castilleja sessiliflora...</td>\n",
       "      <td>SRS8632263</td>\n",
       "      <td>NaN</td>\n",
       "      <td>120.95</td>\n",
       "      <td>1</td>\n",
       "      <td>910689.0</td>\n",
       "      <td>2.732067e+08</td>\n",
       "      <td>SWC-5</td>\n",
       "      <td>Targeted-Capture</td>\n",
       "      <td>GENOMIC</td>\n",
       "      <td>Hybrid Selection</td>\n",
       "    </tr>\n",
       "    <tr>\n",
       "      <td>121</td>\n",
       "      <td>SRX10508036</td>\n",
       "      <td>Angiosperms 353 target capture of Castilleja s...</td>\n",
       "      <td>Castilleja sessiliflora</td>\n",
       "      <td>NextSeq 500</td>\n",
       "      <td>Northwestern University</td>\n",
       "      <td>SRP313302</td>\n",
       "      <td>Range-wide sampling of Castilleja sessiliflora...</td>\n",
       "      <td>SRS8632262</td>\n",
       "      <td>NaN</td>\n",
       "      <td>189.54</td>\n",
       "      <td>1</td>\n",
       "      <td>1434460.0</td>\n",
       "      <td>4.303380e+08</td>\n",
       "      <td>SPB-11</td>\n",
       "      <td>Targeted-Capture</td>\n",
       "      <td>GENOMIC</td>\n",
       "      <td>Hybrid Selection</td>\n",
       "    </tr>\n",
       "    <tr>\n",
       "      <td>122</td>\n",
       "      <td>SRX10508035</td>\n",
       "      <td>Angiosperms 353 target capture of Castilleja c...</td>\n",
       "      <td>Castilleja citrina</td>\n",
       "      <td>NextSeq 500</td>\n",
       "      <td>Northwestern University</td>\n",
       "      <td>SRP313302</td>\n",
       "      <td>Range-wide sampling of Castilleja sessiliflora...</td>\n",
       "      <td>SRS8632261</td>\n",
       "      <td>NaN</td>\n",
       "      <td>281.53</td>\n",
       "      <td>1</td>\n",
       "      <td>2105885.0</td>\n",
       "      <td>6.317655e+08</td>\n",
       "      <td>CCCD-98</td>\n",
       "      <td>Targeted-Capture</td>\n",
       "      <td>GENOMIC</td>\n",
       "      <td>Hybrid Selection</td>\n",
       "    </tr>\n",
       "    <tr>\n",
       "      <td>...</td>\n",
       "      <td>...</td>\n",
       "      <td>...</td>\n",
       "      <td>...</td>\n",
       "      <td>...</td>\n",
       "      <td>...</td>\n",
       "      <td>...</td>\n",
       "      <td>...</td>\n",
       "      <td>...</td>\n",
       "      <td>...</td>\n",
       "      <td>...</td>\n",
       "      <td>...</td>\n",
       "      <td>...</td>\n",
       "      <td>...</td>\n",
       "      <td>...</td>\n",
       "      <td>...</td>\n",
       "      <td>...</td>\n",
       "      <td>...</td>\n",
       "    </tr>\n",
       "    <tr>\n",
       "      <td>876574</td>\n",
       "      <td>ERX1365514</td>\n",
       "      <td>Illumina MiSeq paired end sequencing</td>\n",
       "      <td>Solanum okadae</td>\n",
       "      <td>Illumina MiSeq</td>\n",
       "      <td>NaN</td>\n",
       "      <td>ERP014354</td>\n",
       "      <td>Utilizing 'Omics' technologies to identify and...</td>\n",
       "      <td>ERS1066749</td>\n",
       "      <td>NaN</td>\n",
       "      <td>862.78</td>\n",
       "      <td>1</td>\n",
       "      <td>3683854.0</td>\n",
       "      <td>1.849295e+09</td>\n",
       "      <td>unspecified</td>\n",
       "      <td>Targeted-Capture</td>\n",
       "      <td>GENOMIC</td>\n",
       "      <td>other</td>\n",
       "    </tr>\n",
       "    <tr>\n",
       "      <td>876575</td>\n",
       "      <td>ERX1365513</td>\n",
       "      <td>Illumina MiSeq paired end sequencing</td>\n",
       "      <td>Solanum okadae</td>\n",
       "      <td>Illumina MiSeq</td>\n",
       "      <td>NaN</td>\n",
       "      <td>ERP014354</td>\n",
       "      <td>Utilizing 'Omics' technologies to identify and...</td>\n",
       "      <td>ERS1066748</td>\n",
       "      <td>NaN</td>\n",
       "      <td>470.01</td>\n",
       "      <td>1</td>\n",
       "      <td>1518349.0</td>\n",
       "      <td>7.890861e+08</td>\n",
       "      <td>unspecified</td>\n",
       "      <td>Targeted-Capture</td>\n",
       "      <td>GENOMIC</td>\n",
       "      <td>other</td>\n",
       "    </tr>\n",
       "    <tr>\n",
       "      <td>876576</td>\n",
       "      <td>ERX1365512</td>\n",
       "      <td>Illumina MiSeq paired end sequencing</td>\n",
       "      <td>Solanum okadae</td>\n",
       "      <td>Illumina MiSeq</td>\n",
       "      <td>NaN</td>\n",
       "      <td>ERP014354</td>\n",
       "      <td>Utilizing 'Omics' technologies to identify and...</td>\n",
       "      <td>ERS1066747</td>\n",
       "      <td>NaN</td>\n",
       "      <td>609.47</td>\n",
       "      <td>1</td>\n",
       "      <td>1814975.0</td>\n",
       "      <td>9.812422e+08</td>\n",
       "      <td>unspecified</td>\n",
       "      <td>Targeted-Capture</td>\n",
       "      <td>GENOMIC</td>\n",
       "      <td>other</td>\n",
       "    </tr>\n",
       "    <tr>\n",
       "      <td>876577</td>\n",
       "      <td>ERX1365511</td>\n",
       "      <td>Illumina MiSeq paired end sequencing</td>\n",
       "      <td>Solanum okadae</td>\n",
       "      <td>Illumina MiSeq</td>\n",
       "      <td>NaN</td>\n",
       "      <td>ERP014354</td>\n",
       "      <td>Utilizing 'Omics' technologies to identify and...</td>\n",
       "      <td>ERS1066746</td>\n",
       "      <td>NaN</td>\n",
       "      <td>616.72</td>\n",
       "      <td>1</td>\n",
       "      <td>2742300.0</td>\n",
       "      <td>1.376635e+09</td>\n",
       "      <td>unspecified</td>\n",
       "      <td>Targeted-Capture</td>\n",
       "      <td>GENOMIC</td>\n",
       "      <td>other</td>\n",
       "    </tr>\n",
       "    <tr>\n",
       "      <td>876578</td>\n",
       "      <td>ERX1365510</td>\n",
       "      <td>Illumina MiSeq paired end sequencing</td>\n",
       "      <td>Solanum okadae</td>\n",
       "      <td>Illumina MiSeq</td>\n",
       "      <td>NaN</td>\n",
       "      <td>ERP014354</td>\n",
       "      <td>Utilizing 'Omics' technologies to identify and...</td>\n",
       "      <td>ERS1066745</td>\n",
       "      <td>NaN</td>\n",
       "      <td>709.57</td>\n",
       "      <td>1</td>\n",
       "      <td>3179448.0</td>\n",
       "      <td>1.596083e+09</td>\n",
       "      <td>unspecified</td>\n",
       "      <td>Targeted-Capture</td>\n",
       "      <td>GENOMIC</td>\n",
       "      <td>other</td>\n",
       "    </tr>\n",
       "  </tbody>\n",
       "</table>\n",
       "<p>23598 rows × 17 columns</p>\n",
       "</div>"
      ],
      "text/plain": [
       "       Experiment Accession  \\\n",
       "118             SRX10508039   \n",
       "119             SRX10508038   \n",
       "120             SRX10508037   \n",
       "121             SRX10508036   \n",
       "122             SRX10508035   \n",
       "...                     ...   \n",
       "876574           ERX1365514   \n",
       "876575           ERX1365513   \n",
       "876576           ERX1365512   \n",
       "876577           ERX1365511   \n",
       "876578           ERX1365510   \n",
       "\n",
       "                                         Experiment Title  \\\n",
       "118     Angiosperms 353 target capture of Castilleja c...   \n",
       "119     Angiosperms 353 target capture of Castilleja c...   \n",
       "120     Angiosperms 353 target capture of Castilleja s...   \n",
       "121     Angiosperms 353 target capture of Castilleja s...   \n",
       "122     Angiosperms 353 target capture of Castilleja c...   \n",
       "...                                                   ...   \n",
       "876574               Illumina MiSeq paired end sequencing   \n",
       "876575               Illumina MiSeq paired end sequencing   \n",
       "876576               Illumina MiSeq paired end sequencing   \n",
       "876577               Illumina MiSeq paired end sequencing   \n",
       "876578               Illumina MiSeq paired end sequencing   \n",
       "\n",
       "                  Organism Name      Instrument                Submitter  \\\n",
       "118          Castilleja citrina     NextSeq 500  Northwestern University   \n",
       "119          Castilleja citrina     NextSeq 500  Northwestern University   \n",
       "120     Castilleja sessiliflora     NextSeq 500  Northwestern University   \n",
       "121     Castilleja sessiliflora     NextSeq 500  Northwestern University   \n",
       "122          Castilleja citrina     NextSeq 500  Northwestern University   \n",
       "...                         ...             ...                      ...   \n",
       "876574           Solanum okadae  Illumina MiSeq                      NaN   \n",
       "876575           Solanum okadae  Illumina MiSeq                      NaN   \n",
       "876576           Solanum okadae  Illumina MiSeq                      NaN   \n",
       "876577           Solanum okadae  Illumina MiSeq                      NaN   \n",
       "876578           Solanum okadae  Illumina MiSeq                      NaN   \n",
       "\n",
       "       Study Accession                                        Study Title  \\\n",
       "118          SRP313302  Range-wide sampling of Castilleja sessiliflora...   \n",
       "119          SRP313302  Range-wide sampling of Castilleja sessiliflora...   \n",
       "120          SRP313302  Range-wide sampling of Castilleja sessiliflora...   \n",
       "121          SRP313302  Range-wide sampling of Castilleja sessiliflora...   \n",
       "122          SRP313302  Range-wide sampling of Castilleja sessiliflora...   \n",
       "...                ...                                                ...   \n",
       "876574       ERP014354  Utilizing 'Omics' technologies to identify and...   \n",
       "876575       ERP014354  Utilizing 'Omics' technologies to identify and...   \n",
       "876576       ERP014354  Utilizing 'Omics' technologies to identify and...   \n",
       "876577       ERP014354  Utilizing 'Omics' technologies to identify and...   \n",
       "876578       ERP014354  Utilizing 'Omics' technologies to identify and...   \n",
       "\n",
       "       Sample Accession Sample Title  Total Size, Mb  Total RUNs  Total Spots  \\\n",
       "118          SRS8632265          NaN          281.41           1    2125445.0   \n",
       "119          SRS8632264          NaN          432.05           1    3247805.0   \n",
       "120          SRS8632263          NaN          120.95           1     910689.0   \n",
       "121          SRS8632262          NaN          189.54           1    1434460.0   \n",
       "122          SRS8632261          NaN          281.53           1    2105885.0   \n",
       "...                 ...          ...             ...         ...          ...   \n",
       "876574       ERS1066749          NaN          862.78           1    3683854.0   \n",
       "876575       ERS1066748          NaN          470.01           1    1518349.0   \n",
       "876576       ERS1066747          NaN          609.47           1    1814975.0   \n",
       "876577       ERS1066746          NaN          616.72           1    2742300.0   \n",
       "876578       ERS1066745          NaN          709.57           1    3179448.0   \n",
       "\n",
       "         Total Bases Library Name  Library Strategy Library Source  \\\n",
       "118     6.376335e+08        CFC-9  Targeted-Capture        GENOMIC   \n",
       "119     9.743415e+08        CED-3  Targeted-Capture        GENOMIC   \n",
       "120     2.732067e+08        SWC-5  Targeted-Capture        GENOMIC   \n",
       "121     4.303380e+08       SPB-11  Targeted-Capture        GENOMIC   \n",
       "122     6.317655e+08      CCCD-98  Targeted-Capture        GENOMIC   \n",
       "...              ...          ...               ...            ...   \n",
       "876574  1.849295e+09  unspecified  Targeted-Capture        GENOMIC   \n",
       "876575  7.890861e+08  unspecified  Targeted-Capture        GENOMIC   \n",
       "876576  9.812422e+08  unspecified  Targeted-Capture        GENOMIC   \n",
       "876577  1.376635e+09  unspecified  Targeted-Capture        GENOMIC   \n",
       "876578  1.596083e+09  unspecified  Targeted-Capture        GENOMIC   \n",
       "\n",
       "       Library Selection  \n",
       "118     Hybrid Selection  \n",
       "119     Hybrid Selection  \n",
       "120     Hybrid Selection  \n",
       "121     Hybrid Selection  \n",
       "122     Hybrid Selection  \n",
       "...                  ...  \n",
       "876574             other  \n",
       "876575             other  \n",
       "876576             other  \n",
       "876577             other  \n",
       "876578             other  \n",
       "\n",
       "[23598 rows x 17 columns]"
      ]
     },
     "execution_count": 55,
     "metadata": {},
     "output_type": "execute_result"
    }
   ],
   "source": [
    "# limit to the ones in the 'selection' list\n",
    "selection = ['RANDOM PCR', 'RANDOM', 'Hybrid Selection', 'Reduced Representation', 'Restriction Digest', 'unspecified',\n",
    "       'PCR', 'DNase','other', 'ChIP', 'cDNA', 'padlock probes capture method','HMPR','MDA']\n",
    "genomesra2 = genomesra1[genomesra1['Library Selection'].isin(selection)]\n",
    "genomesra2"
   ]
  },
  {
   "cell_type": "code",
   "execution_count": 57,
   "metadata": {
    "ExecuteTime": {
     "end_time": "2021-05-12T14:51:57.645850Z",
     "start_time": "2021-05-12T14:51:57.621566Z"
    }
   },
   "outputs": [
    {
     "data": {
      "text/html": [
       "<div>\n",
       "<style scoped>\n",
       "    .dataframe tbody tr th:only-of-type {\n",
       "        vertical-align: middle;\n",
       "    }\n",
       "\n",
       "    .dataframe tbody tr th {\n",
       "        vertical-align: top;\n",
       "    }\n",
       "\n",
       "    .dataframe thead th {\n",
       "        text-align: right;\n",
       "    }\n",
       "</style>\n",
       "<table border=\"1\" class=\"dataframe\">\n",
       "  <thead>\n",
       "    <tr style=\"text-align: right;\">\n",
       "      <th></th>\n",
       "      <th>Organism Name</th>\n",
       "      <th>Library Strategy</th>\n",
       "      <th>Experiment Accession</th>\n",
       "    </tr>\n",
       "  </thead>\n",
       "  <tbody>\n",
       "    <tr>\n",
       "      <td>3106</td>\n",
       "      <td>Picea abies</td>\n",
       "      <td>Targeted-Capture</td>\n",
       "      <td>3076</td>\n",
       "    </tr>\n",
       "    <tr>\n",
       "      <td>4057</td>\n",
       "      <td>Triticum aestivum</td>\n",
       "      <td>Targeted-Capture</td>\n",
       "      <td>2688</td>\n",
       "    </tr>\n",
       "    <tr>\n",
       "      <td>4251</td>\n",
       "      <td>Zea mays</td>\n",
       "      <td>Targeted-Capture</td>\n",
       "      <td>2685</td>\n",
       "    </tr>\n",
       "    <tr>\n",
       "      <td>1849</td>\n",
       "      <td>Hordeum vulgare subsp. vulgare</td>\n",
       "      <td>Targeted-Capture</td>\n",
       "      <td>910</td>\n",
       "    </tr>\n",
       "    <tr>\n",
       "      <td>3225</td>\n",
       "      <td>Populus tremula</td>\n",
       "      <td>Targeted-Capture</td>\n",
       "      <td>766</td>\n",
       "    </tr>\n",
       "    <tr>\n",
       "      <td>...</td>\n",
       "      <td>...</td>\n",
       "      <td>...</td>\n",
       "      <td>...</td>\n",
       "    </tr>\n",
       "    <tr>\n",
       "      <td>1609</td>\n",
       "      <td>Funaria sp. Goffinet et al. 9934</td>\n",
       "      <td>Targeted-Capture</td>\n",
       "      <td>1</td>\n",
       "    </tr>\n",
       "    <tr>\n",
       "      <td>1610</td>\n",
       "      <td>Funaria sp. Hylander 5947</td>\n",
       "      <td>Targeted-Capture</td>\n",
       "      <td>1</td>\n",
       "    </tr>\n",
       "    <tr>\n",
       "      <td>1611</td>\n",
       "      <td>Funaria sp. Hylander 5948</td>\n",
       "      <td>Targeted-Capture</td>\n",
       "      <td>1</td>\n",
       "    </tr>\n",
       "    <tr>\n",
       "      <td>1612</td>\n",
       "      <td>Fusaea peruviana</td>\n",
       "      <td>Targeted-Capture</td>\n",
       "      <td>1</td>\n",
       "    </tr>\n",
       "    <tr>\n",
       "      <td>2135</td>\n",
       "      <td>Ischnosiphon heleniae</td>\n",
       "      <td>Targeted-Capture</td>\n",
       "      <td>1</td>\n",
       "    </tr>\n",
       "  </tbody>\n",
       "</table>\n",
       "<p>4270 rows × 3 columns</p>\n",
       "</div>"
      ],
      "text/plain": [
       "                         Organism Name  Library Strategy  Experiment Accession\n",
       "3106                       Picea abies  Targeted-Capture                  3076\n",
       "4057                 Triticum aestivum  Targeted-Capture                  2688\n",
       "4251                          Zea mays  Targeted-Capture                  2685\n",
       "1849    Hordeum vulgare subsp. vulgare  Targeted-Capture                   910\n",
       "3225                   Populus tremula  Targeted-Capture                   766\n",
       "...                                ...               ...                   ...\n",
       "1609  Funaria sp. Goffinet et al. 9934  Targeted-Capture                     1\n",
       "1610         Funaria sp. Hylander 5947  Targeted-Capture                     1\n",
       "1611         Funaria sp. Hylander 5948  Targeted-Capture                     1\n",
       "1612                  Fusaea peruviana  Targeted-Capture                     1\n",
       "2135             Ischnosiphon heleniae  Targeted-Capture                     1\n",
       "\n",
       "[4270 rows x 3 columns]"
      ]
     },
     "execution_count": 57,
     "metadata": {},
     "output_type": "execute_result"
    }
   ],
   "source": [
    "# we want to check how many accessions there are PER species\n",
    "# grouping the dataframe by organism and library strategy\n",
    "# grouping by library strategy can be ignored if there's only one type of library strategy\n",
    "byorglib = genomesra2.groupby(by = ['Organism Name','Library Strategy'])['Experiment Accession'].count().reset_index()\n",
    "# sort values by number of experiment accessions per species\n",
    "byorglib.sort_values('Experiment Accession', ascending = False)"
   ]
  },
  {
   "cell_type": "code",
   "execution_count": 58,
   "metadata": {
    "ExecuteTime": {
     "end_time": "2021-05-12T14:51:59.152812Z",
     "start_time": "2021-05-12T14:51:59.138552Z"
    }
   },
   "outputs": [
    {
     "data": {
      "text/plain": [
       "['Costus sp. Kay 18-001(KK0058)',\n",
       " 'Costus sp. Kay 18-001(KK0073)',\n",
       " 'Erythroxylum sp. (D.M. White 530)',\n",
       " 'Erythroxylum sp. Brewer LA (B.Hyland 13373)',\n",
       " 'Erythroxylum sp. Cholmondely Creek (J.R.Clarkson 9367)',\n",
       " 'Erythroxylum sp. Splityard Creek (L.Pedley 5360)',\n",
       " 'Nepenthes adrianii (nom. nud.)']"
      ]
     },
     "execution_count": 58,
     "metadata": {},
     "output_type": "execute_result"
    }
   ],
   "source": [
    "# some species names have parenthesis.. check them out\n",
    "list(byorglib[byorglib['Organism Name'].str.contains('\\(')]['Organism Name'].unique())"
   ]
  },
  {
   "cell_type": "code",
   "execution_count": 59,
   "metadata": {
    "ExecuteTime": {
     "end_time": "2021-05-12T14:52:01.070431Z",
     "start_time": "2021-05-12T14:52:01.047037Z"
    }
   },
   "outputs": [],
   "source": [
    "# let's remove this list of species:\n",
    "# most of these appear when filtering the dataframe by other values\n",
    "# leaving this here for legacy\n",
    "remove = ['(Arabidopsis thaliana x Arabidopsis arenosa) x Arabidopsis suecica',\n",
    " '(Prunus cerasifera x Prunus salicina) x (Prunus cerasifera x Prunus persica)', '(Prunus dulcis x Prunus persica) x (Prunus dulcis x Prunus davidiana)',\n",
    " '(Prunus dulcis x Prunus persica) x (Prunus dulcis x Prunus persica)', '(Prunus persica x Prunus davidiana) x (Prunus dulcis x Prunus persica)',\n",
    " '(Prunus persica x Prunus davidiana) x Prunus persica', 'Malus domestica x (Pyrus pyrifolia x Pyrus communis)',\n",
    "          'Prunus cerasifera x (Prunus persica x Prunus dulcis)',\n",
    " 'Prunus persica x (Prunus dulcis x Prunus persica)',\n",
    " 'Prunus persica x (Prunus persica x Prunus davidiana)',]\n",
    "\n",
    "genomesra3 = genomesra2[~genomesra2['Organism Name'].isin(remove)]\n",
    "# genomesra3"
   ]
  },
  {
   "cell_type": "code",
   "execution_count": 60,
   "metadata": {
    "ExecuteTime": {
     "end_time": "2021-05-12T14:52:03.633495Z",
     "start_time": "2021-05-12T14:52:03.526493Z"
    }
   },
   "outputs": [
    {
     "data": {
      "text/plain": [
       "array(['Castilleja', 'Geonoma', 'Veronica', 'Aiphanes', 'Arabidopsis',\n",
       "       'Brassica', 'Picea', 'Pavonia', 'Hibiscus', 'x', 'Asterogyne',\n",
       "       'Ceroxylon', 'Kerriodoxa', 'Nypa', 'Calamus', 'Plectocomiinae',\n",
       "       'Plectocomiopsis', 'Myrialepis', 'Plectocomia', 'Pigafetta',\n",
       "       'Metroxylon', 'Salacca', 'Eleiodoxa', 'Korthalsia', 'Mauritiella',\n",
       "       'Mauritia', 'Lepidocaryum', 'Raphia', 'Laccosperma', 'Eremospatha',\n",
       "       'Oncocalamus', 'Eugeissona', 'Rhynchospora', 'Cardamine',\n",
       "       'Capurodendron', 'Bemangidia', 'Mimusops', 'Faucherea',\n",
       "       'Neolemonniera', 'Lecomtedoxa', 'Gluema', 'Inhambanella',\n",
       "       'Donella', 'Tsebona', 'Isonandra', 'Madhuca', 'Diploknema',\n",
       "       'Sideroxylon', 'Begonia', 'Cymbidium', 'Lycomormium', 'Tolumnia',\n",
       "       'Stanhopea', 'Catasetum', 'Gastrorchis', 'Coelogyne',\n",
       "       'Paphiopedilum', 'Phragmipedium', 'Spiranthes', 'Calopogon',\n",
       "       'Acineta', 'Maxillaria', 'Anoectochilus', 'Polystachya',\n",
       "       'Angraecum', 'Phalaenopsis', 'Platanthera', 'Sobralia', 'Eria',\n",
       "       'Liparis', 'Dinema', 'Coelia', 'Pescatoria', 'Anguloa', 'Eulophia',\n",
       "       'Hordeum', 'Rytidocarpus', 'Draba', 'Notoceras', 'Rorippa',\n",
       "       'Diptychocarpus', 'Heliophila', 'Morettia', 'Triticum', 'Inga',\n",
       "       'Anna', 'Primulina', 'Napeanthus', 'Anetanthus', 'Streptocarpus',\n",
       "       'Epithema', 'Didissandra', 'Didymocarpus', 'Besleria',\n",
       "       'Cremosperma', 'Gasteranthus', 'Calceolaria', 'Sanango', 'Ramonda',\n",
       "       'Loxostigma', 'Microchirita', 'Gyrocheilos', 'Haberlea',\n",
       "       'Titanotrichum', 'Kohleria', 'Rhytidophyllum', 'Corytoplectus',\n",
       "       'Rhabdothamnus', 'Jovellana', 'Vanhouttea', 'Nematanthus',\n",
       "       'Cyrtandra', 'Chrysothemis', 'Sinningia', 'Peltanthera', 'Reldia',\n",
       "       'Sphaerorrhiza', 'Episcia', 'Oreocharis', 'Cobananthus',\n",
       "       'Gloxinella', 'Olea', 'Fraxinus', 'Paulownia', 'Salvia',\n",
       "       'Paliavana', 'Nautilocalyx', 'Seemannia', 'Codonanthopsis',\n",
       "       'Columnea', 'Gesneria', 'Gloxinia', 'Drymonia', 'Cubitanthus',\n",
       "       'Sarmienta', 'Litostigma', 'Dorcoceras', 'Paraboea',\n",
       "       'Corallodiscus', 'Rhynchoglossum', 'Tetraphyllum', 'Leptoboea',\n",
       "       'Raphiocarpus', 'Agalmyla', 'Utsetela', 'Trilepisium', 'Treculia',\n",
       "       'Sloetia', 'Scyphosyce', 'Fatoua', 'Dorstenia', 'Bosqueiopsis',\n",
       "       'Diospyros', 'Greenwayodendron', 'Anonidium', 'Sclerosperma',\n",
       "       'Podococcus', 'Monanthotaxis', 'Zea', 'Pinus', 'Perityle',\n",
       "       'Amauria', 'Pericome', 'Eutetras', 'Galeana', 'Crataegus',\n",
       "       'Mespilus', 'Malus', 'Templetonia', 'Kunzea', 'Cheiranthera',\n",
       "       'Pultenaea', 'Melaleuca', 'Erythroxylum', 'Phytelephas',\n",
       "       'Lachemilla', 'Alchemilla', 'Comarum', 'Drymocallis', 'Dasiphora',\n",
       "       'Chamaerhodos', 'Aphanes', 'Sibbaldianthe', 'Sibbaldia',\n",
       "       'Sanguisorba', 'Rosa', 'Potentilla', 'Potaninia', 'cf Costus',\n",
       "       'Costus', 'Bulbostylis', 'Arthrostylis', 'Actinoschoenus',\n",
       "       'Schoenus', 'Zulustylis', 'Fimbristylis', 'Abildgaardia',\n",
       "       'Eleocharis', 'Actinoscirpus', 'Jacobaea', 'Erechtites', 'Mniodes',\n",
       "       'Loricaria', 'Diaperia', 'Tachigali', 'Diptychandra',\n",
       "       'Dimorphandra', 'Zygia', 'Zapoteca', 'Xylia', 'Viguieranthus',\n",
       "       'Vachellia', 'Tetrapleura', 'Stryphnodendron', 'Sphinga',\n",
       "       'Serianthes', 'Senegalia', 'Schleinitzia', 'Samanea',\n",
       "       'Pseudosamanea', 'Pseudoprosopis', 'Pseudopiptadenia', 'Prosopis',\n",
       "       'Prosopidastrum', 'Plathymenia', 'Pityrocarpa', 'Pithecellobium',\n",
       "       'Piptadenia', 'Piptadeniopsis', 'Piptadeniastrum', 'Pentaclethra',\n",
       "       'Peltophorum', 'Parapiptadenia', 'Pararchidendron', 'Parkia',\n",
       "       'Paraserianthes', 'Pachyelasma', 'Newtonia', 'Neptunia', 'Mimosa',\n",
       "       'Mimozyganthus', 'Mariosousa', 'Macrosamanea', 'Lysiloma',\n",
       "       'Leucochloron', 'Lemurodendron', 'Lachesiodendron', 'Kanaloa',\n",
       "       'Hesperalbizia', 'Havardia', 'Fillaeopsis', 'Falcataria',\n",
       "       'Faidherbia', 'Erythrophleum', 'Entada', 'Enterolobium',\n",
       "       'Elephantorrhiza', 'Ebenopsis', 'Dichrostachys', 'Desmanthus',\n",
       "       'Cylicodiscus', 'Cojoba', 'Chloroleucon', 'Chidlowia',\n",
       "       'Cedrelinga', 'Calliandra', 'Calpocalyx', 'Blanchetiodendron',\n",
       "       'Aubrevillea', 'Archidendron', 'Archidendropsis', 'Anadenanthera',\n",
       "       'Amblygonocarpus', 'Albizia', 'Alantsilodendron', 'Adenopodia',\n",
       "       'Adenanthera', 'Acaciella', 'Acacia', 'Abarema', 'Hydrochorea',\n",
       "       'Cathormion', 'Balizia', 'Vitis', 'Tetrastigma', 'Ampelocissus',\n",
       "       'Rhoicissus', 'Pterisanthes', 'Pseudocayratia', 'Parthenocissus',\n",
       "       'Nekemias', 'Leea', 'Cyphostemma', 'Clematicissus', 'Cissus',\n",
       "       'Cayratia', 'Causonis', 'Ampelopsis', 'Yua', 'Nepenthes',\n",
       "       'Ancistrocladus', 'Worsleya', 'Urceolina', 'Stenomesson', 'Rauhia',\n",
       "       'Clinanthus', 'Pyrolirion', 'Plagiolirion', 'Phaedranassa',\n",
       "       'Paramongaia', 'Pancratium', 'Pamianthe', 'Leptochiton', 'Ismene',\n",
       "       'Hymenocallis', 'Chlidanthus', 'Hippeastrum', 'Hieronymiella',\n",
       "       'Griffinia', 'Eustephia', 'Eucrosia', 'Caliphruria', 'Eucharis',\n",
       "       'Jurinea', 'Cousinia', 'Centaurea', 'Lipschitziella', 'Carduus',\n",
       "       'Saussurea', 'Aegopordon', 'Arctium', 'Galactites', 'Dolomiaea',\n",
       "       'Volutaria', 'Tricholepis', 'Staehelina', 'Psephellus',\n",
       "       'Plectocephalus', 'Onopordum', 'Olgaea', 'Leuzea', 'Klasea',\n",
       "       'Karvandarina', 'Anacyclus', 'Otanthus', 'Matricaria',\n",
       "       'Heliocauta', 'Plantago', 'spermatophyte', 'Achillea', 'Rubus',\n",
       "       'Ranunculus', 'Populus', 'Salix', 'Zanthoxylum', 'Centropogon',\n",
       "       'Burmeistera', 'Siphocampylus', 'Gentiana', 'Metagentiana',\n",
       "       'Diapensia', 'Galax', 'Schizocodon', 'Shortia', 'Pyxidanthera',\n",
       "       'Berneuxia', 'Sorghum', 'Schefflera', 'Plerandra', 'Neocussonia',\n",
       "       'Tetrapanax', 'Astropanax', 'Heteropanax', 'Glycine',\n",
       "       'Nothapodytes', 'Natsiatopsis', 'Pittosporopsis',\n",
       "       'Merrilliodendron', 'Iodes', 'Pyrenacantha', 'Desmostachys',\n",
       "       'Natsiatum', 'Alsodeiopsis', 'Stachyanthus', 'Icacina',\n",
       "       'Lavigeria', 'Dendrobangia', 'Rhyticaryum', 'Calatola',\n",
       "       'Phytocrene', 'Mappia', 'Miquelia', 'Cassinopsis', 'Sarcostigma',\n",
       "       'Leretia', 'Emmotum', 'Pleurisanthes', 'Hosiea', 'Mappianthus',\n",
       "       'Apodytes', 'Sleumeria', 'Casimirella', 'Ouratea', 'Ochna',\n",
       "       'Brackenridgea', 'Diporidium', 'Sauvagesia', 'Rhytidanthera',\n",
       "       'Rhabdophyllum', 'Poecilandra', 'Perissocarpa', 'Campylospermum',\n",
       "       'Cespedesia', 'Indovethia', 'Philacra', 'Quiina', 'Bonnetia',\n",
       "       'Wallacea', 'Tyleria', 'Adenanthe', 'Touroulia', 'Testulea',\n",
       "       'Schuurmansiella', 'Schuurmansia', 'Luxemburgia', 'Lophira',\n",
       "       'Lacunaria', 'Krukoviella', 'Indosinia', 'Idertia', 'Godoya',\n",
       "       'Froesia', 'Fleurydora', 'Euthemis', 'Elvasia', 'Adenarake',\n",
       "       'Neckia', 'Medusagyne', 'Blastemanthus', 'Brownea', 'Browneopsis',\n",
       "       'Heterostemon', 'Macrolobium', 'Paloue', 'Carex', 'Trichophorum',\n",
       "       'Avena', 'Aegilops', 'Epidendrum', 'Caularthron', 'Broughtonia',\n",
       "       'Barkeria', 'Arpophyllum', 'Pleurothallis', 'Micranthes',\n",
       "       'Saxifraga', 'Ribes', 'Pterostemon', 'Mytilaria', 'Lithophragma',\n",
       "       'Itea', 'Glischrocaryon', 'Chrysosplenium', 'Choristylis',\n",
       "       'Cascadia', 'Boykinia', 'Astilbe', 'Altingia', 'Solanum',\n",
       "       'Panicum', 'Tibouchina', 'Chaetogastra', 'Pleroma', 'Desmoscelis',\n",
       "       'Andesanthus', 'Aneulophus', 'Bruguiera', 'Carallia',\n",
       "       'Cassipourea', 'Rhizophora', 'Boechera', 'Ipomoea', 'Operculina',\n",
       "       'Lepistemon', 'Cyperus', 'Oryza', 'Pholidostachys', 'Calyptrogyne',\n",
       "       'Nectaropetalum', 'Tsuga', 'Abies', 'Pseudotsuga', 'Lychnophora',\n",
       "       'Chresta', 'Elephantopus', 'Eremanthus', 'Lessingianthus',\n",
       "       'Lychnophorella', 'Maschalostachys', 'Welfia', 'Wettinia', 'Cocos',\n",
       "       'Licuala', 'Socratea', 'Calyptronoma', 'Tragopogon', 'Athanasia',\n",
       "       'Baccharoides', 'Trichanthodium', 'Arctotis', 'Argyranthemum',\n",
       "       'Argyroglottis', 'Artemisia', 'Antennaria', 'Anthemis', 'Facelis',\n",
       "       'Tripteris', 'Pallenis', 'Packera', 'Nahuatlea', 'Nastanthus',\n",
       "       'Nassauvia', 'Oldenburgia', 'Oedera', 'Othonna', 'Onoseris',\n",
       "       'Senecio', 'Shangwua', 'Sinacalia', 'Sinclairia', 'Soaresia',\n",
       "       'Sommerfeltia', 'Spilanthes', 'Stenopadus', 'Stevia', 'Erato',\n",
       "       'Euthamia', 'Eurybia', 'Eriophyllum', 'Erigeron', 'Calea',\n",
       "       'Cacaliopsis', 'Vernonia', 'Barnadesia', 'Amauriopsis', 'Berkheya',\n",
       "       'Belloa', 'Brachyglottis', 'Boltonia', 'Brunonia', 'Brachylaena',\n",
       "       'Santolina', 'Scaevola', 'Schkuhria', 'Rhodanthemum',\n",
       "       'Rojasianthe', 'Roldana', 'Rumfordia', 'Tessaria', 'Tarchonanthus',\n",
       "       'Syncarpha', 'Symphyotrichum', 'Schlechtendalia', 'Scolymus',\n",
       "       'Stilpnopappus', 'Stifftia', 'Gazania', 'Gerbera', 'Gladiopappus',\n",
       "       'Gamochaeta', 'Heterotheca', 'Hololepis', 'Gaillardia',\n",
       "       'Heliopsis', 'Heterocoma', 'Heterocypsela', 'Heterolepis',\n",
       "       'Helianthus', 'Helichrysum', 'Centratherum', 'Chaenactis',\n",
       "       'Carlina', 'Carthamus', 'Calendula', 'Cardopatium',\n",
       "       'Strophopappus', 'Centrapalus', 'Cassinia', 'Cavea', 'Stokesia',\n",
       "       'Proustia', 'Nabalus', 'Porophyllum', 'Plazia', 'Pteronia',\n",
       "       'Pseudostifftia', 'Pseudohandelia', 'Pseudognaphalium',\n",
       "       'Trichocline', 'Relhania', 'Pulicaria', 'Tussilago', 'Ursinia',\n",
       "       'Tithonia', 'Gymnanthemum', 'Gundelia', 'Guizotia', 'Grindelia',\n",
       "       'Helenium', 'Hecastocleis', 'Haplopappus', 'Haplocarpha',\n",
       "       'Fulcaldea', 'Famatinanthus', 'Thymophylla', 'Glebionis',\n",
       "       'Chrysanthemoides', 'Chronopappus', 'Chromolaena', 'Chiliotrichum',\n",
       "       'Chaetanthera', 'Albertinia', 'Allocephalus', 'Vernoniastrum',\n",
       "       'Wunderlichia', 'Wollastonia', 'Taraxacum', 'Xenophyllum',\n",
       "       'Leucanthemella', 'Lepidaploa', 'Corethrogyne', 'Lactuca',\n",
       "       'Leontodon', 'Leucomeris', 'Liabum', 'Conyza', 'Leptosyne',\n",
       "       'Eutrochium', 'Chrysocoma', 'Chrysogonum', 'Ericameria',\n",
       "       'Chuquiraga', 'Cichorium', 'Cirsium', 'Cloiselia', 'Conoclinium',\n",
       "       'Aster', 'Hyaloseris', 'Hyalis', 'Craspedia', 'Cynara',\n",
       "       'Cyclolepis', 'Corymbium', 'Cotula', 'Eremothamnus', 'Dasyphyllum',\n",
       "       'Cyrtocymura', 'Echinops', 'Minasia', 'Montanoa', 'Moquinia',\n",
       "       'Moquiniastrum', 'Munnozia', 'Mutisia', 'Myripnois', 'Werneria',\n",
       "       'Amphoricarpos', 'Distephanus', 'Dolichlasium', 'Didelta',\n",
       "       'Disparago', 'Deinandra', 'Denekia', 'Macledium', 'Luciliocline',\n",
       "       'Lowryanthus', 'Melanthera', 'Lipochaeta', 'Gongylolepis',\n",
       "       'Elekmania', 'Verbesina', 'Gorceixia', 'Vernonanthura',\n",
       "       'Piptolepis', 'Platycarpha', 'Parastrephia', 'Pechuelloeschea',\n",
       "       'Paralychnophora', 'Phagnalon', 'Phoebanthus', 'Pentzia',\n",
       "       'Perezia', 'Tofieldia', 'Annickia', 'Digitaria', 'Cenchrus',\n",
       "       'Tridentopsis', 'Tetracarpaea', 'Dioscorea', 'Trichopus',\n",
       "       'Quercus', 'Daphne', 'Mwasumbia', 'Piptostigma', 'Asteranthe',\n",
       "       'Isolona', 'Cymbopetalum', 'Hornschuchia', 'Mkilua', 'Porcelia',\n",
       "       'Duguetia', 'Fusaea', 'Letestudoxa', 'Guatteria', 'Uvariopsis',\n",
       "       'Uvariodendron', 'Desmos', 'Dasymaschalon', 'Monodora',\n",
       "       'Mischogyne', 'Uvariastrum', 'Sanrafaelia', 'Fissistigma',\n",
       "       'Xylopia', 'Uvaria', 'Artabotrys', 'Friesodielsia', 'Trigynaea',\n",
       "       'Cremastosperma', 'Onychopetalum', 'Mosannona', 'Klarobelia',\n",
       "       'Ephedranthus', 'Unonopsis', 'Ruizodendron', 'Pseudoxandra',\n",
       "       'Oxandra', 'Desmopsis', 'Alphonsea', 'Goniothalamus',\n",
       "       'Neostenanthera', 'Annona', 'Boutiquea', 'Diclinanona',\n",
       "       'Cleistopholis', 'Drepananthus', 'Meiocarpidium', 'Anaxagorea',\n",
       "       'Polyceratocarpus', 'Sirdavidia', 'Sapranthus', 'Stenanona',\n",
       "       'Phaeanthus', 'Polyalthia', 'Popowia', 'Sageraea', 'Meiogyne',\n",
       "       'Monoon', 'Neouvaria', 'Orophea', 'Monocarpia', 'Leptospermum',\n",
       "       'Agonis', 'Trifolium', 'Capsicum', 'Nicotiana', 'Rhodiola',\n",
       "       'Pseudosedum', 'Crassula', 'Kalanchoe', 'Echeveria', 'Adromischus',\n",
       "       'Sedum', 'Greenovia', 'Peridiscus', 'Soyauxia', 'Whittonia',\n",
       "       'Penthorum', 'Medusandra', 'Dudleya', 'Diamorpha', 'Daphniphyllum',\n",
       "       'Sempervivum', 'Conimitella', 'Prometheum', 'Pistorinia',\n",
       "       'Phedimus', 'Hylotelephium', 'Tanakaea', 'Sullivantia',\n",
       "       'Sinowilsonia', 'Rhodoleia', 'Paeonia', 'Graptopetalum',\n",
       "       'Tylecodon', 'Thompsonella', 'Umbilicus', 'Pachyphytum',\n",
       "       'Orostachys', 'Monanthes', 'Saxifragella', 'Saxifragodes',\n",
       "       'Saxifragopsis', 'Suksdorfia', 'Sinocrassula', 'Aichryson',\n",
       "       'Rosularia', 'Cynomorium', 'Ozomelis', 'Mukdenia', 'Mitella',\n",
       "       'Saniculiphyllum', 'Rodgersia', 'Aeonium', 'Haloragis',\n",
       "       'Corylopsis', 'Gonocarpus', 'Distyliopsis', 'Disanthus',\n",
       "       'Parrotia', 'Lenophyllum', 'Cotyledon', 'Darmera', 'Elmera',\n",
       "       'Hieronymusia', 'Jepsonia', 'Leptarrhena', 'Villadia', 'Bolandra',\n",
       "       'Astilboides', 'Bergenia', 'Pinacopodium', 'Eucalyptus',\n",
       "       'Pteleocarpa', 'Blandfordia', 'Tovaria', 'Alvaradoa', 'Dodonaea',\n",
       "       'Forgesia', 'Metteniusa', 'Gerrardina', 'Quintinia', 'Gonocaryum',\n",
       "       'Japonolirion', 'Anigozanthos', 'Berzelia', 'Berberidopsis',\n",
       "       'Wigandia', 'Aralia', 'Comptonia', 'Crossosoma', 'Upuna',\n",
       "       'Gilbertiodendron', 'Duckesia', 'Barbeya', 'Curatella', 'Magnolia',\n",
       "       'Acorus', 'Fritillaria', 'Cyrilla', 'Ruptiliocarpon', 'Amborella',\n",
       "       'Vahlia', 'Gunnera', 'Ceratophyllum', 'Trimenia', 'Croomia',\n",
       "       'Brunellia', 'Butomus', 'Curcuma', 'Musa', 'Strelitzia', 'Canna',\n",
       "       'Tapeinochilos', 'Heliconia', 'Halopegia', 'Aframomum',\n",
       "       'Stromanthe', 'Monocostus', 'Zingiber', 'Renealmia', 'Amomum',\n",
       "       'Marantochloa', 'Chamaecostus', 'Dimerocostus', 'Musella',\n",
       "       'Ensete', 'Hellenia', 'Hedychium', 'Goeppertia', 'Globba',\n",
       "       'Riedelia', 'Alpinia', 'Donax', 'Orchidantha', 'Scaphochlamys',\n",
       "       'Etlingera', 'Ravenala', 'Siphonochilus', 'Siamanthus',\n",
       "       'Thaumatococcus', 'Ischnosiphon', 'Euphorbia', 'Calathea',\n",
       "       'Lanxangia', 'Hornstedtia', 'Monolophus', 'Phrynium',\n",
       "       'Stachyphrynium', 'Tamijia', 'Pleuranthodium', 'Hanguana',\n",
       "       'Phenakospermum', 'Paracostus', 'Siliquamomum', 'Sarcophrynium',\n",
       "       'Coffea', 'Pennisetum glaucum', 'Fagus', 'Lolium', 'Cyrtomium',\n",
       "       'Phlebodium', 'Sphaeropteris', 'Thelypteris', 'Sticherus',\n",
       "       'Lindsaea', 'Osmundastrum', 'Angiopteris', 'Didymochlaena',\n",
       "       'Metaxya', 'Blechnum', 'Asplenium', 'Polystichum', 'Paesia',\n",
       "       'Lygodium', 'Dicksonia', 'Diplazium', 'Culcita', 'Dennstaedtia',\n",
       "       'Histiopteris', 'Hymenophyllum', 'Saccoloma', 'Cystodium',\n",
       "       'Azolla', 'Corallorhiza', 'Handroanthus', 'Medicago', 'Buddleja',\n",
       "       'Emorya', 'Parmentiera', 'Scrophularia', 'Lantana', 'Gomphostigma',\n",
       "       'Teedia', 'Funaria', 'Physcomitrium', 'Entosthodon',\n",
       "       'Lorentziella', 'Oedipodiella', 'Physcomitrellopsis',\n",
       "       'Goniomitrium', 'Bryobartramia', 'Discelium', 'Chamaebryum',\n",
       "       'Melilotus', 'Trigonella'], dtype=object)"
      ]
     },
     "execution_count": 60,
     "metadata": {},
     "output_type": "execute_result"
    }
   ],
   "source": [
    "# let's add a genera column to help filtering things we know aren't too useful\n",
    "genomesra3['genus'] = genomesra3['Organism Name'].replace('([A-Za-z]+) .+','\\\\1', regex = True).str.replace('[^a-zA-Z \\d]','')\n",
    "genomesra3['genus'].unique()"
   ]
  },
  {
   "cell_type": "code",
   "execution_count": 61,
   "metadata": {
    "ExecuteTime": {
     "end_time": "2021-05-12T14:52:05.644468Z",
     "start_time": "2021-05-12T14:52:05.617341Z"
    },
    "scrolled": false
   },
   "outputs": [
    {
     "name": "stdout",
     "output_type": "stream",
     "text": [
      "genera with two or less experiment accessions:  740\n",
      "genera with three or more experiment accessions:  226\n"
     ]
    }
   ],
   "source": [
    "# let's group by genus instead and filter out genera with 1-2 experiment accessions\n",
    "byorglib = genomesra3.groupby(by = ['genus'])['Experiment Accession'].count().reset_index()\n",
    "byorglib.sort_values('Experiment Accession', ascending = False, inplace = True)\n",
    "\n",
    "# make a list of species with less than or equal to 2 experiment accessions per genus\n",
    "remove = list(byorglib[byorglib['Experiment Accession'] <= 2]['genus'].unique())\n",
    "# list of remaining species with more than 2 expriment accessions\n",
    "remain = byorglib[byorglib['Experiment Accession'] > 2]['genus'].unique()\n",
    "print('genera with two or less experiment accessions: ',len(remove))\n",
    "print('genera with three or more experiment accessions: ',len(remain))"
   ]
  },
  {
   "cell_type": "code",
   "execution_count": 62,
   "metadata": {
    "ExecuteTime": {
     "end_time": "2021-05-12T14:52:07.560257Z",
     "start_time": "2021-05-12T14:52:07.554299Z"
    },
    "scrolled": true
   },
   "outputs": [
    {
     "data": {
      "text/plain": [
       "['Aralia']"
      ]
     },
     "execution_count": 62,
     "metadata": {},
     "output_type": "execute_result"
    }
   ],
   "source": [
    "# just checking that there is no Arabidopsis records\n",
    "[x for x in remove if 'Ara' in str(x)]"
   ]
  },
  {
   "cell_type": "code",
   "execution_count": 63,
   "metadata": {
    "ExecuteTime": {
     "end_time": "2021-05-12T14:52:09.851623Z",
     "start_time": "2021-05-12T14:52:09.811603Z"
    }
   },
   "outputs": [
    {
     "data": {
      "text/html": [
       "<div>\n",
       "<style scoped>\n",
       "    .dataframe tbody tr th:only-of-type {\n",
       "        vertical-align: middle;\n",
       "    }\n",
       "\n",
       "    .dataframe tbody tr th {\n",
       "        vertical-align: top;\n",
       "    }\n",
       "\n",
       "    .dataframe thead th {\n",
       "        text-align: right;\n",
       "    }\n",
       "</style>\n",
       "<table border=\"1\" class=\"dataframe\">\n",
       "  <thead>\n",
       "    <tr style=\"text-align: right;\">\n",
       "      <th></th>\n",
       "      <th>Experiment Accession</th>\n",
       "      <th>Experiment Title</th>\n",
       "      <th>Organism Name</th>\n",
       "      <th>Instrument</th>\n",
       "      <th>Submitter</th>\n",
       "      <th>Study Accession</th>\n",
       "      <th>Study Title</th>\n",
       "      <th>Sample Accession</th>\n",
       "      <th>Sample Title</th>\n",
       "      <th>Total Size, Mb</th>\n",
       "      <th>Total RUNs</th>\n",
       "      <th>Total Spots</th>\n",
       "      <th>Total Bases</th>\n",
       "      <th>Library Name</th>\n",
       "      <th>Library Strategy</th>\n",
       "      <th>Library Source</th>\n",
       "      <th>Library Selection</th>\n",
       "      <th>genus</th>\n",
       "    </tr>\n",
       "  </thead>\n",
       "  <tbody>\n",
       "    <tr>\n",
       "      <td>118</td>\n",
       "      <td>SRX10508039</td>\n",
       "      <td>Angiosperms 353 target capture of Castilleja c...</td>\n",
       "      <td>Castilleja citrina</td>\n",
       "      <td>NextSeq 500</td>\n",
       "      <td>Northwestern University</td>\n",
       "      <td>SRP313302</td>\n",
       "      <td>Range-wide sampling of Castilleja sessiliflora...</td>\n",
       "      <td>SRS8632265</td>\n",
       "      <td>NaN</td>\n",
       "      <td>281.41</td>\n",
       "      <td>1</td>\n",
       "      <td>2125445.0</td>\n",
       "      <td>6.376335e+08</td>\n",
       "      <td>CFC-9</td>\n",
       "      <td>Targeted-Capture</td>\n",
       "      <td>GENOMIC</td>\n",
       "      <td>Hybrid Selection</td>\n",
       "      <td>Castilleja</td>\n",
       "    </tr>\n",
       "    <tr>\n",
       "      <td>119</td>\n",
       "      <td>SRX10508038</td>\n",
       "      <td>Angiosperms 353 target capture of Castilleja c...</td>\n",
       "      <td>Castilleja citrina</td>\n",
       "      <td>NextSeq 500</td>\n",
       "      <td>Northwestern University</td>\n",
       "      <td>SRP313302</td>\n",
       "      <td>Range-wide sampling of Castilleja sessiliflora...</td>\n",
       "      <td>SRS8632264</td>\n",
       "      <td>NaN</td>\n",
       "      <td>432.05</td>\n",
       "      <td>1</td>\n",
       "      <td>3247805.0</td>\n",
       "      <td>9.743415e+08</td>\n",
       "      <td>CED-3</td>\n",
       "      <td>Targeted-Capture</td>\n",
       "      <td>GENOMIC</td>\n",
       "      <td>Hybrid Selection</td>\n",
       "      <td>Castilleja</td>\n",
       "    </tr>\n",
       "    <tr>\n",
       "      <td>120</td>\n",
       "      <td>SRX10508037</td>\n",
       "      <td>Angiosperms 353 target capture of Castilleja s...</td>\n",
       "      <td>Castilleja sessiliflora</td>\n",
       "      <td>NextSeq 500</td>\n",
       "      <td>Northwestern University</td>\n",
       "      <td>SRP313302</td>\n",
       "      <td>Range-wide sampling of Castilleja sessiliflora...</td>\n",
       "      <td>SRS8632263</td>\n",
       "      <td>NaN</td>\n",
       "      <td>120.95</td>\n",
       "      <td>1</td>\n",
       "      <td>910689.0</td>\n",
       "      <td>2.732067e+08</td>\n",
       "      <td>SWC-5</td>\n",
       "      <td>Targeted-Capture</td>\n",
       "      <td>GENOMIC</td>\n",
       "      <td>Hybrid Selection</td>\n",
       "      <td>Castilleja</td>\n",
       "    </tr>\n",
       "    <tr>\n",
       "      <td>121</td>\n",
       "      <td>SRX10508036</td>\n",
       "      <td>Angiosperms 353 target capture of Castilleja s...</td>\n",
       "      <td>Castilleja sessiliflora</td>\n",
       "      <td>NextSeq 500</td>\n",
       "      <td>Northwestern University</td>\n",
       "      <td>SRP313302</td>\n",
       "      <td>Range-wide sampling of Castilleja sessiliflora...</td>\n",
       "      <td>SRS8632262</td>\n",
       "      <td>NaN</td>\n",
       "      <td>189.54</td>\n",
       "      <td>1</td>\n",
       "      <td>1434460.0</td>\n",
       "      <td>4.303380e+08</td>\n",
       "      <td>SPB-11</td>\n",
       "      <td>Targeted-Capture</td>\n",
       "      <td>GENOMIC</td>\n",
       "      <td>Hybrid Selection</td>\n",
       "      <td>Castilleja</td>\n",
       "    </tr>\n",
       "    <tr>\n",
       "      <td>122</td>\n",
       "      <td>SRX10508035</td>\n",
       "      <td>Angiosperms 353 target capture of Castilleja c...</td>\n",
       "      <td>Castilleja citrina</td>\n",
       "      <td>NextSeq 500</td>\n",
       "      <td>Northwestern University</td>\n",
       "      <td>SRP313302</td>\n",
       "      <td>Range-wide sampling of Castilleja sessiliflora...</td>\n",
       "      <td>SRS8632261</td>\n",
       "      <td>NaN</td>\n",
       "      <td>281.53</td>\n",
       "      <td>1</td>\n",
       "      <td>2105885.0</td>\n",
       "      <td>6.317655e+08</td>\n",
       "      <td>CCCD-98</td>\n",
       "      <td>Targeted-Capture</td>\n",
       "      <td>GENOMIC</td>\n",
       "      <td>Hybrid Selection</td>\n",
       "      <td>Castilleja</td>\n",
       "    </tr>\n",
       "    <tr>\n",
       "      <td>...</td>\n",
       "      <td>...</td>\n",
       "      <td>...</td>\n",
       "      <td>...</td>\n",
       "      <td>...</td>\n",
       "      <td>...</td>\n",
       "      <td>...</td>\n",
       "      <td>...</td>\n",
       "      <td>...</td>\n",
       "      <td>...</td>\n",
       "      <td>...</td>\n",
       "      <td>...</td>\n",
       "      <td>...</td>\n",
       "      <td>...</td>\n",
       "      <td>...</td>\n",
       "      <td>...</td>\n",
       "      <td>...</td>\n",
       "      <td>...</td>\n",
       "      <td>...</td>\n",
       "    </tr>\n",
       "    <tr>\n",
       "      <td>876574</td>\n",
       "      <td>ERX1365514</td>\n",
       "      <td>Illumina MiSeq paired end sequencing</td>\n",
       "      <td>Solanum okadae</td>\n",
       "      <td>Illumina MiSeq</td>\n",
       "      <td>NaN</td>\n",
       "      <td>ERP014354</td>\n",
       "      <td>Utilizing 'Omics' technologies to identify and...</td>\n",
       "      <td>ERS1066749</td>\n",
       "      <td>NaN</td>\n",
       "      <td>862.78</td>\n",
       "      <td>1</td>\n",
       "      <td>3683854.0</td>\n",
       "      <td>1.849295e+09</td>\n",
       "      <td>unspecified</td>\n",
       "      <td>Targeted-Capture</td>\n",
       "      <td>GENOMIC</td>\n",
       "      <td>other</td>\n",
       "      <td>Solanum</td>\n",
       "    </tr>\n",
       "    <tr>\n",
       "      <td>876575</td>\n",
       "      <td>ERX1365513</td>\n",
       "      <td>Illumina MiSeq paired end sequencing</td>\n",
       "      <td>Solanum okadae</td>\n",
       "      <td>Illumina MiSeq</td>\n",
       "      <td>NaN</td>\n",
       "      <td>ERP014354</td>\n",
       "      <td>Utilizing 'Omics' technologies to identify and...</td>\n",
       "      <td>ERS1066748</td>\n",
       "      <td>NaN</td>\n",
       "      <td>470.01</td>\n",
       "      <td>1</td>\n",
       "      <td>1518349.0</td>\n",
       "      <td>7.890861e+08</td>\n",
       "      <td>unspecified</td>\n",
       "      <td>Targeted-Capture</td>\n",
       "      <td>GENOMIC</td>\n",
       "      <td>other</td>\n",
       "      <td>Solanum</td>\n",
       "    </tr>\n",
       "    <tr>\n",
       "      <td>876576</td>\n",
       "      <td>ERX1365512</td>\n",
       "      <td>Illumina MiSeq paired end sequencing</td>\n",
       "      <td>Solanum okadae</td>\n",
       "      <td>Illumina MiSeq</td>\n",
       "      <td>NaN</td>\n",
       "      <td>ERP014354</td>\n",
       "      <td>Utilizing 'Omics' technologies to identify and...</td>\n",
       "      <td>ERS1066747</td>\n",
       "      <td>NaN</td>\n",
       "      <td>609.47</td>\n",
       "      <td>1</td>\n",
       "      <td>1814975.0</td>\n",
       "      <td>9.812422e+08</td>\n",
       "      <td>unspecified</td>\n",
       "      <td>Targeted-Capture</td>\n",
       "      <td>GENOMIC</td>\n",
       "      <td>other</td>\n",
       "      <td>Solanum</td>\n",
       "    </tr>\n",
       "    <tr>\n",
       "      <td>876577</td>\n",
       "      <td>ERX1365511</td>\n",
       "      <td>Illumina MiSeq paired end sequencing</td>\n",
       "      <td>Solanum okadae</td>\n",
       "      <td>Illumina MiSeq</td>\n",
       "      <td>NaN</td>\n",
       "      <td>ERP014354</td>\n",
       "      <td>Utilizing 'Omics' technologies to identify and...</td>\n",
       "      <td>ERS1066746</td>\n",
       "      <td>NaN</td>\n",
       "      <td>616.72</td>\n",
       "      <td>1</td>\n",
       "      <td>2742300.0</td>\n",
       "      <td>1.376635e+09</td>\n",
       "      <td>unspecified</td>\n",
       "      <td>Targeted-Capture</td>\n",
       "      <td>GENOMIC</td>\n",
       "      <td>other</td>\n",
       "      <td>Solanum</td>\n",
       "    </tr>\n",
       "    <tr>\n",
       "      <td>876578</td>\n",
       "      <td>ERX1365510</td>\n",
       "      <td>Illumina MiSeq paired end sequencing</td>\n",
       "      <td>Solanum okadae</td>\n",
       "      <td>Illumina MiSeq</td>\n",
       "      <td>NaN</td>\n",
       "      <td>ERP014354</td>\n",
       "      <td>Utilizing 'Omics' technologies to identify and...</td>\n",
       "      <td>ERS1066745</td>\n",
       "      <td>NaN</td>\n",
       "      <td>709.57</td>\n",
       "      <td>1</td>\n",
       "      <td>3179448.0</td>\n",
       "      <td>1.596083e+09</td>\n",
       "      <td>unspecified</td>\n",
       "      <td>Targeted-Capture</td>\n",
       "      <td>GENOMIC</td>\n",
       "      <td>other</td>\n",
       "      <td>Solanum</td>\n",
       "    </tr>\n",
       "  </tbody>\n",
       "</table>\n",
       "<p>22725 rows × 18 columns</p>\n",
       "</div>"
      ],
      "text/plain": [
       "       Experiment Accession  \\\n",
       "118             SRX10508039   \n",
       "119             SRX10508038   \n",
       "120             SRX10508037   \n",
       "121             SRX10508036   \n",
       "122             SRX10508035   \n",
       "...                     ...   \n",
       "876574           ERX1365514   \n",
       "876575           ERX1365513   \n",
       "876576           ERX1365512   \n",
       "876577           ERX1365511   \n",
       "876578           ERX1365510   \n",
       "\n",
       "                                         Experiment Title  \\\n",
       "118     Angiosperms 353 target capture of Castilleja c...   \n",
       "119     Angiosperms 353 target capture of Castilleja c...   \n",
       "120     Angiosperms 353 target capture of Castilleja s...   \n",
       "121     Angiosperms 353 target capture of Castilleja s...   \n",
       "122     Angiosperms 353 target capture of Castilleja c...   \n",
       "...                                                   ...   \n",
       "876574               Illumina MiSeq paired end sequencing   \n",
       "876575               Illumina MiSeq paired end sequencing   \n",
       "876576               Illumina MiSeq paired end sequencing   \n",
       "876577               Illumina MiSeq paired end sequencing   \n",
       "876578               Illumina MiSeq paired end sequencing   \n",
       "\n",
       "                  Organism Name      Instrument                Submitter  \\\n",
       "118          Castilleja citrina     NextSeq 500  Northwestern University   \n",
       "119          Castilleja citrina     NextSeq 500  Northwestern University   \n",
       "120     Castilleja sessiliflora     NextSeq 500  Northwestern University   \n",
       "121     Castilleja sessiliflora     NextSeq 500  Northwestern University   \n",
       "122          Castilleja citrina     NextSeq 500  Northwestern University   \n",
       "...                         ...             ...                      ...   \n",
       "876574           Solanum okadae  Illumina MiSeq                      NaN   \n",
       "876575           Solanum okadae  Illumina MiSeq                      NaN   \n",
       "876576           Solanum okadae  Illumina MiSeq                      NaN   \n",
       "876577           Solanum okadae  Illumina MiSeq                      NaN   \n",
       "876578           Solanum okadae  Illumina MiSeq                      NaN   \n",
       "\n",
       "       Study Accession                                        Study Title  \\\n",
       "118          SRP313302  Range-wide sampling of Castilleja sessiliflora...   \n",
       "119          SRP313302  Range-wide sampling of Castilleja sessiliflora...   \n",
       "120          SRP313302  Range-wide sampling of Castilleja sessiliflora...   \n",
       "121          SRP313302  Range-wide sampling of Castilleja sessiliflora...   \n",
       "122          SRP313302  Range-wide sampling of Castilleja sessiliflora...   \n",
       "...                ...                                                ...   \n",
       "876574       ERP014354  Utilizing 'Omics' technologies to identify and...   \n",
       "876575       ERP014354  Utilizing 'Omics' technologies to identify and...   \n",
       "876576       ERP014354  Utilizing 'Omics' technologies to identify and...   \n",
       "876577       ERP014354  Utilizing 'Omics' technologies to identify and...   \n",
       "876578       ERP014354  Utilizing 'Omics' technologies to identify and...   \n",
       "\n",
       "       Sample Accession Sample Title  Total Size, Mb  Total RUNs  Total Spots  \\\n",
       "118          SRS8632265          NaN          281.41           1    2125445.0   \n",
       "119          SRS8632264          NaN          432.05           1    3247805.0   \n",
       "120          SRS8632263          NaN          120.95           1     910689.0   \n",
       "121          SRS8632262          NaN          189.54           1    1434460.0   \n",
       "122          SRS8632261          NaN          281.53           1    2105885.0   \n",
       "...                 ...          ...             ...         ...          ...   \n",
       "876574       ERS1066749          NaN          862.78           1    3683854.0   \n",
       "876575       ERS1066748          NaN          470.01           1    1518349.0   \n",
       "876576       ERS1066747          NaN          609.47           1    1814975.0   \n",
       "876577       ERS1066746          NaN          616.72           1    2742300.0   \n",
       "876578       ERS1066745          NaN          709.57           1    3179448.0   \n",
       "\n",
       "         Total Bases Library Name  Library Strategy Library Source  \\\n",
       "118     6.376335e+08        CFC-9  Targeted-Capture        GENOMIC   \n",
       "119     9.743415e+08        CED-3  Targeted-Capture        GENOMIC   \n",
       "120     2.732067e+08        SWC-5  Targeted-Capture        GENOMIC   \n",
       "121     4.303380e+08       SPB-11  Targeted-Capture        GENOMIC   \n",
       "122     6.317655e+08      CCCD-98  Targeted-Capture        GENOMIC   \n",
       "...              ...          ...               ...            ...   \n",
       "876574  1.849295e+09  unspecified  Targeted-Capture        GENOMIC   \n",
       "876575  7.890861e+08  unspecified  Targeted-Capture        GENOMIC   \n",
       "876576  9.812422e+08  unspecified  Targeted-Capture        GENOMIC   \n",
       "876577  1.376635e+09  unspecified  Targeted-Capture        GENOMIC   \n",
       "876578  1.596083e+09  unspecified  Targeted-Capture        GENOMIC   \n",
       "\n",
       "       Library Selection       genus  \n",
       "118     Hybrid Selection  Castilleja  \n",
       "119     Hybrid Selection  Castilleja  \n",
       "120     Hybrid Selection  Castilleja  \n",
       "121     Hybrid Selection  Castilleja  \n",
       "122     Hybrid Selection  Castilleja  \n",
       "...                  ...         ...  \n",
       "876574             other     Solanum  \n",
       "876575             other     Solanum  \n",
       "876576             other     Solanum  \n",
       "876577             other     Solanum  \n",
       "876578             other     Solanum  \n",
       "\n",
       "[22725 rows x 18 columns]"
      ]
     },
     "execution_count": 63,
     "metadata": {},
     "output_type": "execute_result"
    }
   ],
   "source": [
    "# now, removing the genera we flagged above\n",
    "genomesra4 = genomesra3[~genomesra3['genus'].isin(remove)] # because I added genera to the remove list that have <= 3 accessions\n",
    "genomesra4"
   ]
  },
  {
   "cell_type": "code",
   "execution_count": 64,
   "metadata": {
    "ExecuteTime": {
     "end_time": "2021-05-12T14:52:11.555788Z",
     "start_time": "2021-05-12T14:52:11.539712Z"
    }
   },
   "outputs": [
    {
     "data": {
      "text/plain": [
       "array(['Picea', 'Triticum', 'Zea'], dtype=object)"
      ]
     },
     "execution_count": 64,
     "metadata": {},
     "output_type": "execute_result"
    }
   ],
   "source": [
    "# checking the genera again\n",
    "byorglib = genomesra4.groupby(by = ['genus'])['Experiment Accession'].count().reset_index()\n",
    "byorglib.sort_values('Experiment Accession', ascending = False, inplace = True)\n",
    "\n",
    "# print the genera with more than 1500 accessions\n",
    "byorglib[byorglib['Experiment Accession'] >= 1500]['genus'].values"
   ]
  },
  {
   "cell_type": "code",
   "execution_count": 65,
   "metadata": {
    "ExecuteTime": {
     "end_time": "2021-05-12T14:52:12.960226Z",
     "start_time": "2021-05-12T14:52:12.938513Z"
    }
   },
   "outputs": [
    {
     "data": {
      "text/html": [
       "<div>\n",
       "<style scoped>\n",
       "    .dataframe tbody tr th:only-of-type {\n",
       "        vertical-align: middle;\n",
       "    }\n",
       "\n",
       "    .dataframe tbody tr th {\n",
       "        vertical-align: top;\n",
       "    }\n",
       "\n",
       "    .dataframe thead th {\n",
       "        text-align: right;\n",
       "    }\n",
       "</style>\n",
       "<table border=\"1\" class=\"dataframe\">\n",
       "  <thead>\n",
       "    <tr style=\"text-align: right;\">\n",
       "      <th></th>\n",
       "      <th>genus</th>\n",
       "      <th>Experiment Accession</th>\n",
       "    </tr>\n",
       "  </thead>\n",
       "  <tbody>\n",
       "    <tr>\n",
       "      <td>202</td>\n",
       "      <td>Triticum</td>\n",
       "      <td>2702</td>\n",
       "    </tr>\n",
       "    <tr>\n",
       "      <td>210</td>\n",
       "      <td>Zea</td>\n",
       "      <td>2685</td>\n",
       "    </tr>\n",
       "    <tr>\n",
       "      <td>160</td>\n",
       "      <td>Populus</td>\n",
       "      <td>1298</td>\n",
       "    </tr>\n",
       "    <tr>\n",
       "      <td>113</td>\n",
       "      <td>Lolium</td>\n",
       "      <td>736</td>\n",
       "    </tr>\n",
       "    <tr>\n",
       "      <td>87</td>\n",
       "      <td>Geonoma</td>\n",
       "      <td>681</td>\n",
       "    </tr>\n",
       "    <tr>\n",
       "      <td>...</td>\n",
       "      <td>...</td>\n",
       "      <td>...</td>\n",
       "    </tr>\n",
       "    <tr>\n",
       "      <td>155</td>\n",
       "      <td>Plerandra</td>\n",
       "      <td>3</td>\n",
       "    </tr>\n",
       "    <tr>\n",
       "      <td>156</td>\n",
       "      <td>Pleroma</td>\n",
       "      <td>3</td>\n",
       "    </tr>\n",
       "    <tr>\n",
       "      <td>161</td>\n",
       "      <td>Prometheum</td>\n",
       "      <td>3</td>\n",
       "    </tr>\n",
       "    <tr>\n",
       "      <td>170</td>\n",
       "      <td>Rhabdophyllum</td>\n",
       "      <td>3</td>\n",
       "    </tr>\n",
       "    <tr>\n",
       "      <td>107</td>\n",
       "      <td>Laccosperma</td>\n",
       "      <td>3</td>\n",
       "    </tr>\n",
       "  </tbody>\n",
       "</table>\n",
       "<p>215 rows × 2 columns</p>\n",
       "</div>"
      ],
      "text/plain": [
       "             genus  Experiment Accession\n",
       "202       Triticum                  2702\n",
       "210            Zea                  2685\n",
       "160        Populus                  1298\n",
       "113         Lolium                   736\n",
       "87         Geonoma                   681\n",
       "..             ...                   ...\n",
       "155      Plerandra                     3\n",
       "156        Pleroma                     3\n",
       "161     Prometheum                     3\n",
       "170  Rhabdophyllum                     3\n",
       "107    Laccosperma                     3\n",
       "\n",
       "[215 rows x 2 columns]"
      ]
     },
     "execution_count": 65,
     "metadata": {},
     "output_type": "execute_result"
    }
   ],
   "source": [
    "remove = ['Oryza', 'Hordeum', 'Arabidopsis', 'Helianthus',\n",
    "       'Brassica', 'Sorghum',  'Pinus', 'Picea', 'Malus', 'Prunus', 'Cicer', \n",
    "       'Eucalyptus','x']\n",
    "# filter again\n",
    "genomesra5 = genomesra4[~genomesra4['genus'].isin(remove)]\n",
    "# groupby againa\n",
    "byorglib = genomesra5.groupby(by = ['genus'])['Experiment Accession'].count().reset_index()\n",
    "byorglib.sort_values('Experiment Accession', ascending = False, inplace = True)\n",
    "byorglib"
   ]
  },
  {
   "cell_type": "code",
   "execution_count": 66,
   "metadata": {
    "ExecuteTime": {
     "end_time": "2021-05-12T14:52:14.353181Z",
     "start_time": "2021-05-12T14:52:14.305502Z"
    }
   },
   "outputs": [
    {
     "data": {
      "application/vnd.plotly.v1+json": {
       "config": {
        "plotlyServerURL": "https://plot.ly"
       },
       "data": [
        {
         "textfont": {
          "size": 6
         },
         "textposition": "outside",
         "type": "bar",
         "x": [
          "Triticum",
          "Zea",
          "Populus",
          "Lolium",
          "Geonoma",
          "Aegilops",
          "Erythroxylum",
          "Ipomoea",
          "Quercus",
          "Solanum",
          "Mauritia",
          "Greenwayodendron",
          "Capurodendron",
          "Costus",
          "Nepenthes",
          "Podococcus",
          "Micranthes",
          "Anacyclus",
          "Saxifraga",
          "Medicago",
          "Tibouchina",
          "Cenchrus",
          "Sclerosperma",
          "Ouratea",
          "Annickia",
          "Euphorbia",
          "Dioscorea",
          "Veronica",
          "Anonidium",
          "Monanthotaxis",
          "Perityle",
          "Aiphanes",
          "Phytelephas",
          "Burmeistera",
          "Pennisetum glaucum",
          "Carex",
          "Schefflera",
          "Sedum",
          "Castilleja",
          "Ribes",
          "Cardamine",
          "Jurinea",
          "Raphia",
          "Brownea",
          "Alchemilla",
          "Salix",
          "Crassula",
          "Digitaria",
          "Gentiana",
          "Corallorhiza",
          "Coffea",
          "Vitis",
          "Handroanthus",
          "Calyptrogyne",
          "Saussurea",
          "Sauvagesia",
          "Begonia",
          "Buddleja",
          "Ochna",
          "Hymenocallis",
          "Antennaria",
          "Polystachya",
          "Rubus",
          "Leptospermum",
          "Physcomitrium",
          "Calamus",
          "Cyrtandra",
          "Inga",
          "Cyperus",
          "Ranunculus",
          "Pholidostachys",
          "Piptostigma",
          "Albizia",
          "Pyrenacantha",
          "Ampelocissus",
          "Boechera",
          "Chrysosplenium",
          "Crataegus",
          "Rhynchospora",
          "spermatophyte",
          "Dolomiaea",
          "Kalanchoe",
          "Campylospermum",
          "Entosthodon",
          "Epidendrum",
          "Bulbostylis",
          "Iodes",
          "Chresta",
          "Asterogyne",
          "Funaria",
          "Lachemilla",
          "Fimbristylis",
          "Luxemburgia",
          "Rhodiola",
          "Lecomtedoxa",
          "Daphniphyllum",
          "Cissus",
          "Glycine",
          "Centropogon",
          "Tetrastigma",
          "Heliconia",
          "Hylotelephium",
          "Trifolium",
          "Stenomesson",
          "Rosularia",
          "Brackenridgea",
          "Plantago",
          "Diapensia",
          "Siphocampylus",
          "Echeveria",
          "Sinningia",
          "Cousinia",
          "Cyphostemma",
          "Lactuca",
          "Eucharis",
          "Avena",
          "Shortia",
          "Clinanthus",
          "Mimusops",
          "cf Costus",
          "Alsodeiopsis",
          "Phytocrene",
          "Phedimus",
          "Parthenocissus",
          "Arctium",
          "Cayratia",
          "Pterisanthes",
          "Nicotiana",
          "Neolemonniera",
          "Itea",
          "Umbilicus",
          "Streptocarpus",
          "Licuala",
          "Macrolobium",
          "Eucrosia",
          "Causonis",
          "Desmostachys",
          "Hibiscus",
          "Aphanes",
          "Gluema",
          "Browneopsis",
          "Nothapodytes",
          "Faucherea",
          "Adromischus",
          "Villadia",
          "Eremanthus",
          "Boykinia",
          "Pseudocayratia",
          "Pterostemon",
          "Aichryson",
          "Pyxidanthera",
          "Salacca",
          "Astilbe",
          "Heliophila",
          "Alpinia",
          "Eremospatha",
          "Icacina",
          "Rhyticaryum",
          "Musa",
          "Polyceratocarpus",
          "Canna",
          "Monodora",
          "Monanthes",
          "Melilotus",
          "Melanthera",
          "Paramongaia",
          "Welfia",
          "Nabalus",
          "Inhambanella",
          "Phaedranassa",
          "Lychnophora",
          "Calyptronoma",
          "Zanthoxylum",
          "Acineta",
          "Korthalsia",
          "Tsebona",
          "Zingiber",
          "Zygia",
          "Stachyanthus",
          "Trichocline",
          "Schizocodon",
          "Sempervivum",
          "Strelitzia",
          "Siphonochilus",
          "Achillea",
          "Sarcostigma",
          "Rhoicissus",
          "Actinoschoenus",
          "Amauria",
          "Ampelopsis",
          "Bemangidia",
          "Caliphruria",
          "Casimirella",
          "Ceroxylon",
          "Cotyledon",
          "Curcuma",
          "Echinops",
          "Elvasia",
          "Ensete",
          "Gamochaeta",
          "Kunzea",
          "Mappia",
          "Mauritiella",
          "Miquelia",
          "Nectaropetalum",
          "Orchidantha",
          "Oreocharis",
          "Orostachys",
          "Pericome",
          "Pistorinia",
          "Plerandra",
          "Pleroma",
          "Prometheum",
          "Rhabdophyllum",
          "Laccosperma"
         ],
         "xaxis": "x",
         "y": [
          2702,
          2685,
          1298,
          736,
          681,
          596,
          505,
          430,
          312,
          292,
          266,
          219,
          208,
          194,
          182,
          174,
          171,
          144,
          142,
          140,
          137,
          134,
          129,
          127,
          125,
          121,
          120,
          118,
          111,
          110,
          101,
          100,
          94,
          92,
          89,
          87,
          83,
          72,
          72,
          72,
          70,
          66,
          65,
          58,
          57,
          54,
          52,
          50,
          49,
          49,
          49,
          48,
          48,
          48,
          47,
          45,
          43,
          43,
          43,
          41,
          41,
          41,
          40,
          39,
          39,
          37,
          35,
          32,
          31,
          30,
          30,
          29,
          25,
          24,
          24,
          24,
          24,
          23,
          21,
          21,
          20,
          19,
          19,
          19,
          18,
          18,
          17,
          17,
          17,
          16,
          16,
          15,
          14,
          14,
          14,
          13,
          13,
          12,
          12,
          12,
          11,
          10,
          10,
          9,
          9,
          9,
          9,
          9,
          8,
          8,
          8,
          8,
          8,
          8,
          7,
          7,
          7,
          7,
          7,
          7,
          7,
          6,
          6,
          6,
          6,
          6,
          6,
          6,
          6,
          6,
          6,
          6,
          6,
          6,
          5,
          5,
          5,
          5,
          5,
          5,
          5,
          5,
          5,
          5,
          5,
          4,
          4,
          4,
          4,
          4,
          4,
          4,
          4,
          4,
          4,
          4,
          4,
          4,
          4,
          4,
          4,
          4,
          4,
          4,
          4,
          4,
          4,
          4,
          4,
          4,
          4,
          4,
          4,
          4,
          4,
          3,
          3,
          3,
          3,
          3,
          3,
          3,
          3,
          3,
          3,
          3,
          3,
          3,
          3,
          3,
          3,
          3,
          3,
          3,
          3,
          3,
          3,
          3,
          3,
          3,
          3,
          3,
          3,
          3,
          3,
          3,
          3,
          3,
          3,
          3,
          3,
          3,
          3,
          3,
          3
         ],
         "yaxis": "y"
        }
       ],
       "layout": {
        "template": {
         "data": {
          "bar": [
           {
            "error_x": {
             "color": "#2a3f5f"
            },
            "error_y": {
             "color": "#2a3f5f"
            },
            "marker": {
             "line": {
              "color": "#E5ECF6",
              "width": 0.5
             }
            },
            "type": "bar"
           }
          ],
          "barpolar": [
           {
            "marker": {
             "line": {
              "color": "#E5ECF6",
              "width": 0.5
             }
            },
            "type": "barpolar"
           }
          ],
          "carpet": [
           {
            "aaxis": {
             "endlinecolor": "#2a3f5f",
             "gridcolor": "white",
             "linecolor": "white",
             "minorgridcolor": "white",
             "startlinecolor": "#2a3f5f"
            },
            "baxis": {
             "endlinecolor": "#2a3f5f",
             "gridcolor": "white",
             "linecolor": "white",
             "minorgridcolor": "white",
             "startlinecolor": "#2a3f5f"
            },
            "type": "carpet"
           }
          ],
          "choropleth": [
           {
            "colorbar": {
             "outlinewidth": 0,
             "ticks": ""
            },
            "type": "choropleth"
           }
          ],
          "contour": [
           {
            "colorbar": {
             "outlinewidth": 0,
             "ticks": ""
            },
            "colorscale": [
             [
              0,
              "#0d0887"
             ],
             [
              0.1111111111111111,
              "#46039f"
             ],
             [
              0.2222222222222222,
              "#7201a8"
             ],
             [
              0.3333333333333333,
              "#9c179e"
             ],
             [
              0.4444444444444444,
              "#bd3786"
             ],
             [
              0.5555555555555556,
              "#d8576b"
             ],
             [
              0.6666666666666666,
              "#ed7953"
             ],
             [
              0.7777777777777778,
              "#fb9f3a"
             ],
             [
              0.8888888888888888,
              "#fdca26"
             ],
             [
              1,
              "#f0f921"
             ]
            ],
            "type": "contour"
           }
          ],
          "contourcarpet": [
           {
            "colorbar": {
             "outlinewidth": 0,
             "ticks": ""
            },
            "type": "contourcarpet"
           }
          ],
          "heatmap": [
           {
            "colorbar": {
             "outlinewidth": 0,
             "ticks": ""
            },
            "colorscale": [
             [
              0,
              "#0d0887"
             ],
             [
              0.1111111111111111,
              "#46039f"
             ],
             [
              0.2222222222222222,
              "#7201a8"
             ],
             [
              0.3333333333333333,
              "#9c179e"
             ],
             [
              0.4444444444444444,
              "#bd3786"
             ],
             [
              0.5555555555555556,
              "#d8576b"
             ],
             [
              0.6666666666666666,
              "#ed7953"
             ],
             [
              0.7777777777777778,
              "#fb9f3a"
             ],
             [
              0.8888888888888888,
              "#fdca26"
             ],
             [
              1,
              "#f0f921"
             ]
            ],
            "type": "heatmap"
           }
          ],
          "heatmapgl": [
           {
            "colorbar": {
             "outlinewidth": 0,
             "ticks": ""
            },
            "colorscale": [
             [
              0,
              "#0d0887"
             ],
             [
              0.1111111111111111,
              "#46039f"
             ],
             [
              0.2222222222222222,
              "#7201a8"
             ],
             [
              0.3333333333333333,
              "#9c179e"
             ],
             [
              0.4444444444444444,
              "#bd3786"
             ],
             [
              0.5555555555555556,
              "#d8576b"
             ],
             [
              0.6666666666666666,
              "#ed7953"
             ],
             [
              0.7777777777777778,
              "#fb9f3a"
             ],
             [
              0.8888888888888888,
              "#fdca26"
             ],
             [
              1,
              "#f0f921"
             ]
            ],
            "type": "heatmapgl"
           }
          ],
          "histogram": [
           {
            "marker": {
             "colorbar": {
              "outlinewidth": 0,
              "ticks": ""
             }
            },
            "type": "histogram"
           }
          ],
          "histogram2d": [
           {
            "colorbar": {
             "outlinewidth": 0,
             "ticks": ""
            },
            "colorscale": [
             [
              0,
              "#0d0887"
             ],
             [
              0.1111111111111111,
              "#46039f"
             ],
             [
              0.2222222222222222,
              "#7201a8"
             ],
             [
              0.3333333333333333,
              "#9c179e"
             ],
             [
              0.4444444444444444,
              "#bd3786"
             ],
             [
              0.5555555555555556,
              "#d8576b"
             ],
             [
              0.6666666666666666,
              "#ed7953"
             ],
             [
              0.7777777777777778,
              "#fb9f3a"
             ],
             [
              0.8888888888888888,
              "#fdca26"
             ],
             [
              1,
              "#f0f921"
             ]
            ],
            "type": "histogram2d"
           }
          ],
          "histogram2dcontour": [
           {
            "colorbar": {
             "outlinewidth": 0,
             "ticks": ""
            },
            "colorscale": [
             [
              0,
              "#0d0887"
             ],
             [
              0.1111111111111111,
              "#46039f"
             ],
             [
              0.2222222222222222,
              "#7201a8"
             ],
             [
              0.3333333333333333,
              "#9c179e"
             ],
             [
              0.4444444444444444,
              "#bd3786"
             ],
             [
              0.5555555555555556,
              "#d8576b"
             ],
             [
              0.6666666666666666,
              "#ed7953"
             ],
             [
              0.7777777777777778,
              "#fb9f3a"
             ],
             [
              0.8888888888888888,
              "#fdca26"
             ],
             [
              1,
              "#f0f921"
             ]
            ],
            "type": "histogram2dcontour"
           }
          ],
          "mesh3d": [
           {
            "colorbar": {
             "outlinewidth": 0,
             "ticks": ""
            },
            "type": "mesh3d"
           }
          ],
          "parcoords": [
           {
            "line": {
             "colorbar": {
              "outlinewidth": 0,
              "ticks": ""
             }
            },
            "type": "parcoords"
           }
          ],
          "pie": [
           {
            "automargin": true,
            "type": "pie"
           }
          ],
          "scatter": [
           {
            "marker": {
             "colorbar": {
              "outlinewidth": 0,
              "ticks": ""
             }
            },
            "type": "scatter"
           }
          ],
          "scatter3d": [
           {
            "line": {
             "colorbar": {
              "outlinewidth": 0,
              "ticks": ""
             }
            },
            "marker": {
             "colorbar": {
              "outlinewidth": 0,
              "ticks": ""
             }
            },
            "type": "scatter3d"
           }
          ],
          "scattercarpet": [
           {
            "marker": {
             "colorbar": {
              "outlinewidth": 0,
              "ticks": ""
             }
            },
            "type": "scattercarpet"
           }
          ],
          "scattergeo": [
           {
            "marker": {
             "colorbar": {
              "outlinewidth": 0,
              "ticks": ""
             }
            },
            "type": "scattergeo"
           }
          ],
          "scattergl": [
           {
            "marker": {
             "colorbar": {
              "outlinewidth": 0,
              "ticks": ""
             }
            },
            "type": "scattergl"
           }
          ],
          "scattermapbox": [
           {
            "marker": {
             "colorbar": {
              "outlinewidth": 0,
              "ticks": ""
             }
            },
            "type": "scattermapbox"
           }
          ],
          "scatterpolar": [
           {
            "marker": {
             "colorbar": {
              "outlinewidth": 0,
              "ticks": ""
             }
            },
            "type": "scatterpolar"
           }
          ],
          "scatterpolargl": [
           {
            "marker": {
             "colorbar": {
              "outlinewidth": 0,
              "ticks": ""
             }
            },
            "type": "scatterpolargl"
           }
          ],
          "scatterternary": [
           {
            "marker": {
             "colorbar": {
              "outlinewidth": 0,
              "ticks": ""
             }
            },
            "type": "scatterternary"
           }
          ],
          "surface": [
           {
            "colorbar": {
             "outlinewidth": 0,
             "ticks": ""
            },
            "colorscale": [
             [
              0,
              "#0d0887"
             ],
             [
              0.1111111111111111,
              "#46039f"
             ],
             [
              0.2222222222222222,
              "#7201a8"
             ],
             [
              0.3333333333333333,
              "#9c179e"
             ],
             [
              0.4444444444444444,
              "#bd3786"
             ],
             [
              0.5555555555555556,
              "#d8576b"
             ],
             [
              0.6666666666666666,
              "#ed7953"
             ],
             [
              0.7777777777777778,
              "#fb9f3a"
             ],
             [
              0.8888888888888888,
              "#fdca26"
             ],
             [
              1,
              "#f0f921"
             ]
            ],
            "type": "surface"
           }
          ],
          "table": [
           {
            "cells": {
             "fill": {
              "color": "#EBF0F8"
             },
             "line": {
              "color": "white"
             }
            },
            "header": {
             "fill": {
              "color": "#C8D4E3"
             },
             "line": {
              "color": "white"
             }
            },
            "type": "table"
           }
          ]
         },
         "layout": {
          "annotationdefaults": {
           "arrowcolor": "#2a3f5f",
           "arrowhead": 0,
           "arrowwidth": 1
          },
          "autotypenumbers": "strict",
          "coloraxis": {
           "colorbar": {
            "outlinewidth": 0,
            "ticks": ""
           }
          },
          "colorscale": {
           "diverging": [
            [
             0,
             "#8e0152"
            ],
            [
             0.1,
             "#c51b7d"
            ],
            [
             0.2,
             "#de77ae"
            ],
            [
             0.3,
             "#f1b6da"
            ],
            [
             0.4,
             "#fde0ef"
            ],
            [
             0.5,
             "#f7f7f7"
            ],
            [
             0.6,
             "#e6f5d0"
            ],
            [
             0.7,
             "#b8e186"
            ],
            [
             0.8,
             "#7fbc41"
            ],
            [
             0.9,
             "#4d9221"
            ],
            [
             1,
             "#276419"
            ]
           ],
           "sequential": [
            [
             0,
             "#0d0887"
            ],
            [
             0.1111111111111111,
             "#46039f"
            ],
            [
             0.2222222222222222,
             "#7201a8"
            ],
            [
             0.3333333333333333,
             "#9c179e"
            ],
            [
             0.4444444444444444,
             "#bd3786"
            ],
            [
             0.5555555555555556,
             "#d8576b"
            ],
            [
             0.6666666666666666,
             "#ed7953"
            ],
            [
             0.7777777777777778,
             "#fb9f3a"
            ],
            [
             0.8888888888888888,
             "#fdca26"
            ],
            [
             1,
             "#f0f921"
            ]
           ],
           "sequentialminus": [
            [
             0,
             "#0d0887"
            ],
            [
             0.1111111111111111,
             "#46039f"
            ],
            [
             0.2222222222222222,
             "#7201a8"
            ],
            [
             0.3333333333333333,
             "#9c179e"
            ],
            [
             0.4444444444444444,
             "#bd3786"
            ],
            [
             0.5555555555555556,
             "#d8576b"
            ],
            [
             0.6666666666666666,
             "#ed7953"
            ],
            [
             0.7777777777777778,
             "#fb9f3a"
            ],
            [
             0.8888888888888888,
             "#fdca26"
            ],
            [
             1,
             "#f0f921"
            ]
           ]
          },
          "colorway": [
           "#636efa",
           "#EF553B",
           "#00cc96",
           "#ab63fa",
           "#FFA15A",
           "#19d3f3",
           "#FF6692",
           "#B6E880",
           "#FF97FF",
           "#FECB52"
          ],
          "font": {
           "color": "#2a3f5f"
          },
          "geo": {
           "bgcolor": "white",
           "lakecolor": "white",
           "landcolor": "#E5ECF6",
           "showlakes": true,
           "showland": true,
           "subunitcolor": "white"
          },
          "hoverlabel": {
           "align": "left"
          },
          "hovermode": "closest",
          "mapbox": {
           "style": "light"
          },
          "paper_bgcolor": "white",
          "plot_bgcolor": "#E5ECF6",
          "polar": {
           "angularaxis": {
            "gridcolor": "white",
            "linecolor": "white",
            "ticks": ""
           },
           "bgcolor": "#E5ECF6",
           "radialaxis": {
            "gridcolor": "white",
            "linecolor": "white",
            "ticks": ""
           }
          },
          "scene": {
           "xaxis": {
            "backgroundcolor": "#E5ECF6",
            "gridcolor": "white",
            "gridwidth": 2,
            "linecolor": "white",
            "showbackground": true,
            "ticks": "",
            "zerolinecolor": "white"
           },
           "yaxis": {
            "backgroundcolor": "#E5ECF6",
            "gridcolor": "white",
            "gridwidth": 2,
            "linecolor": "white",
            "showbackground": true,
            "ticks": "",
            "zerolinecolor": "white"
           },
           "zaxis": {
            "backgroundcolor": "#E5ECF6",
            "gridcolor": "white",
            "gridwidth": 2,
            "linecolor": "white",
            "showbackground": true,
            "ticks": "",
            "zerolinecolor": "white"
           }
          },
          "shapedefaults": {
           "line": {
            "color": "#2a3f5f"
           }
          },
          "ternary": {
           "aaxis": {
            "gridcolor": "white",
            "linecolor": "white",
            "ticks": ""
           },
           "baxis": {
            "gridcolor": "white",
            "linecolor": "white",
            "ticks": ""
           },
           "bgcolor": "#E5ECF6",
           "caxis": {
            "gridcolor": "white",
            "linecolor": "white",
            "ticks": ""
           }
          },
          "title": {
           "x": 0.05
          },
          "xaxis": {
           "automargin": true,
           "gridcolor": "white",
           "linecolor": "white",
           "ticks": "",
           "title": {
            "standoff": 15
           },
           "zerolinecolor": "white",
           "zerolinewidth": 2
          },
          "yaxis": {
           "automargin": true,
           "gridcolor": "white",
           "linecolor": "white",
           "ticks": "",
           "title": {
            "standoff": 15
           },
           "zerolinecolor": "white",
           "zerolinewidth": 2
          }
         }
        },
        "xaxis": {
         "anchor": "y",
         "domain": [
          0,
          1
         ]
        },
        "yaxis": {
         "anchor": "x",
         "domain": [
          0,
          1
         ]
        }
       }
      },
      "text/html": [
       "<div>                            <div id=\"cc87e9a1-65b3-4f07-96e1-c99e40cd860c\" class=\"plotly-graph-div\" style=\"height:525px; width:100%;\"></div>            <script type=\"text/javascript\">                require([\"plotly\"], function(Plotly) {                    window.PLOTLYENV=window.PLOTLYENV || {};                                    if (document.getElementById(\"cc87e9a1-65b3-4f07-96e1-c99e40cd860c\")) {                    Plotly.newPlot(                        \"cc87e9a1-65b3-4f07-96e1-c99e40cd860c\",                        [{\"textfont\": {\"size\": 6}, \"textposition\": \"outside\", \"type\": \"bar\", \"x\": [\"Triticum\", \"Zea\", \"Populus\", \"Lolium\", \"Geonoma\", \"Aegilops\", \"Erythroxylum\", \"Ipomoea\", \"Quercus\", \"Solanum\", \"Mauritia\", \"Greenwayodendron\", \"Capurodendron\", \"Costus\", \"Nepenthes\", \"Podococcus\", \"Micranthes\", \"Anacyclus\", \"Saxifraga\", \"Medicago\", \"Tibouchina\", \"Cenchrus\", \"Sclerosperma\", \"Ouratea\", \"Annickia\", \"Euphorbia\", \"Dioscorea\", \"Veronica\", \"Anonidium\", \"Monanthotaxis\", \"Perityle\", \"Aiphanes\", \"Phytelephas\", \"Burmeistera\", \"Pennisetum glaucum\", \"Carex\", \"Schefflera\", \"Sedum\", \"Castilleja\", \"Ribes\", \"Cardamine\", \"Jurinea\", \"Raphia\", \"Brownea\", \"Alchemilla\", \"Salix\", \"Crassula\", \"Digitaria\", \"Gentiana\", \"Corallorhiza\", \"Coffea\", \"Vitis\", \"Handroanthus\", \"Calyptrogyne\", \"Saussurea\", \"Sauvagesia\", \"Begonia\", \"Buddleja\", \"Ochna\", \"Hymenocallis\", \"Antennaria\", \"Polystachya\", \"Rubus\", \"Leptospermum\", \"Physcomitrium\", \"Calamus\", \"Cyrtandra\", \"Inga\", \"Cyperus\", \"Ranunculus\", \"Pholidostachys\", \"Piptostigma\", \"Albizia\", \"Pyrenacantha\", \"Ampelocissus\", \"Boechera\", \"Chrysosplenium\", \"Crataegus\", \"Rhynchospora\", \"spermatophyte\", \"Dolomiaea\", \"Kalanchoe\", \"Campylospermum\", \"Entosthodon\", \"Epidendrum\", \"Bulbostylis\", \"Iodes\", \"Chresta\", \"Asterogyne\", \"Funaria\", \"Lachemilla\", \"Fimbristylis\", \"Luxemburgia\", \"Rhodiola\", \"Lecomtedoxa\", \"Daphniphyllum\", \"Cissus\", \"Glycine\", \"Centropogon\", \"Tetrastigma\", \"Heliconia\", \"Hylotelephium\", \"Trifolium\", \"Stenomesson\", \"Rosularia\", \"Brackenridgea\", \"Plantago\", \"Diapensia\", \"Siphocampylus\", \"Echeveria\", \"Sinningia\", \"Cousinia\", \"Cyphostemma\", \"Lactuca\", \"Eucharis\", \"Avena\", \"Shortia\", \"Clinanthus\", \"Mimusops\", \"cf Costus\", \"Alsodeiopsis\", \"Phytocrene\", \"Phedimus\", \"Parthenocissus\", \"Arctium\", \"Cayratia\", \"Pterisanthes\", \"Nicotiana\", \"Neolemonniera\", \"Itea\", \"Umbilicus\", \"Streptocarpus\", \"Licuala\", \"Macrolobium\", \"Eucrosia\", \"Causonis\", \"Desmostachys\", \"Hibiscus\", \"Aphanes\", \"Gluema\", \"Browneopsis\", \"Nothapodytes\", \"Faucherea\", \"Adromischus\", \"Villadia\", \"Eremanthus\", \"Boykinia\", \"Pseudocayratia\", \"Pterostemon\", \"Aichryson\", \"Pyxidanthera\", \"Salacca\", \"Astilbe\", \"Heliophila\", \"Alpinia\", \"Eremospatha\", \"Icacina\", \"Rhyticaryum\", \"Musa\", \"Polyceratocarpus\", \"Canna\", \"Monodora\", \"Monanthes\", \"Melilotus\", \"Melanthera\", \"Paramongaia\", \"Welfia\", \"Nabalus\", \"Inhambanella\", \"Phaedranassa\", \"Lychnophora\", \"Calyptronoma\", \"Zanthoxylum\", \"Acineta\", \"Korthalsia\", \"Tsebona\", \"Zingiber\", \"Zygia\", \"Stachyanthus\", \"Trichocline\", \"Schizocodon\", \"Sempervivum\", \"Strelitzia\", \"Siphonochilus\", \"Achillea\", \"Sarcostigma\", \"Rhoicissus\", \"Actinoschoenus\", \"Amauria\", \"Ampelopsis\", \"Bemangidia\", \"Caliphruria\", \"Casimirella\", \"Ceroxylon\", \"Cotyledon\", \"Curcuma\", \"Echinops\", \"Elvasia\", \"Ensete\", \"Gamochaeta\", \"Kunzea\", \"Mappia\", \"Mauritiella\", \"Miquelia\", \"Nectaropetalum\", \"Orchidantha\", \"Oreocharis\", \"Orostachys\", \"Pericome\", \"Pistorinia\", \"Plerandra\", \"Pleroma\", \"Prometheum\", \"Rhabdophyllum\", \"Laccosperma\"], \"xaxis\": \"x\", \"y\": [2702, 2685, 1298, 736, 681, 596, 505, 430, 312, 292, 266, 219, 208, 194, 182, 174, 171, 144, 142, 140, 137, 134, 129, 127, 125, 121, 120, 118, 111, 110, 101, 100, 94, 92, 89, 87, 83, 72, 72, 72, 70, 66, 65, 58, 57, 54, 52, 50, 49, 49, 49, 48, 48, 48, 47, 45, 43, 43, 43, 41, 41, 41, 40, 39, 39, 37, 35, 32, 31, 30, 30, 29, 25, 24, 24, 24, 24, 23, 21, 21, 20, 19, 19, 19, 18, 18, 17, 17, 17, 16, 16, 15, 14, 14, 14, 13, 13, 12, 12, 12, 11, 10, 10, 9, 9, 9, 9, 9, 8, 8, 8, 8, 8, 8, 7, 7, 7, 7, 7, 7, 7, 6, 6, 6, 6, 6, 6, 6, 6, 6, 6, 6, 6, 6, 5, 5, 5, 5, 5, 5, 5, 5, 5, 5, 5, 4, 4, 4, 4, 4, 4, 4, 4, 4, 4, 4, 4, 4, 4, 4, 4, 4, 4, 4, 4, 4, 4, 4, 4, 4, 4, 4, 4, 4, 4, 3, 3, 3, 3, 3, 3, 3, 3, 3, 3, 3, 3, 3, 3, 3, 3, 3, 3, 3, 3, 3, 3, 3, 3, 3, 3, 3, 3, 3, 3, 3, 3, 3, 3, 3, 3, 3, 3, 3, 3], \"yaxis\": \"y\"}],                        {\"template\": {\"data\": {\"bar\": [{\"error_x\": {\"color\": \"#2a3f5f\"}, \"error_y\": {\"color\": \"#2a3f5f\"}, \"marker\": {\"line\": {\"color\": \"#E5ECF6\", \"width\": 0.5}}, \"type\": \"bar\"}], \"barpolar\": [{\"marker\": {\"line\": {\"color\": \"#E5ECF6\", \"width\": 0.5}}, \"type\": \"barpolar\"}], \"carpet\": [{\"aaxis\": {\"endlinecolor\": \"#2a3f5f\", \"gridcolor\": \"white\", \"linecolor\": \"white\", \"minorgridcolor\": \"white\", \"startlinecolor\": \"#2a3f5f\"}, \"baxis\": {\"endlinecolor\": \"#2a3f5f\", \"gridcolor\": \"white\", \"linecolor\": \"white\", \"minorgridcolor\": \"white\", \"startlinecolor\": \"#2a3f5f\"}, \"type\": \"carpet\"}], \"choropleth\": [{\"colorbar\": {\"outlinewidth\": 0, \"ticks\": \"\"}, \"type\": \"choropleth\"}], \"contour\": [{\"colorbar\": {\"outlinewidth\": 0, \"ticks\": \"\"}, \"colorscale\": [[0.0, \"#0d0887\"], [0.1111111111111111, \"#46039f\"], [0.2222222222222222, \"#7201a8\"], [0.3333333333333333, \"#9c179e\"], [0.4444444444444444, \"#bd3786\"], [0.5555555555555556, \"#d8576b\"], [0.6666666666666666, \"#ed7953\"], [0.7777777777777778, \"#fb9f3a\"], [0.8888888888888888, \"#fdca26\"], [1.0, \"#f0f921\"]], \"type\": \"contour\"}], \"contourcarpet\": [{\"colorbar\": {\"outlinewidth\": 0, \"ticks\": \"\"}, \"type\": \"contourcarpet\"}], \"heatmap\": [{\"colorbar\": {\"outlinewidth\": 0, \"ticks\": \"\"}, \"colorscale\": [[0.0, \"#0d0887\"], [0.1111111111111111, \"#46039f\"], [0.2222222222222222, \"#7201a8\"], [0.3333333333333333, \"#9c179e\"], [0.4444444444444444, \"#bd3786\"], [0.5555555555555556, \"#d8576b\"], [0.6666666666666666, \"#ed7953\"], [0.7777777777777778, \"#fb9f3a\"], [0.8888888888888888, \"#fdca26\"], [1.0, \"#f0f921\"]], \"type\": \"heatmap\"}], \"heatmapgl\": [{\"colorbar\": {\"outlinewidth\": 0, \"ticks\": \"\"}, \"colorscale\": [[0.0, \"#0d0887\"], [0.1111111111111111, \"#46039f\"], [0.2222222222222222, \"#7201a8\"], [0.3333333333333333, \"#9c179e\"], [0.4444444444444444, \"#bd3786\"], [0.5555555555555556, \"#d8576b\"], [0.6666666666666666, \"#ed7953\"], [0.7777777777777778, \"#fb9f3a\"], [0.8888888888888888, \"#fdca26\"], [1.0, \"#f0f921\"]], \"type\": \"heatmapgl\"}], \"histogram\": [{\"marker\": {\"colorbar\": {\"outlinewidth\": 0, \"ticks\": \"\"}}, \"type\": \"histogram\"}], \"histogram2d\": [{\"colorbar\": {\"outlinewidth\": 0, \"ticks\": \"\"}, \"colorscale\": [[0.0, \"#0d0887\"], [0.1111111111111111, \"#46039f\"], [0.2222222222222222, \"#7201a8\"], [0.3333333333333333, \"#9c179e\"], [0.4444444444444444, \"#bd3786\"], [0.5555555555555556, \"#d8576b\"], [0.6666666666666666, \"#ed7953\"], [0.7777777777777778, \"#fb9f3a\"], [0.8888888888888888, \"#fdca26\"], [1.0, \"#f0f921\"]], \"type\": \"histogram2d\"}], \"histogram2dcontour\": [{\"colorbar\": {\"outlinewidth\": 0, \"ticks\": \"\"}, \"colorscale\": [[0.0, \"#0d0887\"], [0.1111111111111111, \"#46039f\"], [0.2222222222222222, \"#7201a8\"], [0.3333333333333333, \"#9c179e\"], [0.4444444444444444, \"#bd3786\"], [0.5555555555555556, \"#d8576b\"], [0.6666666666666666, \"#ed7953\"], [0.7777777777777778, \"#fb9f3a\"], [0.8888888888888888, \"#fdca26\"], [1.0, \"#f0f921\"]], \"type\": \"histogram2dcontour\"}], \"mesh3d\": [{\"colorbar\": {\"outlinewidth\": 0, \"ticks\": \"\"}, \"type\": \"mesh3d\"}], \"parcoords\": [{\"line\": {\"colorbar\": {\"outlinewidth\": 0, \"ticks\": \"\"}}, \"type\": \"parcoords\"}], \"pie\": [{\"automargin\": true, \"type\": \"pie\"}], \"scatter\": [{\"marker\": {\"colorbar\": {\"outlinewidth\": 0, \"ticks\": \"\"}}, \"type\": \"scatter\"}], \"scatter3d\": [{\"line\": {\"colorbar\": {\"outlinewidth\": 0, \"ticks\": \"\"}}, \"marker\": {\"colorbar\": {\"outlinewidth\": 0, \"ticks\": \"\"}}, \"type\": \"scatter3d\"}], \"scattercarpet\": [{\"marker\": {\"colorbar\": {\"outlinewidth\": 0, \"ticks\": \"\"}}, \"type\": \"scattercarpet\"}], \"scattergeo\": [{\"marker\": {\"colorbar\": {\"outlinewidth\": 0, \"ticks\": \"\"}}, \"type\": \"scattergeo\"}], \"scattergl\": [{\"marker\": {\"colorbar\": {\"outlinewidth\": 0, \"ticks\": \"\"}}, \"type\": \"scattergl\"}], \"scattermapbox\": [{\"marker\": {\"colorbar\": {\"outlinewidth\": 0, \"ticks\": \"\"}}, \"type\": \"scattermapbox\"}], \"scatterpolar\": [{\"marker\": {\"colorbar\": {\"outlinewidth\": 0, \"ticks\": \"\"}}, \"type\": \"scatterpolar\"}], \"scatterpolargl\": [{\"marker\": {\"colorbar\": {\"outlinewidth\": 0, \"ticks\": \"\"}}, \"type\": \"scatterpolargl\"}], \"scatterternary\": [{\"marker\": {\"colorbar\": {\"outlinewidth\": 0, \"ticks\": \"\"}}, \"type\": \"scatterternary\"}], \"surface\": [{\"colorbar\": {\"outlinewidth\": 0, \"ticks\": \"\"}, \"colorscale\": [[0.0, \"#0d0887\"], [0.1111111111111111, \"#46039f\"], [0.2222222222222222, \"#7201a8\"], [0.3333333333333333, \"#9c179e\"], [0.4444444444444444, \"#bd3786\"], [0.5555555555555556, \"#d8576b\"], [0.6666666666666666, \"#ed7953\"], [0.7777777777777778, \"#fb9f3a\"], [0.8888888888888888, \"#fdca26\"], [1.0, \"#f0f921\"]], \"type\": \"surface\"}], \"table\": [{\"cells\": {\"fill\": {\"color\": \"#EBF0F8\"}, \"line\": {\"color\": \"white\"}}, \"header\": {\"fill\": {\"color\": \"#C8D4E3\"}, \"line\": {\"color\": \"white\"}}, \"type\": \"table\"}]}, \"layout\": {\"annotationdefaults\": {\"arrowcolor\": \"#2a3f5f\", \"arrowhead\": 0, \"arrowwidth\": 1}, \"autotypenumbers\": \"strict\", \"coloraxis\": {\"colorbar\": {\"outlinewidth\": 0, \"ticks\": \"\"}}, \"colorscale\": {\"diverging\": [[0, \"#8e0152\"], [0.1, \"#c51b7d\"], [0.2, \"#de77ae\"], [0.3, \"#f1b6da\"], [0.4, \"#fde0ef\"], [0.5, \"#f7f7f7\"], [0.6, \"#e6f5d0\"], [0.7, \"#b8e186\"], [0.8, \"#7fbc41\"], [0.9, \"#4d9221\"], [1, \"#276419\"]], \"sequential\": [[0.0, \"#0d0887\"], [0.1111111111111111, \"#46039f\"], [0.2222222222222222, \"#7201a8\"], [0.3333333333333333, \"#9c179e\"], [0.4444444444444444, \"#bd3786\"], [0.5555555555555556, \"#d8576b\"], [0.6666666666666666, \"#ed7953\"], [0.7777777777777778, \"#fb9f3a\"], [0.8888888888888888, \"#fdca26\"], [1.0, \"#f0f921\"]], \"sequentialminus\": [[0.0, \"#0d0887\"], [0.1111111111111111, \"#46039f\"], [0.2222222222222222, \"#7201a8\"], [0.3333333333333333, \"#9c179e\"], [0.4444444444444444, \"#bd3786\"], [0.5555555555555556, \"#d8576b\"], [0.6666666666666666, \"#ed7953\"], [0.7777777777777778, \"#fb9f3a\"], [0.8888888888888888, \"#fdca26\"], [1.0, \"#f0f921\"]]}, \"colorway\": [\"#636efa\", \"#EF553B\", \"#00cc96\", \"#ab63fa\", \"#FFA15A\", \"#19d3f3\", \"#FF6692\", \"#B6E880\", \"#FF97FF\", \"#FECB52\"], \"font\": {\"color\": \"#2a3f5f\"}, \"geo\": {\"bgcolor\": \"white\", \"lakecolor\": \"white\", \"landcolor\": \"#E5ECF6\", \"showlakes\": true, \"showland\": true, \"subunitcolor\": \"white\"}, \"hoverlabel\": {\"align\": \"left\"}, \"hovermode\": \"closest\", \"mapbox\": {\"style\": \"light\"}, \"paper_bgcolor\": \"white\", \"plot_bgcolor\": \"#E5ECF6\", \"polar\": {\"angularaxis\": {\"gridcolor\": \"white\", \"linecolor\": \"white\", \"ticks\": \"\"}, \"bgcolor\": \"#E5ECF6\", \"radialaxis\": {\"gridcolor\": \"white\", \"linecolor\": \"white\", \"ticks\": \"\"}}, \"scene\": {\"xaxis\": {\"backgroundcolor\": \"#E5ECF6\", \"gridcolor\": \"white\", \"gridwidth\": 2, \"linecolor\": \"white\", \"showbackground\": true, \"ticks\": \"\", \"zerolinecolor\": \"white\"}, \"yaxis\": {\"backgroundcolor\": \"#E5ECF6\", \"gridcolor\": \"white\", \"gridwidth\": 2, \"linecolor\": \"white\", \"showbackground\": true, \"ticks\": \"\", \"zerolinecolor\": \"white\"}, \"zaxis\": {\"backgroundcolor\": \"#E5ECF6\", \"gridcolor\": \"white\", \"gridwidth\": 2, \"linecolor\": \"white\", \"showbackground\": true, \"ticks\": \"\", \"zerolinecolor\": \"white\"}}, \"shapedefaults\": {\"line\": {\"color\": \"#2a3f5f\"}}, \"ternary\": {\"aaxis\": {\"gridcolor\": \"white\", \"linecolor\": \"white\", \"ticks\": \"\"}, \"baxis\": {\"gridcolor\": \"white\", \"linecolor\": \"white\", \"ticks\": \"\"}, \"bgcolor\": \"#E5ECF6\", \"caxis\": {\"gridcolor\": \"white\", \"linecolor\": \"white\", \"ticks\": \"\"}}, \"title\": {\"x\": 0.05}, \"xaxis\": {\"automargin\": true, \"gridcolor\": \"white\", \"linecolor\": \"white\", \"ticks\": \"\", \"title\": {\"standoff\": 15}, \"zerolinecolor\": \"white\", \"zerolinewidth\": 2}, \"yaxis\": {\"automargin\": true, \"gridcolor\": \"white\", \"linecolor\": \"white\", \"ticks\": \"\", \"title\": {\"standoff\": 15}, \"zerolinecolor\": \"white\", \"zerolinewidth\": 2}}}, \"xaxis\": {\"anchor\": \"y\", \"domain\": [0.0, 1.0]}, \"yaxis\": {\"anchor\": \"x\", \"domain\": [0.0, 1.0]}},                        {\"responsive\": true}                    ).then(function(){\n",
       "                            \n",
       "var gd = document.getElementById('cc87e9a1-65b3-4f07-96e1-c99e40cd860c');\n",
       "var x = new MutationObserver(function (mutations, observer) {{\n",
       "        var display = window.getComputedStyle(gd).display;\n",
       "        if (!display || display === 'none') {{\n",
       "            console.log([gd, 'removed!']);\n",
       "            Plotly.purge(gd);\n",
       "            observer.disconnect();\n",
       "        }}\n",
       "}});\n",
       "\n",
       "// Listen for the removal of the full notebook cells\n",
       "var notebookContainer = gd.closest('#notebook-container');\n",
       "if (notebookContainer) {{\n",
       "    x.observe(notebookContainer, {childList: true});\n",
       "}}\n",
       "\n",
       "// Listen for the clearing of the current output cell\n",
       "var outputEl = gd.closest('.output');\n",
       "if (outputEl) {{\n",
       "    x.observe(outputEl, {childList: true});\n",
       "}}\n",
       "\n",
       "                        })                };                });            </script>        </div>"
      ]
     },
     "metadata": {},
     "output_type": "display_data"
    }
   ],
   "source": [
    "fig = make_subplots(rows = 1, cols = 1, column_widths = [50], row_heights = [5])\n",
    "fig.add_trace(go.Bar(x = byorglib['genus'],\n",
    "             y = byorglib['Experiment Accession'], textposition = 'outside', textfont = dict(size = 6)),\n",
    "             row=1, col=1)\n",
    "fig.show()# not zero indexed ffs"
   ]
  },
  {
   "cell_type": "code",
   "execution_count": 67,
   "metadata": {
    "ExecuteTime": {
     "end_time": "2021-05-12T14:52:50.520843Z",
     "start_time": "2021-05-12T14:52:50.509837Z"
    }
   },
   "outputs": [],
   "source": [
    "from ete3 import NCBITaxa\n",
    "# the two lines below need to be run only once\n",
    "# ncbi = NCBITaxa()\n",
    "# ncbi.update_taxonomy_database()\n",
    "\n",
    "# define a function to annotate the taxonomic information\n",
    "\n",
    "def taxAnnotate(df, scinames=''):\n",
    "    \"\"\"\n",
    "    Uses ete3 to recover the taxonomic hierarchy of unique species from the blast results\n",
    "    organizes the taxonomic data in hierarchichal dictionaries, then maps them on the dataframe\n",
    "    it takes a dataframe and a string name for the column with the organims name\n",
    "    \"\"\"\n",
    "    ncbi = NCBITaxa() # activates the ncbi database. Download it first\n",
    "    spp_list=[x for x in df[scinames].replace('sp.','').str.replace('[^a-zA-Z \\d]','').unique()]\n",
    "    # dictionary of species:ID\n",
    "    name2taxid = ncbi.get_name_translator(spp_list)\n",
    "    second={};third={};fourth={}\n",
    "    for key,value in name2taxid.items():\n",
    "        lineage = ncbi.get_lineage(value[0])\n",
    "        # retrieves a dictionary of names:IDs for the taxonomic levels in value\n",
    "        names = ncbi.get_taxid_translator(lineage)\n",
    "        # now we will retain the second, third and fifth taxonomic categories in a dictionary\n",
    "        second[key]=list(names.values())[2] if len(list(names.values())) >1 else 'unassigned'\n",
    "        third[key]=list(names.values())[4] if len(list(names.values())) >2 else 'unassigned'\n",
    "        fourth[key]=list(names.values())[5] if len(list(names.values())) >3 else 'unassigned'\n",
    "        \n",
    "        df['tax_level1']=df[scinames].map(second)\n",
    "        df['tax_level2']=df[scinames].map(third)\n",
    "        df['tax_level3']=df[scinames].map(fourth)\n",
    "        \n",
    "    return df"
   ]
  },
  {
   "cell_type": "code",
   "execution_count": 68,
   "metadata": {
    "ExecuteTime": {
     "end_time": "2021-05-12T14:53:52.466711Z",
     "start_time": "2021-05-12T14:52:56.916518Z"
    }
   },
   "outputs": [
    {
     "data": {
      "text/html": [
       "<div>\n",
       "<style scoped>\n",
       "    .dataframe tbody tr th:only-of-type {\n",
       "        vertical-align: middle;\n",
       "    }\n",
       "\n",
       "    .dataframe tbody tr th {\n",
       "        vertical-align: top;\n",
       "    }\n",
       "\n",
       "    .dataframe thead th {\n",
       "        text-align: right;\n",
       "    }\n",
       "</style>\n",
       "<table border=\"1\" class=\"dataframe\">\n",
       "  <thead>\n",
       "    <tr style=\"text-align: right;\">\n",
       "      <th></th>\n",
       "      <th>Experiment Accession</th>\n",
       "      <th>Experiment Title</th>\n",
       "      <th>Organism Name</th>\n",
       "      <th>Instrument</th>\n",
       "      <th>Submitter</th>\n",
       "      <th>Study Accession</th>\n",
       "      <th>Study Title</th>\n",
       "      <th>Sample Accession</th>\n",
       "      <th>Sample Title</th>\n",
       "      <th>Total Size, Mb</th>\n",
       "      <th>...</th>\n",
       "      <th>Total Spots</th>\n",
       "      <th>Total Bases</th>\n",
       "      <th>Library Name</th>\n",
       "      <th>Library Strategy</th>\n",
       "      <th>Library Source</th>\n",
       "      <th>Library Selection</th>\n",
       "      <th>genus</th>\n",
       "      <th>tax_level1</th>\n",
       "      <th>tax_level2</th>\n",
       "      <th>tax_level3</th>\n",
       "    </tr>\n",
       "  </thead>\n",
       "  <tbody>\n",
       "    <tr>\n",
       "      <td>118</td>\n",
       "      <td>SRX10508039</td>\n",
       "      <td>Angiosperms 353 target capture of Castilleja c...</td>\n",
       "      <td>Castilleja citrina</td>\n",
       "      <td>NextSeq 500</td>\n",
       "      <td>Northwestern University</td>\n",
       "      <td>SRP313302</td>\n",
       "      <td>Range-wide sampling of Castilleja sessiliflora...</td>\n",
       "      <td>SRS8632265</td>\n",
       "      <td>NaN</td>\n",
       "      <td>281.41</td>\n",
       "      <td>...</td>\n",
       "      <td>2125445.0</td>\n",
       "      <td>6.376335e+08</td>\n",
       "      <td>CFC-9</td>\n",
       "      <td>Targeted-Capture</td>\n",
       "      <td>GENOMIC</td>\n",
       "      <td>Hybrid Selection</td>\n",
       "      <td>Castilleja</td>\n",
       "      <td>Embryophyta</td>\n",
       "      <td>Lamiales</td>\n",
       "      <td>Viridiplantae</td>\n",
       "    </tr>\n",
       "    <tr>\n",
       "      <td>119</td>\n",
       "      <td>SRX10508038</td>\n",
       "      <td>Angiosperms 353 target capture of Castilleja c...</td>\n",
       "      <td>Castilleja citrina</td>\n",
       "      <td>NextSeq 500</td>\n",
       "      <td>Northwestern University</td>\n",
       "      <td>SRP313302</td>\n",
       "      <td>Range-wide sampling of Castilleja sessiliflora...</td>\n",
       "      <td>SRS8632264</td>\n",
       "      <td>NaN</td>\n",
       "      <td>432.05</td>\n",
       "      <td>...</td>\n",
       "      <td>3247805.0</td>\n",
       "      <td>9.743415e+08</td>\n",
       "      <td>CED-3</td>\n",
       "      <td>Targeted-Capture</td>\n",
       "      <td>GENOMIC</td>\n",
       "      <td>Hybrid Selection</td>\n",
       "      <td>Castilleja</td>\n",
       "      <td>Embryophyta</td>\n",
       "      <td>Lamiales</td>\n",
       "      <td>Viridiplantae</td>\n",
       "    </tr>\n",
       "    <tr>\n",
       "      <td>120</td>\n",
       "      <td>SRX10508037</td>\n",
       "      <td>Angiosperms 353 target capture of Castilleja s...</td>\n",
       "      <td>Castilleja sessiliflora</td>\n",
       "      <td>NextSeq 500</td>\n",
       "      <td>Northwestern University</td>\n",
       "      <td>SRP313302</td>\n",
       "      <td>Range-wide sampling of Castilleja sessiliflora...</td>\n",
       "      <td>SRS8632263</td>\n",
       "      <td>NaN</td>\n",
       "      <td>120.95</td>\n",
       "      <td>...</td>\n",
       "      <td>910689.0</td>\n",
       "      <td>2.732067e+08</td>\n",
       "      <td>SWC-5</td>\n",
       "      <td>Targeted-Capture</td>\n",
       "      <td>GENOMIC</td>\n",
       "      <td>Hybrid Selection</td>\n",
       "      <td>Castilleja</td>\n",
       "      <td>Embryophyta</td>\n",
       "      <td>Lamiales</td>\n",
       "      <td>Viridiplantae</td>\n",
       "    </tr>\n",
       "    <tr>\n",
       "      <td>121</td>\n",
       "      <td>SRX10508036</td>\n",
       "      <td>Angiosperms 353 target capture of Castilleja s...</td>\n",
       "      <td>Castilleja sessiliflora</td>\n",
       "      <td>NextSeq 500</td>\n",
       "      <td>Northwestern University</td>\n",
       "      <td>SRP313302</td>\n",
       "      <td>Range-wide sampling of Castilleja sessiliflora...</td>\n",
       "      <td>SRS8632262</td>\n",
       "      <td>NaN</td>\n",
       "      <td>189.54</td>\n",
       "      <td>...</td>\n",
       "      <td>1434460.0</td>\n",
       "      <td>4.303380e+08</td>\n",
       "      <td>SPB-11</td>\n",
       "      <td>Targeted-Capture</td>\n",
       "      <td>GENOMIC</td>\n",
       "      <td>Hybrid Selection</td>\n",
       "      <td>Castilleja</td>\n",
       "      <td>Embryophyta</td>\n",
       "      <td>Lamiales</td>\n",
       "      <td>Viridiplantae</td>\n",
       "    </tr>\n",
       "    <tr>\n",
       "      <td>122</td>\n",
       "      <td>SRX10508035</td>\n",
       "      <td>Angiosperms 353 target capture of Castilleja c...</td>\n",
       "      <td>Castilleja citrina</td>\n",
       "      <td>NextSeq 500</td>\n",
       "      <td>Northwestern University</td>\n",
       "      <td>SRP313302</td>\n",
       "      <td>Range-wide sampling of Castilleja sessiliflora...</td>\n",
       "      <td>SRS8632261</td>\n",
       "      <td>NaN</td>\n",
       "      <td>281.53</td>\n",
       "      <td>...</td>\n",
       "      <td>2105885.0</td>\n",
       "      <td>6.317655e+08</td>\n",
       "      <td>CCCD-98</td>\n",
       "      <td>Targeted-Capture</td>\n",
       "      <td>GENOMIC</td>\n",
       "      <td>Hybrid Selection</td>\n",
       "      <td>Castilleja</td>\n",
       "      <td>Embryophyta</td>\n",
       "      <td>Lamiales</td>\n",
       "      <td>Viridiplantae</td>\n",
       "    </tr>\n",
       "    <tr>\n",
       "      <td>...</td>\n",
       "      <td>...</td>\n",
       "      <td>...</td>\n",
       "      <td>...</td>\n",
       "      <td>...</td>\n",
       "      <td>...</td>\n",
       "      <td>...</td>\n",
       "      <td>...</td>\n",
       "      <td>...</td>\n",
       "      <td>...</td>\n",
       "      <td>...</td>\n",
       "      <td>...</td>\n",
       "      <td>...</td>\n",
       "      <td>...</td>\n",
       "      <td>...</td>\n",
       "      <td>...</td>\n",
       "      <td>...</td>\n",
       "      <td>...</td>\n",
       "      <td>...</td>\n",
       "      <td>...</td>\n",
       "      <td>...</td>\n",
       "      <td>...</td>\n",
       "    </tr>\n",
       "    <tr>\n",
       "      <td>876574</td>\n",
       "      <td>ERX1365514</td>\n",
       "      <td>Illumina MiSeq paired end sequencing</td>\n",
       "      <td>Solanum okadae</td>\n",
       "      <td>Illumina MiSeq</td>\n",
       "      <td>NaN</td>\n",
       "      <td>ERP014354</td>\n",
       "      <td>Utilizing 'Omics' technologies to identify and...</td>\n",
       "      <td>ERS1066749</td>\n",
       "      <td>NaN</td>\n",
       "      <td>862.78</td>\n",
       "      <td>...</td>\n",
       "      <td>3683854.0</td>\n",
       "      <td>1.849295e+09</td>\n",
       "      <td>unspecified</td>\n",
       "      <td>Targeted-Capture</td>\n",
       "      <td>GENOMIC</td>\n",
       "      <td>other</td>\n",
       "      <td>Solanum</td>\n",
       "      <td>Embryophyta</td>\n",
       "      <td>Solanales</td>\n",
       "      <td>Solanaceae</td>\n",
       "    </tr>\n",
       "    <tr>\n",
       "      <td>876575</td>\n",
       "      <td>ERX1365513</td>\n",
       "      <td>Illumina MiSeq paired end sequencing</td>\n",
       "      <td>Solanum okadae</td>\n",
       "      <td>Illumina MiSeq</td>\n",
       "      <td>NaN</td>\n",
       "      <td>ERP014354</td>\n",
       "      <td>Utilizing 'Omics' technologies to identify and...</td>\n",
       "      <td>ERS1066748</td>\n",
       "      <td>NaN</td>\n",
       "      <td>470.01</td>\n",
       "      <td>...</td>\n",
       "      <td>1518349.0</td>\n",
       "      <td>7.890861e+08</td>\n",
       "      <td>unspecified</td>\n",
       "      <td>Targeted-Capture</td>\n",
       "      <td>GENOMIC</td>\n",
       "      <td>other</td>\n",
       "      <td>Solanum</td>\n",
       "      <td>Embryophyta</td>\n",
       "      <td>Solanales</td>\n",
       "      <td>Solanaceae</td>\n",
       "    </tr>\n",
       "    <tr>\n",
       "      <td>876576</td>\n",
       "      <td>ERX1365512</td>\n",
       "      <td>Illumina MiSeq paired end sequencing</td>\n",
       "      <td>Solanum okadae</td>\n",
       "      <td>Illumina MiSeq</td>\n",
       "      <td>NaN</td>\n",
       "      <td>ERP014354</td>\n",
       "      <td>Utilizing 'Omics' technologies to identify and...</td>\n",
       "      <td>ERS1066747</td>\n",
       "      <td>NaN</td>\n",
       "      <td>609.47</td>\n",
       "      <td>...</td>\n",
       "      <td>1814975.0</td>\n",
       "      <td>9.812422e+08</td>\n",
       "      <td>unspecified</td>\n",
       "      <td>Targeted-Capture</td>\n",
       "      <td>GENOMIC</td>\n",
       "      <td>other</td>\n",
       "      <td>Solanum</td>\n",
       "      <td>Embryophyta</td>\n",
       "      <td>Solanales</td>\n",
       "      <td>Solanaceae</td>\n",
       "    </tr>\n",
       "    <tr>\n",
       "      <td>876577</td>\n",
       "      <td>ERX1365511</td>\n",
       "      <td>Illumina MiSeq paired end sequencing</td>\n",
       "      <td>Solanum okadae</td>\n",
       "      <td>Illumina MiSeq</td>\n",
       "      <td>NaN</td>\n",
       "      <td>ERP014354</td>\n",
       "      <td>Utilizing 'Omics' technologies to identify and...</td>\n",
       "      <td>ERS1066746</td>\n",
       "      <td>NaN</td>\n",
       "      <td>616.72</td>\n",
       "      <td>...</td>\n",
       "      <td>2742300.0</td>\n",
       "      <td>1.376635e+09</td>\n",
       "      <td>unspecified</td>\n",
       "      <td>Targeted-Capture</td>\n",
       "      <td>GENOMIC</td>\n",
       "      <td>other</td>\n",
       "      <td>Solanum</td>\n",
       "      <td>Embryophyta</td>\n",
       "      <td>Solanales</td>\n",
       "      <td>Solanaceae</td>\n",
       "    </tr>\n",
       "    <tr>\n",
       "      <td>876578</td>\n",
       "      <td>ERX1365510</td>\n",
       "      <td>Illumina MiSeq paired end sequencing</td>\n",
       "      <td>Solanum okadae</td>\n",
       "      <td>Illumina MiSeq</td>\n",
       "      <td>NaN</td>\n",
       "      <td>ERP014354</td>\n",
       "      <td>Utilizing 'Omics' technologies to identify and...</td>\n",
       "      <td>ERS1066745</td>\n",
       "      <td>NaN</td>\n",
       "      <td>709.57</td>\n",
       "      <td>...</td>\n",
       "      <td>3179448.0</td>\n",
       "      <td>1.596083e+09</td>\n",
       "      <td>unspecified</td>\n",
       "      <td>Targeted-Capture</td>\n",
       "      <td>GENOMIC</td>\n",
       "      <td>other</td>\n",
       "      <td>Solanum</td>\n",
       "      <td>Embryophyta</td>\n",
       "      <td>Solanales</td>\n",
       "      <td>Solanaceae</td>\n",
       "    </tr>\n",
       "  </tbody>\n",
       "</table>\n",
       "<p>16667 rows × 21 columns</p>\n",
       "</div>"
      ],
      "text/plain": [
       "       Experiment Accession  \\\n",
       "118             SRX10508039   \n",
       "119             SRX10508038   \n",
       "120             SRX10508037   \n",
       "121             SRX10508036   \n",
       "122             SRX10508035   \n",
       "...                     ...   \n",
       "876574           ERX1365514   \n",
       "876575           ERX1365513   \n",
       "876576           ERX1365512   \n",
       "876577           ERX1365511   \n",
       "876578           ERX1365510   \n",
       "\n",
       "                                         Experiment Title  \\\n",
       "118     Angiosperms 353 target capture of Castilleja c...   \n",
       "119     Angiosperms 353 target capture of Castilleja c...   \n",
       "120     Angiosperms 353 target capture of Castilleja s...   \n",
       "121     Angiosperms 353 target capture of Castilleja s...   \n",
       "122     Angiosperms 353 target capture of Castilleja c...   \n",
       "...                                                   ...   \n",
       "876574               Illumina MiSeq paired end sequencing   \n",
       "876575               Illumina MiSeq paired end sequencing   \n",
       "876576               Illumina MiSeq paired end sequencing   \n",
       "876577               Illumina MiSeq paired end sequencing   \n",
       "876578               Illumina MiSeq paired end sequencing   \n",
       "\n",
       "                  Organism Name      Instrument                Submitter  \\\n",
       "118          Castilleja citrina     NextSeq 500  Northwestern University   \n",
       "119          Castilleja citrina     NextSeq 500  Northwestern University   \n",
       "120     Castilleja sessiliflora     NextSeq 500  Northwestern University   \n",
       "121     Castilleja sessiliflora     NextSeq 500  Northwestern University   \n",
       "122          Castilleja citrina     NextSeq 500  Northwestern University   \n",
       "...                         ...             ...                      ...   \n",
       "876574           Solanum okadae  Illumina MiSeq                      NaN   \n",
       "876575           Solanum okadae  Illumina MiSeq                      NaN   \n",
       "876576           Solanum okadae  Illumina MiSeq                      NaN   \n",
       "876577           Solanum okadae  Illumina MiSeq                      NaN   \n",
       "876578           Solanum okadae  Illumina MiSeq                      NaN   \n",
       "\n",
       "       Study Accession                                        Study Title  \\\n",
       "118          SRP313302  Range-wide sampling of Castilleja sessiliflora...   \n",
       "119          SRP313302  Range-wide sampling of Castilleja sessiliflora...   \n",
       "120          SRP313302  Range-wide sampling of Castilleja sessiliflora...   \n",
       "121          SRP313302  Range-wide sampling of Castilleja sessiliflora...   \n",
       "122          SRP313302  Range-wide sampling of Castilleja sessiliflora...   \n",
       "...                ...                                                ...   \n",
       "876574       ERP014354  Utilizing 'Omics' technologies to identify and...   \n",
       "876575       ERP014354  Utilizing 'Omics' technologies to identify and...   \n",
       "876576       ERP014354  Utilizing 'Omics' technologies to identify and...   \n",
       "876577       ERP014354  Utilizing 'Omics' technologies to identify and...   \n",
       "876578       ERP014354  Utilizing 'Omics' technologies to identify and...   \n",
       "\n",
       "       Sample Accession Sample Title  Total Size, Mb  ...  Total Spots  \\\n",
       "118          SRS8632265          NaN          281.41  ...    2125445.0   \n",
       "119          SRS8632264          NaN          432.05  ...    3247805.0   \n",
       "120          SRS8632263          NaN          120.95  ...     910689.0   \n",
       "121          SRS8632262          NaN          189.54  ...    1434460.0   \n",
       "122          SRS8632261          NaN          281.53  ...    2105885.0   \n",
       "...                 ...          ...             ...  ...          ...   \n",
       "876574       ERS1066749          NaN          862.78  ...    3683854.0   \n",
       "876575       ERS1066748          NaN          470.01  ...    1518349.0   \n",
       "876576       ERS1066747          NaN          609.47  ...    1814975.0   \n",
       "876577       ERS1066746          NaN          616.72  ...    2742300.0   \n",
       "876578       ERS1066745          NaN          709.57  ...    3179448.0   \n",
       "\n",
       "         Total Bases  Library Name  Library Strategy Library Source  \\\n",
       "118     6.376335e+08         CFC-9  Targeted-Capture        GENOMIC   \n",
       "119     9.743415e+08         CED-3  Targeted-Capture        GENOMIC   \n",
       "120     2.732067e+08         SWC-5  Targeted-Capture        GENOMIC   \n",
       "121     4.303380e+08        SPB-11  Targeted-Capture        GENOMIC   \n",
       "122     6.317655e+08       CCCD-98  Targeted-Capture        GENOMIC   \n",
       "...              ...           ...               ...            ...   \n",
       "876574  1.849295e+09   unspecified  Targeted-Capture        GENOMIC   \n",
       "876575  7.890861e+08   unspecified  Targeted-Capture        GENOMIC   \n",
       "876576  9.812422e+08   unspecified  Targeted-Capture        GENOMIC   \n",
       "876577  1.376635e+09   unspecified  Targeted-Capture        GENOMIC   \n",
       "876578  1.596083e+09   unspecified  Targeted-Capture        GENOMIC   \n",
       "\n",
       "       Library Selection       genus   tax_level1 tax_level2     tax_level3  \n",
       "118     Hybrid Selection  Castilleja  Embryophyta   Lamiales  Viridiplantae  \n",
       "119     Hybrid Selection  Castilleja  Embryophyta   Lamiales  Viridiplantae  \n",
       "120     Hybrid Selection  Castilleja  Embryophyta   Lamiales  Viridiplantae  \n",
       "121     Hybrid Selection  Castilleja  Embryophyta   Lamiales  Viridiplantae  \n",
       "122     Hybrid Selection  Castilleja  Embryophyta   Lamiales  Viridiplantae  \n",
       "...                  ...         ...          ...        ...            ...  \n",
       "876574             other     Solanum  Embryophyta  Solanales     Solanaceae  \n",
       "876575             other     Solanum  Embryophyta  Solanales     Solanaceae  \n",
       "876576             other     Solanum  Embryophyta  Solanales     Solanaceae  \n",
       "876577             other     Solanum  Embryophyta  Solanales     Solanaceae  \n",
       "876578             other     Solanum  Embryophyta  Solanales     Solanaceae  \n",
       "\n",
       "[16667 rows x 21 columns]"
      ]
     },
     "execution_count": 68,
     "metadata": {},
     "output_type": "execute_result"
    }
   ],
   "source": [
    "taxAnnotate(genomesra5, scinames = 'Organism Name')\n",
    "genomesra5"
   ]
  },
  {
   "cell_type": "code",
   "execution_count": 69,
   "metadata": {
    "ExecuteTime": {
     "end_time": "2021-05-12T14:56:39.329509Z",
     "start_time": "2021-05-12T14:56:39.281966Z"
    }
   },
   "outputs": [
    {
     "data": {
      "application/vnd.plotly.v1+json": {
       "config": {
        "plotlyServerURL": "https://plot.ly"
       },
       "data": [
        {
         "textfont": {
          "size": 6
         },
         "textposition": "outside",
         "type": "bar",
         "x": [
          "Poaceae",
          "Arecaceae",
          "Salicaceae",
          "Viridiplantae",
          "Annonaceae",
          "Convolvulaceae",
          "Erythroxylum",
          "Asteraceae",
          "Fagaceae",
          "Solanaceae",
          "Zingiberales",
          "Nepenthaceae",
          "Cyperaceae",
          "Papilionoideae",
          "Saxifraga",
          "Rosaceae",
          "Dioscoreaceae",
          "Veronica",
          "Streptophyta",
          "Campanulaceae",
          "Brassicaceae",
          "Orchidaceae",
          "Amaryllidaceae",
          "Sedum",
          "Grossulariaceae",
          "Funariales",
          "Araliaceae",
          "Caesalpinioideae",
          "Crassula",
          "Coffea",
          "Gesneriaceae",
          "Bignoniaceae",
          "Gentianaceae",
          "Vitis",
          "Begonia",
          "Scrophulariaceae",
          "Ranunculus",
          "Chrysosplenium",
          "Tracheophyta",
          "Kalanchoe",
          "Daphniphyllum",
          "Euphorbiaceae",
          "Echeveria",
          "Diapensiaceae",
          "Parthenocissus",
          "Icacina",
          "Astilbe",
          "Monanthes",
          "Boykinia",
          "Erythroxylaceae",
          "Sempervivum",
          "Diapensia lapponica",
          "Cotyledon",
          "Pterostemon rotundifolius",
          "Ribes americanum",
          "Micranthes integrifolia"
         ],
         "xaxis": "x",
         "y": [
          6909,
          1525,
          1352,
          1016,
          597,
          423,
          418,
          380,
          312,
          275,
          187,
          177,
          171,
          160,
          138,
          137,
          120,
          118,
          115,
          104,
          90,
          76,
          73,
          70,
          67,
          66,
          64,
          60,
          51,
          49,
          49,
          48,
          48,
          47,
          43,
          42,
          30,
          24,
          21,
          19,
          13,
          12,
          8,
          6,
          6,
          4,
          4,
          4,
          4,
          3,
          3,
          3,
          3,
          2,
          1,
          1
         ],
         "yaxis": "y"
        }
       ],
       "layout": {
        "template": {
         "data": {
          "bar": [
           {
            "error_x": {
             "color": "#2a3f5f"
            },
            "error_y": {
             "color": "#2a3f5f"
            },
            "marker": {
             "line": {
              "color": "#E5ECF6",
              "width": 0.5
             }
            },
            "type": "bar"
           }
          ],
          "barpolar": [
           {
            "marker": {
             "line": {
              "color": "#E5ECF6",
              "width": 0.5
             }
            },
            "type": "barpolar"
           }
          ],
          "carpet": [
           {
            "aaxis": {
             "endlinecolor": "#2a3f5f",
             "gridcolor": "white",
             "linecolor": "white",
             "minorgridcolor": "white",
             "startlinecolor": "#2a3f5f"
            },
            "baxis": {
             "endlinecolor": "#2a3f5f",
             "gridcolor": "white",
             "linecolor": "white",
             "minorgridcolor": "white",
             "startlinecolor": "#2a3f5f"
            },
            "type": "carpet"
           }
          ],
          "choropleth": [
           {
            "colorbar": {
             "outlinewidth": 0,
             "ticks": ""
            },
            "type": "choropleth"
           }
          ],
          "contour": [
           {
            "colorbar": {
             "outlinewidth": 0,
             "ticks": ""
            },
            "colorscale": [
             [
              0,
              "#0d0887"
             ],
             [
              0.1111111111111111,
              "#46039f"
             ],
             [
              0.2222222222222222,
              "#7201a8"
             ],
             [
              0.3333333333333333,
              "#9c179e"
             ],
             [
              0.4444444444444444,
              "#bd3786"
             ],
             [
              0.5555555555555556,
              "#d8576b"
             ],
             [
              0.6666666666666666,
              "#ed7953"
             ],
             [
              0.7777777777777778,
              "#fb9f3a"
             ],
             [
              0.8888888888888888,
              "#fdca26"
             ],
             [
              1,
              "#f0f921"
             ]
            ],
            "type": "contour"
           }
          ],
          "contourcarpet": [
           {
            "colorbar": {
             "outlinewidth": 0,
             "ticks": ""
            },
            "type": "contourcarpet"
           }
          ],
          "heatmap": [
           {
            "colorbar": {
             "outlinewidth": 0,
             "ticks": ""
            },
            "colorscale": [
             [
              0,
              "#0d0887"
             ],
             [
              0.1111111111111111,
              "#46039f"
             ],
             [
              0.2222222222222222,
              "#7201a8"
             ],
             [
              0.3333333333333333,
              "#9c179e"
             ],
             [
              0.4444444444444444,
              "#bd3786"
             ],
             [
              0.5555555555555556,
              "#d8576b"
             ],
             [
              0.6666666666666666,
              "#ed7953"
             ],
             [
              0.7777777777777778,
              "#fb9f3a"
             ],
             [
              0.8888888888888888,
              "#fdca26"
             ],
             [
              1,
              "#f0f921"
             ]
            ],
            "type": "heatmap"
           }
          ],
          "heatmapgl": [
           {
            "colorbar": {
             "outlinewidth": 0,
             "ticks": ""
            },
            "colorscale": [
             [
              0,
              "#0d0887"
             ],
             [
              0.1111111111111111,
              "#46039f"
             ],
             [
              0.2222222222222222,
              "#7201a8"
             ],
             [
              0.3333333333333333,
              "#9c179e"
             ],
             [
              0.4444444444444444,
              "#bd3786"
             ],
             [
              0.5555555555555556,
              "#d8576b"
             ],
             [
              0.6666666666666666,
              "#ed7953"
             ],
             [
              0.7777777777777778,
              "#fb9f3a"
             ],
             [
              0.8888888888888888,
              "#fdca26"
             ],
             [
              1,
              "#f0f921"
             ]
            ],
            "type": "heatmapgl"
           }
          ],
          "histogram": [
           {
            "marker": {
             "colorbar": {
              "outlinewidth": 0,
              "ticks": ""
             }
            },
            "type": "histogram"
           }
          ],
          "histogram2d": [
           {
            "colorbar": {
             "outlinewidth": 0,
             "ticks": ""
            },
            "colorscale": [
             [
              0,
              "#0d0887"
             ],
             [
              0.1111111111111111,
              "#46039f"
             ],
             [
              0.2222222222222222,
              "#7201a8"
             ],
             [
              0.3333333333333333,
              "#9c179e"
             ],
             [
              0.4444444444444444,
              "#bd3786"
             ],
             [
              0.5555555555555556,
              "#d8576b"
             ],
             [
              0.6666666666666666,
              "#ed7953"
             ],
             [
              0.7777777777777778,
              "#fb9f3a"
             ],
             [
              0.8888888888888888,
              "#fdca26"
             ],
             [
              1,
              "#f0f921"
             ]
            ],
            "type": "histogram2d"
           }
          ],
          "histogram2dcontour": [
           {
            "colorbar": {
             "outlinewidth": 0,
             "ticks": ""
            },
            "colorscale": [
             [
              0,
              "#0d0887"
             ],
             [
              0.1111111111111111,
              "#46039f"
             ],
             [
              0.2222222222222222,
              "#7201a8"
             ],
             [
              0.3333333333333333,
              "#9c179e"
             ],
             [
              0.4444444444444444,
              "#bd3786"
             ],
             [
              0.5555555555555556,
              "#d8576b"
             ],
             [
              0.6666666666666666,
              "#ed7953"
             ],
             [
              0.7777777777777778,
              "#fb9f3a"
             ],
             [
              0.8888888888888888,
              "#fdca26"
             ],
             [
              1,
              "#f0f921"
             ]
            ],
            "type": "histogram2dcontour"
           }
          ],
          "mesh3d": [
           {
            "colorbar": {
             "outlinewidth": 0,
             "ticks": ""
            },
            "type": "mesh3d"
           }
          ],
          "parcoords": [
           {
            "line": {
             "colorbar": {
              "outlinewidth": 0,
              "ticks": ""
             }
            },
            "type": "parcoords"
           }
          ],
          "pie": [
           {
            "automargin": true,
            "type": "pie"
           }
          ],
          "scatter": [
           {
            "marker": {
             "colorbar": {
              "outlinewidth": 0,
              "ticks": ""
             }
            },
            "type": "scatter"
           }
          ],
          "scatter3d": [
           {
            "line": {
             "colorbar": {
              "outlinewidth": 0,
              "ticks": ""
             }
            },
            "marker": {
             "colorbar": {
              "outlinewidth": 0,
              "ticks": ""
             }
            },
            "type": "scatter3d"
           }
          ],
          "scattercarpet": [
           {
            "marker": {
             "colorbar": {
              "outlinewidth": 0,
              "ticks": ""
             }
            },
            "type": "scattercarpet"
           }
          ],
          "scattergeo": [
           {
            "marker": {
             "colorbar": {
              "outlinewidth": 0,
              "ticks": ""
             }
            },
            "type": "scattergeo"
           }
          ],
          "scattergl": [
           {
            "marker": {
             "colorbar": {
              "outlinewidth": 0,
              "ticks": ""
             }
            },
            "type": "scattergl"
           }
          ],
          "scattermapbox": [
           {
            "marker": {
             "colorbar": {
              "outlinewidth": 0,
              "ticks": ""
             }
            },
            "type": "scattermapbox"
           }
          ],
          "scatterpolar": [
           {
            "marker": {
             "colorbar": {
              "outlinewidth": 0,
              "ticks": ""
             }
            },
            "type": "scatterpolar"
           }
          ],
          "scatterpolargl": [
           {
            "marker": {
             "colorbar": {
              "outlinewidth": 0,
              "ticks": ""
             }
            },
            "type": "scatterpolargl"
           }
          ],
          "scatterternary": [
           {
            "marker": {
             "colorbar": {
              "outlinewidth": 0,
              "ticks": ""
             }
            },
            "type": "scatterternary"
           }
          ],
          "surface": [
           {
            "colorbar": {
             "outlinewidth": 0,
             "ticks": ""
            },
            "colorscale": [
             [
              0,
              "#0d0887"
             ],
             [
              0.1111111111111111,
              "#46039f"
             ],
             [
              0.2222222222222222,
              "#7201a8"
             ],
             [
              0.3333333333333333,
              "#9c179e"
             ],
             [
              0.4444444444444444,
              "#bd3786"
             ],
             [
              0.5555555555555556,
              "#d8576b"
             ],
             [
              0.6666666666666666,
              "#ed7953"
             ],
             [
              0.7777777777777778,
              "#fb9f3a"
             ],
             [
              0.8888888888888888,
              "#fdca26"
             ],
             [
              1,
              "#f0f921"
             ]
            ],
            "type": "surface"
           }
          ],
          "table": [
           {
            "cells": {
             "fill": {
              "color": "#EBF0F8"
             },
             "line": {
              "color": "white"
             }
            },
            "header": {
             "fill": {
              "color": "#C8D4E3"
             },
             "line": {
              "color": "white"
             }
            },
            "type": "table"
           }
          ]
         },
         "layout": {
          "annotationdefaults": {
           "arrowcolor": "#2a3f5f",
           "arrowhead": 0,
           "arrowwidth": 1
          },
          "autotypenumbers": "strict",
          "coloraxis": {
           "colorbar": {
            "outlinewidth": 0,
            "ticks": ""
           }
          },
          "colorscale": {
           "diverging": [
            [
             0,
             "#8e0152"
            ],
            [
             0.1,
             "#c51b7d"
            ],
            [
             0.2,
             "#de77ae"
            ],
            [
             0.3,
             "#f1b6da"
            ],
            [
             0.4,
             "#fde0ef"
            ],
            [
             0.5,
             "#f7f7f7"
            ],
            [
             0.6,
             "#e6f5d0"
            ],
            [
             0.7,
             "#b8e186"
            ],
            [
             0.8,
             "#7fbc41"
            ],
            [
             0.9,
             "#4d9221"
            ],
            [
             1,
             "#276419"
            ]
           ],
           "sequential": [
            [
             0,
             "#0d0887"
            ],
            [
             0.1111111111111111,
             "#46039f"
            ],
            [
             0.2222222222222222,
             "#7201a8"
            ],
            [
             0.3333333333333333,
             "#9c179e"
            ],
            [
             0.4444444444444444,
             "#bd3786"
            ],
            [
             0.5555555555555556,
             "#d8576b"
            ],
            [
             0.6666666666666666,
             "#ed7953"
            ],
            [
             0.7777777777777778,
             "#fb9f3a"
            ],
            [
             0.8888888888888888,
             "#fdca26"
            ],
            [
             1,
             "#f0f921"
            ]
           ],
           "sequentialminus": [
            [
             0,
             "#0d0887"
            ],
            [
             0.1111111111111111,
             "#46039f"
            ],
            [
             0.2222222222222222,
             "#7201a8"
            ],
            [
             0.3333333333333333,
             "#9c179e"
            ],
            [
             0.4444444444444444,
             "#bd3786"
            ],
            [
             0.5555555555555556,
             "#d8576b"
            ],
            [
             0.6666666666666666,
             "#ed7953"
            ],
            [
             0.7777777777777778,
             "#fb9f3a"
            ],
            [
             0.8888888888888888,
             "#fdca26"
            ],
            [
             1,
             "#f0f921"
            ]
           ]
          },
          "colorway": [
           "#636efa",
           "#EF553B",
           "#00cc96",
           "#ab63fa",
           "#FFA15A",
           "#19d3f3",
           "#FF6692",
           "#B6E880",
           "#FF97FF",
           "#FECB52"
          ],
          "font": {
           "color": "#2a3f5f"
          },
          "geo": {
           "bgcolor": "white",
           "lakecolor": "white",
           "landcolor": "#E5ECF6",
           "showlakes": true,
           "showland": true,
           "subunitcolor": "white"
          },
          "hoverlabel": {
           "align": "left"
          },
          "hovermode": "closest",
          "mapbox": {
           "style": "light"
          },
          "paper_bgcolor": "white",
          "plot_bgcolor": "#E5ECF6",
          "polar": {
           "angularaxis": {
            "gridcolor": "white",
            "linecolor": "white",
            "ticks": ""
           },
           "bgcolor": "#E5ECF6",
           "radialaxis": {
            "gridcolor": "white",
            "linecolor": "white",
            "ticks": ""
           }
          },
          "scene": {
           "xaxis": {
            "backgroundcolor": "#E5ECF6",
            "gridcolor": "white",
            "gridwidth": 2,
            "linecolor": "white",
            "showbackground": true,
            "ticks": "",
            "zerolinecolor": "white"
           },
           "yaxis": {
            "backgroundcolor": "#E5ECF6",
            "gridcolor": "white",
            "gridwidth": 2,
            "linecolor": "white",
            "showbackground": true,
            "ticks": "",
            "zerolinecolor": "white"
           },
           "zaxis": {
            "backgroundcolor": "#E5ECF6",
            "gridcolor": "white",
            "gridwidth": 2,
            "linecolor": "white",
            "showbackground": true,
            "ticks": "",
            "zerolinecolor": "white"
           }
          },
          "shapedefaults": {
           "line": {
            "color": "#2a3f5f"
           }
          },
          "ternary": {
           "aaxis": {
            "gridcolor": "white",
            "linecolor": "white",
            "ticks": ""
           },
           "baxis": {
            "gridcolor": "white",
            "linecolor": "white",
            "ticks": ""
           },
           "bgcolor": "#E5ECF6",
           "caxis": {
            "gridcolor": "white",
            "linecolor": "white",
            "ticks": ""
           }
          },
          "title": {
           "x": 0.05
          },
          "xaxis": {
           "automargin": true,
           "gridcolor": "white",
           "linecolor": "white",
           "ticks": "",
           "title": {
            "standoff": 15
           },
           "zerolinecolor": "white",
           "zerolinewidth": 2
          },
          "yaxis": {
           "automargin": true,
           "gridcolor": "white",
           "linecolor": "white",
           "ticks": "",
           "title": {
            "standoff": 15
           },
           "zerolinecolor": "white",
           "zerolinewidth": 2
          }
         }
        },
        "xaxis": {
         "anchor": "y",
         "domain": [
          0,
          1
         ]
        },
        "yaxis": {
         "anchor": "x",
         "domain": [
          0,
          1
         ]
        }
       }
      },
      "text/html": [
       "<div>                            <div id=\"51d76fc8-783b-401b-81ae-16ba9781c132\" class=\"plotly-graph-div\" style=\"height:525px; width:100%;\"></div>            <script type=\"text/javascript\">                require([\"plotly\"], function(Plotly) {                    window.PLOTLYENV=window.PLOTLYENV || {};                                    if (document.getElementById(\"51d76fc8-783b-401b-81ae-16ba9781c132\")) {                    Plotly.newPlot(                        \"51d76fc8-783b-401b-81ae-16ba9781c132\",                        [{\"textfont\": {\"size\": 6}, \"textposition\": \"outside\", \"type\": \"bar\", \"x\": [\"Poaceae\", \"Arecaceae\", \"Salicaceae\", \"Viridiplantae\", \"Annonaceae\", \"Convolvulaceae\", \"Erythroxylum\", \"Asteraceae\", \"Fagaceae\", \"Solanaceae\", \"Zingiberales\", \"Nepenthaceae\", \"Cyperaceae\", \"Papilionoideae\", \"Saxifraga\", \"Rosaceae\", \"Dioscoreaceae\", \"Veronica\", \"Streptophyta\", \"Campanulaceae\", \"Brassicaceae\", \"Orchidaceae\", \"Amaryllidaceae\", \"Sedum\", \"Grossulariaceae\", \"Funariales\", \"Araliaceae\", \"Caesalpinioideae\", \"Crassula\", \"Coffea\", \"Gesneriaceae\", \"Bignoniaceae\", \"Gentianaceae\", \"Vitis\", \"Begonia\", \"Scrophulariaceae\", \"Ranunculus\", \"Chrysosplenium\", \"Tracheophyta\", \"Kalanchoe\", \"Daphniphyllum\", \"Euphorbiaceae\", \"Echeveria\", \"Diapensiaceae\", \"Parthenocissus\", \"Icacina\", \"Astilbe\", \"Monanthes\", \"Boykinia\", \"Erythroxylaceae\", \"Sempervivum\", \"Diapensia lapponica\", \"Cotyledon\", \"Pterostemon rotundifolius\", \"Ribes americanum\", \"Micranthes integrifolia\"], \"xaxis\": \"x\", \"y\": [6909, 1525, 1352, 1016, 597, 423, 418, 380, 312, 275, 187, 177, 171, 160, 138, 137, 120, 118, 115, 104, 90, 76, 73, 70, 67, 66, 64, 60, 51, 49, 49, 48, 48, 47, 43, 42, 30, 24, 21, 19, 13, 12, 8, 6, 6, 4, 4, 4, 4, 3, 3, 3, 3, 2, 1, 1], \"yaxis\": \"y\"}],                        {\"template\": {\"data\": {\"bar\": [{\"error_x\": {\"color\": \"#2a3f5f\"}, \"error_y\": {\"color\": \"#2a3f5f\"}, \"marker\": {\"line\": {\"color\": \"#E5ECF6\", \"width\": 0.5}}, \"type\": \"bar\"}], \"barpolar\": [{\"marker\": {\"line\": {\"color\": \"#E5ECF6\", \"width\": 0.5}}, \"type\": \"barpolar\"}], \"carpet\": [{\"aaxis\": {\"endlinecolor\": \"#2a3f5f\", \"gridcolor\": \"white\", \"linecolor\": \"white\", \"minorgridcolor\": \"white\", \"startlinecolor\": \"#2a3f5f\"}, \"baxis\": {\"endlinecolor\": \"#2a3f5f\", \"gridcolor\": \"white\", \"linecolor\": \"white\", \"minorgridcolor\": \"white\", \"startlinecolor\": \"#2a3f5f\"}, \"type\": \"carpet\"}], \"choropleth\": [{\"colorbar\": {\"outlinewidth\": 0, \"ticks\": \"\"}, \"type\": \"choropleth\"}], \"contour\": [{\"colorbar\": {\"outlinewidth\": 0, \"ticks\": \"\"}, \"colorscale\": [[0.0, \"#0d0887\"], [0.1111111111111111, \"#46039f\"], [0.2222222222222222, \"#7201a8\"], [0.3333333333333333, \"#9c179e\"], [0.4444444444444444, \"#bd3786\"], [0.5555555555555556, \"#d8576b\"], [0.6666666666666666, \"#ed7953\"], [0.7777777777777778, \"#fb9f3a\"], [0.8888888888888888, \"#fdca26\"], [1.0, \"#f0f921\"]], \"type\": \"contour\"}], \"contourcarpet\": [{\"colorbar\": {\"outlinewidth\": 0, \"ticks\": \"\"}, \"type\": \"contourcarpet\"}], \"heatmap\": [{\"colorbar\": {\"outlinewidth\": 0, \"ticks\": \"\"}, \"colorscale\": [[0.0, \"#0d0887\"], [0.1111111111111111, \"#46039f\"], [0.2222222222222222, \"#7201a8\"], [0.3333333333333333, \"#9c179e\"], [0.4444444444444444, \"#bd3786\"], [0.5555555555555556, \"#d8576b\"], [0.6666666666666666, \"#ed7953\"], [0.7777777777777778, \"#fb9f3a\"], [0.8888888888888888, \"#fdca26\"], [1.0, \"#f0f921\"]], \"type\": \"heatmap\"}], \"heatmapgl\": [{\"colorbar\": {\"outlinewidth\": 0, \"ticks\": \"\"}, \"colorscale\": [[0.0, \"#0d0887\"], [0.1111111111111111, \"#46039f\"], [0.2222222222222222, \"#7201a8\"], [0.3333333333333333, \"#9c179e\"], [0.4444444444444444, \"#bd3786\"], [0.5555555555555556, \"#d8576b\"], [0.6666666666666666, \"#ed7953\"], [0.7777777777777778, \"#fb9f3a\"], [0.8888888888888888, \"#fdca26\"], [1.0, \"#f0f921\"]], \"type\": \"heatmapgl\"}], \"histogram\": [{\"marker\": {\"colorbar\": {\"outlinewidth\": 0, \"ticks\": \"\"}}, \"type\": \"histogram\"}], \"histogram2d\": [{\"colorbar\": {\"outlinewidth\": 0, \"ticks\": \"\"}, \"colorscale\": [[0.0, \"#0d0887\"], [0.1111111111111111, \"#46039f\"], [0.2222222222222222, \"#7201a8\"], [0.3333333333333333, \"#9c179e\"], [0.4444444444444444, \"#bd3786\"], [0.5555555555555556, \"#d8576b\"], [0.6666666666666666, \"#ed7953\"], [0.7777777777777778, \"#fb9f3a\"], [0.8888888888888888, \"#fdca26\"], [1.0, \"#f0f921\"]], \"type\": \"histogram2d\"}], \"histogram2dcontour\": [{\"colorbar\": {\"outlinewidth\": 0, \"ticks\": \"\"}, \"colorscale\": [[0.0, \"#0d0887\"], [0.1111111111111111, \"#46039f\"], [0.2222222222222222, \"#7201a8\"], [0.3333333333333333, \"#9c179e\"], [0.4444444444444444, \"#bd3786\"], [0.5555555555555556, \"#d8576b\"], [0.6666666666666666, \"#ed7953\"], [0.7777777777777778, \"#fb9f3a\"], [0.8888888888888888, \"#fdca26\"], [1.0, \"#f0f921\"]], \"type\": \"histogram2dcontour\"}], \"mesh3d\": [{\"colorbar\": {\"outlinewidth\": 0, \"ticks\": \"\"}, \"type\": \"mesh3d\"}], \"parcoords\": [{\"line\": {\"colorbar\": {\"outlinewidth\": 0, \"ticks\": \"\"}}, \"type\": \"parcoords\"}], \"pie\": [{\"automargin\": true, \"type\": \"pie\"}], \"scatter\": [{\"marker\": {\"colorbar\": {\"outlinewidth\": 0, \"ticks\": \"\"}}, \"type\": \"scatter\"}], \"scatter3d\": [{\"line\": {\"colorbar\": {\"outlinewidth\": 0, \"ticks\": \"\"}}, \"marker\": {\"colorbar\": {\"outlinewidth\": 0, \"ticks\": \"\"}}, \"type\": \"scatter3d\"}], \"scattercarpet\": [{\"marker\": {\"colorbar\": {\"outlinewidth\": 0, \"ticks\": \"\"}}, \"type\": \"scattercarpet\"}], \"scattergeo\": [{\"marker\": {\"colorbar\": {\"outlinewidth\": 0, \"ticks\": \"\"}}, \"type\": \"scattergeo\"}], \"scattergl\": [{\"marker\": {\"colorbar\": {\"outlinewidth\": 0, \"ticks\": \"\"}}, \"type\": \"scattergl\"}], \"scattermapbox\": [{\"marker\": {\"colorbar\": {\"outlinewidth\": 0, \"ticks\": \"\"}}, \"type\": \"scattermapbox\"}], \"scatterpolar\": [{\"marker\": {\"colorbar\": {\"outlinewidth\": 0, \"ticks\": \"\"}}, \"type\": \"scatterpolar\"}], \"scatterpolargl\": [{\"marker\": {\"colorbar\": {\"outlinewidth\": 0, \"ticks\": \"\"}}, \"type\": \"scatterpolargl\"}], \"scatterternary\": [{\"marker\": {\"colorbar\": {\"outlinewidth\": 0, \"ticks\": \"\"}}, \"type\": \"scatterternary\"}], \"surface\": [{\"colorbar\": {\"outlinewidth\": 0, \"ticks\": \"\"}, \"colorscale\": [[0.0, \"#0d0887\"], [0.1111111111111111, \"#46039f\"], [0.2222222222222222, \"#7201a8\"], [0.3333333333333333, \"#9c179e\"], [0.4444444444444444, \"#bd3786\"], [0.5555555555555556, \"#d8576b\"], [0.6666666666666666, \"#ed7953\"], [0.7777777777777778, \"#fb9f3a\"], [0.8888888888888888, \"#fdca26\"], [1.0, \"#f0f921\"]], \"type\": \"surface\"}], \"table\": [{\"cells\": {\"fill\": {\"color\": \"#EBF0F8\"}, \"line\": {\"color\": \"white\"}}, \"header\": {\"fill\": {\"color\": \"#C8D4E3\"}, \"line\": {\"color\": \"white\"}}, \"type\": \"table\"}]}, \"layout\": {\"annotationdefaults\": {\"arrowcolor\": \"#2a3f5f\", \"arrowhead\": 0, \"arrowwidth\": 1}, \"autotypenumbers\": \"strict\", \"coloraxis\": {\"colorbar\": {\"outlinewidth\": 0, \"ticks\": \"\"}}, \"colorscale\": {\"diverging\": [[0, \"#8e0152\"], [0.1, \"#c51b7d\"], [0.2, \"#de77ae\"], [0.3, \"#f1b6da\"], [0.4, \"#fde0ef\"], [0.5, \"#f7f7f7\"], [0.6, \"#e6f5d0\"], [0.7, \"#b8e186\"], [0.8, \"#7fbc41\"], [0.9, \"#4d9221\"], [1, \"#276419\"]], \"sequential\": [[0.0, \"#0d0887\"], [0.1111111111111111, \"#46039f\"], [0.2222222222222222, \"#7201a8\"], [0.3333333333333333, \"#9c179e\"], [0.4444444444444444, \"#bd3786\"], [0.5555555555555556, \"#d8576b\"], [0.6666666666666666, \"#ed7953\"], [0.7777777777777778, \"#fb9f3a\"], [0.8888888888888888, \"#fdca26\"], [1.0, \"#f0f921\"]], \"sequentialminus\": [[0.0, \"#0d0887\"], [0.1111111111111111, \"#46039f\"], [0.2222222222222222, \"#7201a8\"], [0.3333333333333333, \"#9c179e\"], [0.4444444444444444, \"#bd3786\"], [0.5555555555555556, \"#d8576b\"], [0.6666666666666666, \"#ed7953\"], [0.7777777777777778, \"#fb9f3a\"], [0.8888888888888888, \"#fdca26\"], [1.0, \"#f0f921\"]]}, \"colorway\": [\"#636efa\", \"#EF553B\", \"#00cc96\", \"#ab63fa\", \"#FFA15A\", \"#19d3f3\", \"#FF6692\", \"#B6E880\", \"#FF97FF\", \"#FECB52\"], \"font\": {\"color\": \"#2a3f5f\"}, \"geo\": {\"bgcolor\": \"white\", \"lakecolor\": \"white\", \"landcolor\": \"#E5ECF6\", \"showlakes\": true, \"showland\": true, \"subunitcolor\": \"white\"}, \"hoverlabel\": {\"align\": \"left\"}, \"hovermode\": \"closest\", \"mapbox\": {\"style\": \"light\"}, \"paper_bgcolor\": \"white\", \"plot_bgcolor\": \"#E5ECF6\", \"polar\": {\"angularaxis\": {\"gridcolor\": \"white\", \"linecolor\": \"white\", \"ticks\": \"\"}, \"bgcolor\": \"#E5ECF6\", \"radialaxis\": {\"gridcolor\": \"white\", \"linecolor\": \"white\", \"ticks\": \"\"}}, \"scene\": {\"xaxis\": {\"backgroundcolor\": \"#E5ECF6\", \"gridcolor\": \"white\", \"gridwidth\": 2, \"linecolor\": \"white\", \"showbackground\": true, \"ticks\": \"\", \"zerolinecolor\": \"white\"}, \"yaxis\": {\"backgroundcolor\": \"#E5ECF6\", \"gridcolor\": \"white\", \"gridwidth\": 2, \"linecolor\": \"white\", \"showbackground\": true, \"ticks\": \"\", \"zerolinecolor\": \"white\"}, \"zaxis\": {\"backgroundcolor\": \"#E5ECF6\", \"gridcolor\": \"white\", \"gridwidth\": 2, \"linecolor\": \"white\", \"showbackground\": true, \"ticks\": \"\", \"zerolinecolor\": \"white\"}}, \"shapedefaults\": {\"line\": {\"color\": \"#2a3f5f\"}}, \"ternary\": {\"aaxis\": {\"gridcolor\": \"white\", \"linecolor\": \"white\", \"ticks\": \"\"}, \"baxis\": {\"gridcolor\": \"white\", \"linecolor\": \"white\", \"ticks\": \"\"}, \"bgcolor\": \"#E5ECF6\", \"caxis\": {\"gridcolor\": \"white\", \"linecolor\": \"white\", \"ticks\": \"\"}}, \"title\": {\"x\": 0.05}, \"xaxis\": {\"automargin\": true, \"gridcolor\": \"white\", \"linecolor\": \"white\", \"ticks\": \"\", \"title\": {\"standoff\": 15}, \"zerolinecolor\": \"white\", \"zerolinewidth\": 2}, \"yaxis\": {\"automargin\": true, \"gridcolor\": \"white\", \"linecolor\": \"white\", \"ticks\": \"\", \"title\": {\"standoff\": 15}, \"zerolinecolor\": \"white\", \"zerolinewidth\": 2}}}, \"xaxis\": {\"anchor\": \"y\", \"domain\": [0.0, 1.0]}, \"yaxis\": {\"anchor\": \"x\", \"domain\": [0.0, 1.0]}},                        {\"responsive\": true}                    ).then(function(){\n",
       "                            \n",
       "var gd = document.getElementById('51d76fc8-783b-401b-81ae-16ba9781c132');\n",
       "var x = new MutationObserver(function (mutations, observer) {{\n",
       "        var display = window.getComputedStyle(gd).display;\n",
       "        if (!display || display === 'none') {{\n",
       "            console.log([gd, 'removed!']);\n",
       "            Plotly.purge(gd);\n",
       "            observer.disconnect();\n",
       "        }}\n",
       "}});\n",
       "\n",
       "// Listen for the removal of the full notebook cells\n",
       "var notebookContainer = gd.closest('#notebook-container');\n",
       "if (notebookContainer) {{\n",
       "    x.observe(notebookContainer, {childList: true});\n",
       "}}\n",
       "\n",
       "// Listen for the clearing of the current output cell\n",
       "var outputEl = gd.closest('.output');\n",
       "if (outputEl) {{\n",
       "    x.observe(outputEl, {childList: true});\n",
       "}}\n",
       "\n",
       "                        })                };                });            </script>        </div>"
      ]
     },
     "metadata": {},
     "output_type": "display_data"
    }
   ],
   "source": [
    "# now, let's groupby using family\n",
    "byorglib = genomesra5.groupby(by = ['tax_level3'])['Experiment Accession'].count().reset_index()\n",
    "byorglib.sort_values('Experiment Accession', ascending = False, inplace = True)\n",
    "byorglib\n",
    "\n",
    "fig = make_subplots(rows = 1, cols = 1, column_widths = [50], row_heights = [5])\n",
    "fig.add_trace(go.Bar(x = byorglib['tax_level3'],\n",
    "             y = byorglib['Experiment Accession'], textposition = 'outside', textfont = dict(size = 6)),\n",
    "             row=1, col=1)\n",
    "fig.show()# not zero indexed ffs"
   ]
  },
  {
   "cell_type": "code",
   "execution_count": 70,
   "metadata": {
    "ExecuteTime": {
     "end_time": "2021-05-12T14:56:43.051139Z",
     "start_time": "2021-05-12T14:56:43.016796Z"
    }
   },
   "outputs": [
    {
     "data": {
      "application/vnd.plotly.v1+json": {
       "config": {
        "plotlyServerURL": "https://plot.ly"
       },
       "data": [
        {
         "textfont": {
          "size": 6
         },
         "textposition": "outside",
         "type": "bar",
         "x": [
          "Geonoma",
          "Mauritia",
          "Podococcus",
          "Sclerosperma",
          "Phytelephas",
          "Aiphanes",
          "Raphia",
          "Calyptrogyne",
          "Calamus",
          "Pholidostachys",
          "Asterogyne",
          "Licuala",
          "Korthalsia",
          "Eremospatha",
          "Salacca",
          "Calyptronoma",
          "Welfia",
          "Mauritiella",
          "Laccosperma",
          "Ceroxylon"
         ],
         "xaxis": "x",
         "y": [
          568,
          266,
          174,
          129,
          94,
          80,
          63,
          40,
          35,
          24,
          17,
          6,
          4,
          4,
          4,
          4,
          4,
          3,
          3,
          3
         ],
         "yaxis": "y"
        }
       ],
       "layout": {
        "template": {
         "data": {
          "bar": [
           {
            "error_x": {
             "color": "#2a3f5f"
            },
            "error_y": {
             "color": "#2a3f5f"
            },
            "marker": {
             "line": {
              "color": "#E5ECF6",
              "width": 0.5
             }
            },
            "type": "bar"
           }
          ],
          "barpolar": [
           {
            "marker": {
             "line": {
              "color": "#E5ECF6",
              "width": 0.5
             }
            },
            "type": "barpolar"
           }
          ],
          "carpet": [
           {
            "aaxis": {
             "endlinecolor": "#2a3f5f",
             "gridcolor": "white",
             "linecolor": "white",
             "minorgridcolor": "white",
             "startlinecolor": "#2a3f5f"
            },
            "baxis": {
             "endlinecolor": "#2a3f5f",
             "gridcolor": "white",
             "linecolor": "white",
             "minorgridcolor": "white",
             "startlinecolor": "#2a3f5f"
            },
            "type": "carpet"
           }
          ],
          "choropleth": [
           {
            "colorbar": {
             "outlinewidth": 0,
             "ticks": ""
            },
            "type": "choropleth"
           }
          ],
          "contour": [
           {
            "colorbar": {
             "outlinewidth": 0,
             "ticks": ""
            },
            "colorscale": [
             [
              0,
              "#0d0887"
             ],
             [
              0.1111111111111111,
              "#46039f"
             ],
             [
              0.2222222222222222,
              "#7201a8"
             ],
             [
              0.3333333333333333,
              "#9c179e"
             ],
             [
              0.4444444444444444,
              "#bd3786"
             ],
             [
              0.5555555555555556,
              "#d8576b"
             ],
             [
              0.6666666666666666,
              "#ed7953"
             ],
             [
              0.7777777777777778,
              "#fb9f3a"
             ],
             [
              0.8888888888888888,
              "#fdca26"
             ],
             [
              1,
              "#f0f921"
             ]
            ],
            "type": "contour"
           }
          ],
          "contourcarpet": [
           {
            "colorbar": {
             "outlinewidth": 0,
             "ticks": ""
            },
            "type": "contourcarpet"
           }
          ],
          "heatmap": [
           {
            "colorbar": {
             "outlinewidth": 0,
             "ticks": ""
            },
            "colorscale": [
             [
              0,
              "#0d0887"
             ],
             [
              0.1111111111111111,
              "#46039f"
             ],
             [
              0.2222222222222222,
              "#7201a8"
             ],
             [
              0.3333333333333333,
              "#9c179e"
             ],
             [
              0.4444444444444444,
              "#bd3786"
             ],
             [
              0.5555555555555556,
              "#d8576b"
             ],
             [
              0.6666666666666666,
              "#ed7953"
             ],
             [
              0.7777777777777778,
              "#fb9f3a"
             ],
             [
              0.8888888888888888,
              "#fdca26"
             ],
             [
              1,
              "#f0f921"
             ]
            ],
            "type": "heatmap"
           }
          ],
          "heatmapgl": [
           {
            "colorbar": {
             "outlinewidth": 0,
             "ticks": ""
            },
            "colorscale": [
             [
              0,
              "#0d0887"
             ],
             [
              0.1111111111111111,
              "#46039f"
             ],
             [
              0.2222222222222222,
              "#7201a8"
             ],
             [
              0.3333333333333333,
              "#9c179e"
             ],
             [
              0.4444444444444444,
              "#bd3786"
             ],
             [
              0.5555555555555556,
              "#d8576b"
             ],
             [
              0.6666666666666666,
              "#ed7953"
             ],
             [
              0.7777777777777778,
              "#fb9f3a"
             ],
             [
              0.8888888888888888,
              "#fdca26"
             ],
             [
              1,
              "#f0f921"
             ]
            ],
            "type": "heatmapgl"
           }
          ],
          "histogram": [
           {
            "marker": {
             "colorbar": {
              "outlinewidth": 0,
              "ticks": ""
             }
            },
            "type": "histogram"
           }
          ],
          "histogram2d": [
           {
            "colorbar": {
             "outlinewidth": 0,
             "ticks": ""
            },
            "colorscale": [
             [
              0,
              "#0d0887"
             ],
             [
              0.1111111111111111,
              "#46039f"
             ],
             [
              0.2222222222222222,
              "#7201a8"
             ],
             [
              0.3333333333333333,
              "#9c179e"
             ],
             [
              0.4444444444444444,
              "#bd3786"
             ],
             [
              0.5555555555555556,
              "#d8576b"
             ],
             [
              0.6666666666666666,
              "#ed7953"
             ],
             [
              0.7777777777777778,
              "#fb9f3a"
             ],
             [
              0.8888888888888888,
              "#fdca26"
             ],
             [
              1,
              "#f0f921"
             ]
            ],
            "type": "histogram2d"
           }
          ],
          "histogram2dcontour": [
           {
            "colorbar": {
             "outlinewidth": 0,
             "ticks": ""
            },
            "colorscale": [
             [
              0,
              "#0d0887"
             ],
             [
              0.1111111111111111,
              "#46039f"
             ],
             [
              0.2222222222222222,
              "#7201a8"
             ],
             [
              0.3333333333333333,
              "#9c179e"
             ],
             [
              0.4444444444444444,
              "#bd3786"
             ],
             [
              0.5555555555555556,
              "#d8576b"
             ],
             [
              0.6666666666666666,
              "#ed7953"
             ],
             [
              0.7777777777777778,
              "#fb9f3a"
             ],
             [
              0.8888888888888888,
              "#fdca26"
             ],
             [
              1,
              "#f0f921"
             ]
            ],
            "type": "histogram2dcontour"
           }
          ],
          "mesh3d": [
           {
            "colorbar": {
             "outlinewidth": 0,
             "ticks": ""
            },
            "type": "mesh3d"
           }
          ],
          "parcoords": [
           {
            "line": {
             "colorbar": {
              "outlinewidth": 0,
              "ticks": ""
             }
            },
            "type": "parcoords"
           }
          ],
          "pie": [
           {
            "automargin": true,
            "type": "pie"
           }
          ],
          "scatter": [
           {
            "marker": {
             "colorbar": {
              "outlinewidth": 0,
              "ticks": ""
             }
            },
            "type": "scatter"
           }
          ],
          "scatter3d": [
           {
            "line": {
             "colorbar": {
              "outlinewidth": 0,
              "ticks": ""
             }
            },
            "marker": {
             "colorbar": {
              "outlinewidth": 0,
              "ticks": ""
             }
            },
            "type": "scatter3d"
           }
          ],
          "scattercarpet": [
           {
            "marker": {
             "colorbar": {
              "outlinewidth": 0,
              "ticks": ""
             }
            },
            "type": "scattercarpet"
           }
          ],
          "scattergeo": [
           {
            "marker": {
             "colorbar": {
              "outlinewidth": 0,
              "ticks": ""
             }
            },
            "type": "scattergeo"
           }
          ],
          "scattergl": [
           {
            "marker": {
             "colorbar": {
              "outlinewidth": 0,
              "ticks": ""
             }
            },
            "type": "scattergl"
           }
          ],
          "scattermapbox": [
           {
            "marker": {
             "colorbar": {
              "outlinewidth": 0,
              "ticks": ""
             }
            },
            "type": "scattermapbox"
           }
          ],
          "scatterpolar": [
           {
            "marker": {
             "colorbar": {
              "outlinewidth": 0,
              "ticks": ""
             }
            },
            "type": "scatterpolar"
           }
          ],
          "scatterpolargl": [
           {
            "marker": {
             "colorbar": {
              "outlinewidth": 0,
              "ticks": ""
             }
            },
            "type": "scatterpolargl"
           }
          ],
          "scatterternary": [
           {
            "marker": {
             "colorbar": {
              "outlinewidth": 0,
              "ticks": ""
             }
            },
            "type": "scatterternary"
           }
          ],
          "surface": [
           {
            "colorbar": {
             "outlinewidth": 0,
             "ticks": ""
            },
            "colorscale": [
             [
              0,
              "#0d0887"
             ],
             [
              0.1111111111111111,
              "#46039f"
             ],
             [
              0.2222222222222222,
              "#7201a8"
             ],
             [
              0.3333333333333333,
              "#9c179e"
             ],
             [
              0.4444444444444444,
              "#bd3786"
             ],
             [
              0.5555555555555556,
              "#d8576b"
             ],
             [
              0.6666666666666666,
              "#ed7953"
             ],
             [
              0.7777777777777778,
              "#fb9f3a"
             ],
             [
              0.8888888888888888,
              "#fdca26"
             ],
             [
              1,
              "#f0f921"
             ]
            ],
            "type": "surface"
           }
          ],
          "table": [
           {
            "cells": {
             "fill": {
              "color": "#EBF0F8"
             },
             "line": {
              "color": "white"
             }
            },
            "header": {
             "fill": {
              "color": "#C8D4E3"
             },
             "line": {
              "color": "white"
             }
            },
            "type": "table"
           }
          ]
         },
         "layout": {
          "annotationdefaults": {
           "arrowcolor": "#2a3f5f",
           "arrowhead": 0,
           "arrowwidth": 1
          },
          "autotypenumbers": "strict",
          "coloraxis": {
           "colorbar": {
            "outlinewidth": 0,
            "ticks": ""
           }
          },
          "colorscale": {
           "diverging": [
            [
             0,
             "#8e0152"
            ],
            [
             0.1,
             "#c51b7d"
            ],
            [
             0.2,
             "#de77ae"
            ],
            [
             0.3,
             "#f1b6da"
            ],
            [
             0.4,
             "#fde0ef"
            ],
            [
             0.5,
             "#f7f7f7"
            ],
            [
             0.6,
             "#e6f5d0"
            ],
            [
             0.7,
             "#b8e186"
            ],
            [
             0.8,
             "#7fbc41"
            ],
            [
             0.9,
             "#4d9221"
            ],
            [
             1,
             "#276419"
            ]
           ],
           "sequential": [
            [
             0,
             "#0d0887"
            ],
            [
             0.1111111111111111,
             "#46039f"
            ],
            [
             0.2222222222222222,
             "#7201a8"
            ],
            [
             0.3333333333333333,
             "#9c179e"
            ],
            [
             0.4444444444444444,
             "#bd3786"
            ],
            [
             0.5555555555555556,
             "#d8576b"
            ],
            [
             0.6666666666666666,
             "#ed7953"
            ],
            [
             0.7777777777777778,
             "#fb9f3a"
            ],
            [
             0.8888888888888888,
             "#fdca26"
            ],
            [
             1,
             "#f0f921"
            ]
           ],
           "sequentialminus": [
            [
             0,
             "#0d0887"
            ],
            [
             0.1111111111111111,
             "#46039f"
            ],
            [
             0.2222222222222222,
             "#7201a8"
            ],
            [
             0.3333333333333333,
             "#9c179e"
            ],
            [
             0.4444444444444444,
             "#bd3786"
            ],
            [
             0.5555555555555556,
             "#d8576b"
            ],
            [
             0.6666666666666666,
             "#ed7953"
            ],
            [
             0.7777777777777778,
             "#fb9f3a"
            ],
            [
             0.8888888888888888,
             "#fdca26"
            ],
            [
             1,
             "#f0f921"
            ]
           ]
          },
          "colorway": [
           "#636efa",
           "#EF553B",
           "#00cc96",
           "#ab63fa",
           "#FFA15A",
           "#19d3f3",
           "#FF6692",
           "#B6E880",
           "#FF97FF",
           "#FECB52"
          ],
          "font": {
           "color": "#2a3f5f"
          },
          "geo": {
           "bgcolor": "white",
           "lakecolor": "white",
           "landcolor": "#E5ECF6",
           "showlakes": true,
           "showland": true,
           "subunitcolor": "white"
          },
          "hoverlabel": {
           "align": "left"
          },
          "hovermode": "closest",
          "mapbox": {
           "style": "light"
          },
          "paper_bgcolor": "white",
          "plot_bgcolor": "#E5ECF6",
          "polar": {
           "angularaxis": {
            "gridcolor": "white",
            "linecolor": "white",
            "ticks": ""
           },
           "bgcolor": "#E5ECF6",
           "radialaxis": {
            "gridcolor": "white",
            "linecolor": "white",
            "ticks": ""
           }
          },
          "scene": {
           "xaxis": {
            "backgroundcolor": "#E5ECF6",
            "gridcolor": "white",
            "gridwidth": 2,
            "linecolor": "white",
            "showbackground": true,
            "ticks": "",
            "zerolinecolor": "white"
           },
           "yaxis": {
            "backgroundcolor": "#E5ECF6",
            "gridcolor": "white",
            "gridwidth": 2,
            "linecolor": "white",
            "showbackground": true,
            "ticks": "",
            "zerolinecolor": "white"
           },
           "zaxis": {
            "backgroundcolor": "#E5ECF6",
            "gridcolor": "white",
            "gridwidth": 2,
            "linecolor": "white",
            "showbackground": true,
            "ticks": "",
            "zerolinecolor": "white"
           }
          },
          "shapedefaults": {
           "line": {
            "color": "#2a3f5f"
           }
          },
          "ternary": {
           "aaxis": {
            "gridcolor": "white",
            "linecolor": "white",
            "ticks": ""
           },
           "baxis": {
            "gridcolor": "white",
            "linecolor": "white",
            "ticks": ""
           },
           "bgcolor": "#E5ECF6",
           "caxis": {
            "gridcolor": "white",
            "linecolor": "white",
            "ticks": ""
           }
          },
          "title": {
           "x": 0.05
          },
          "xaxis": {
           "automargin": true,
           "gridcolor": "white",
           "linecolor": "white",
           "ticks": "",
           "title": {
            "standoff": 15
           },
           "zerolinecolor": "white",
           "zerolinewidth": 2
          },
          "yaxis": {
           "automargin": true,
           "gridcolor": "white",
           "linecolor": "white",
           "ticks": "",
           "title": {
            "standoff": 15
           },
           "zerolinecolor": "white",
           "zerolinewidth": 2
          }
         }
        },
        "xaxis": {
         "anchor": "y",
         "domain": [
          0,
          1
         ]
        },
        "yaxis": {
         "anchor": "x",
         "domain": [
          0,
          1
         ]
        }
       }
      },
      "text/html": [
       "<div>                            <div id=\"23366a42-ad5f-4e45-8de9-d2fa5a758bcf\" class=\"plotly-graph-div\" style=\"height:525px; width:100%;\"></div>            <script type=\"text/javascript\">                require([\"plotly\"], function(Plotly) {                    window.PLOTLYENV=window.PLOTLYENV || {};                                    if (document.getElementById(\"23366a42-ad5f-4e45-8de9-d2fa5a758bcf\")) {                    Plotly.newPlot(                        \"23366a42-ad5f-4e45-8de9-d2fa5a758bcf\",                        [{\"textfont\": {\"size\": 6}, \"textposition\": \"outside\", \"type\": \"bar\", \"x\": [\"Geonoma\", \"Mauritia\", \"Podococcus\", \"Sclerosperma\", \"Phytelephas\", \"Aiphanes\", \"Raphia\", \"Calyptrogyne\", \"Calamus\", \"Pholidostachys\", \"Asterogyne\", \"Licuala\", \"Korthalsia\", \"Eremospatha\", \"Salacca\", \"Calyptronoma\", \"Welfia\", \"Mauritiella\", \"Laccosperma\", \"Ceroxylon\"], \"xaxis\": \"x\", \"y\": [568, 266, 174, 129, 94, 80, 63, 40, 35, 24, 17, 6, 4, 4, 4, 4, 4, 3, 3, 3], \"yaxis\": \"y\"}],                        {\"template\": {\"data\": {\"bar\": [{\"error_x\": {\"color\": \"#2a3f5f\"}, \"error_y\": {\"color\": \"#2a3f5f\"}, \"marker\": {\"line\": {\"color\": \"#E5ECF6\", \"width\": 0.5}}, \"type\": \"bar\"}], \"barpolar\": [{\"marker\": {\"line\": {\"color\": \"#E5ECF6\", \"width\": 0.5}}, \"type\": \"barpolar\"}], \"carpet\": [{\"aaxis\": {\"endlinecolor\": \"#2a3f5f\", \"gridcolor\": \"white\", \"linecolor\": \"white\", \"minorgridcolor\": \"white\", \"startlinecolor\": \"#2a3f5f\"}, \"baxis\": {\"endlinecolor\": \"#2a3f5f\", \"gridcolor\": \"white\", \"linecolor\": \"white\", \"minorgridcolor\": \"white\", \"startlinecolor\": \"#2a3f5f\"}, \"type\": \"carpet\"}], \"choropleth\": [{\"colorbar\": {\"outlinewidth\": 0, \"ticks\": \"\"}, \"type\": \"choropleth\"}], \"contour\": [{\"colorbar\": {\"outlinewidth\": 0, \"ticks\": \"\"}, \"colorscale\": [[0.0, \"#0d0887\"], [0.1111111111111111, \"#46039f\"], [0.2222222222222222, \"#7201a8\"], [0.3333333333333333, \"#9c179e\"], [0.4444444444444444, \"#bd3786\"], [0.5555555555555556, \"#d8576b\"], [0.6666666666666666, \"#ed7953\"], [0.7777777777777778, \"#fb9f3a\"], [0.8888888888888888, \"#fdca26\"], [1.0, \"#f0f921\"]], \"type\": \"contour\"}], \"contourcarpet\": [{\"colorbar\": {\"outlinewidth\": 0, \"ticks\": \"\"}, \"type\": \"contourcarpet\"}], \"heatmap\": [{\"colorbar\": {\"outlinewidth\": 0, \"ticks\": \"\"}, \"colorscale\": [[0.0, \"#0d0887\"], [0.1111111111111111, \"#46039f\"], [0.2222222222222222, \"#7201a8\"], [0.3333333333333333, \"#9c179e\"], [0.4444444444444444, \"#bd3786\"], [0.5555555555555556, \"#d8576b\"], [0.6666666666666666, \"#ed7953\"], [0.7777777777777778, \"#fb9f3a\"], [0.8888888888888888, \"#fdca26\"], [1.0, \"#f0f921\"]], \"type\": \"heatmap\"}], \"heatmapgl\": [{\"colorbar\": {\"outlinewidth\": 0, \"ticks\": \"\"}, \"colorscale\": [[0.0, \"#0d0887\"], [0.1111111111111111, \"#46039f\"], [0.2222222222222222, \"#7201a8\"], [0.3333333333333333, \"#9c179e\"], [0.4444444444444444, \"#bd3786\"], [0.5555555555555556, \"#d8576b\"], [0.6666666666666666, \"#ed7953\"], [0.7777777777777778, \"#fb9f3a\"], [0.8888888888888888, \"#fdca26\"], [1.0, \"#f0f921\"]], \"type\": \"heatmapgl\"}], \"histogram\": [{\"marker\": {\"colorbar\": {\"outlinewidth\": 0, \"ticks\": \"\"}}, \"type\": \"histogram\"}], \"histogram2d\": [{\"colorbar\": {\"outlinewidth\": 0, \"ticks\": \"\"}, \"colorscale\": [[0.0, \"#0d0887\"], [0.1111111111111111, \"#46039f\"], [0.2222222222222222, \"#7201a8\"], [0.3333333333333333, \"#9c179e\"], [0.4444444444444444, \"#bd3786\"], [0.5555555555555556, \"#d8576b\"], [0.6666666666666666, \"#ed7953\"], [0.7777777777777778, \"#fb9f3a\"], [0.8888888888888888, \"#fdca26\"], [1.0, \"#f0f921\"]], \"type\": \"histogram2d\"}], \"histogram2dcontour\": [{\"colorbar\": {\"outlinewidth\": 0, \"ticks\": \"\"}, \"colorscale\": [[0.0, \"#0d0887\"], [0.1111111111111111, \"#46039f\"], [0.2222222222222222, \"#7201a8\"], [0.3333333333333333, \"#9c179e\"], [0.4444444444444444, \"#bd3786\"], [0.5555555555555556, \"#d8576b\"], [0.6666666666666666, \"#ed7953\"], [0.7777777777777778, \"#fb9f3a\"], [0.8888888888888888, \"#fdca26\"], [1.0, \"#f0f921\"]], \"type\": \"histogram2dcontour\"}], \"mesh3d\": [{\"colorbar\": {\"outlinewidth\": 0, \"ticks\": \"\"}, \"type\": \"mesh3d\"}], \"parcoords\": [{\"line\": {\"colorbar\": {\"outlinewidth\": 0, \"ticks\": \"\"}}, \"type\": \"parcoords\"}], \"pie\": [{\"automargin\": true, \"type\": \"pie\"}], \"scatter\": [{\"marker\": {\"colorbar\": {\"outlinewidth\": 0, \"ticks\": \"\"}}, \"type\": \"scatter\"}], \"scatter3d\": [{\"line\": {\"colorbar\": {\"outlinewidth\": 0, \"ticks\": \"\"}}, \"marker\": {\"colorbar\": {\"outlinewidth\": 0, \"ticks\": \"\"}}, \"type\": \"scatter3d\"}], \"scattercarpet\": [{\"marker\": {\"colorbar\": {\"outlinewidth\": 0, \"ticks\": \"\"}}, \"type\": \"scattercarpet\"}], \"scattergeo\": [{\"marker\": {\"colorbar\": {\"outlinewidth\": 0, \"ticks\": \"\"}}, \"type\": \"scattergeo\"}], \"scattergl\": [{\"marker\": {\"colorbar\": {\"outlinewidth\": 0, \"ticks\": \"\"}}, \"type\": \"scattergl\"}], \"scattermapbox\": [{\"marker\": {\"colorbar\": {\"outlinewidth\": 0, \"ticks\": \"\"}}, \"type\": \"scattermapbox\"}], \"scatterpolar\": [{\"marker\": {\"colorbar\": {\"outlinewidth\": 0, \"ticks\": \"\"}}, \"type\": \"scatterpolar\"}], \"scatterpolargl\": [{\"marker\": {\"colorbar\": {\"outlinewidth\": 0, \"ticks\": \"\"}}, \"type\": \"scatterpolargl\"}], \"scatterternary\": [{\"marker\": {\"colorbar\": {\"outlinewidth\": 0, \"ticks\": \"\"}}, \"type\": \"scatterternary\"}], \"surface\": [{\"colorbar\": {\"outlinewidth\": 0, \"ticks\": \"\"}, \"colorscale\": [[0.0, \"#0d0887\"], [0.1111111111111111, \"#46039f\"], [0.2222222222222222, \"#7201a8\"], [0.3333333333333333, \"#9c179e\"], [0.4444444444444444, \"#bd3786\"], [0.5555555555555556, \"#d8576b\"], [0.6666666666666666, \"#ed7953\"], [0.7777777777777778, \"#fb9f3a\"], [0.8888888888888888, \"#fdca26\"], [1.0, \"#f0f921\"]], \"type\": \"surface\"}], \"table\": [{\"cells\": {\"fill\": {\"color\": \"#EBF0F8\"}, \"line\": {\"color\": \"white\"}}, \"header\": {\"fill\": {\"color\": \"#C8D4E3\"}, \"line\": {\"color\": \"white\"}}, \"type\": \"table\"}]}, \"layout\": {\"annotationdefaults\": {\"arrowcolor\": \"#2a3f5f\", \"arrowhead\": 0, \"arrowwidth\": 1}, \"autotypenumbers\": \"strict\", \"coloraxis\": {\"colorbar\": {\"outlinewidth\": 0, \"ticks\": \"\"}}, \"colorscale\": {\"diverging\": [[0, \"#8e0152\"], [0.1, \"#c51b7d\"], [0.2, \"#de77ae\"], [0.3, \"#f1b6da\"], [0.4, \"#fde0ef\"], [0.5, \"#f7f7f7\"], [0.6, \"#e6f5d0\"], [0.7, \"#b8e186\"], [0.8, \"#7fbc41\"], [0.9, \"#4d9221\"], [1, \"#276419\"]], \"sequential\": [[0.0, \"#0d0887\"], [0.1111111111111111, \"#46039f\"], [0.2222222222222222, \"#7201a8\"], [0.3333333333333333, \"#9c179e\"], [0.4444444444444444, \"#bd3786\"], [0.5555555555555556, \"#d8576b\"], [0.6666666666666666, \"#ed7953\"], [0.7777777777777778, \"#fb9f3a\"], [0.8888888888888888, \"#fdca26\"], [1.0, \"#f0f921\"]], \"sequentialminus\": [[0.0, \"#0d0887\"], [0.1111111111111111, \"#46039f\"], [0.2222222222222222, \"#7201a8\"], [0.3333333333333333, \"#9c179e\"], [0.4444444444444444, \"#bd3786\"], [0.5555555555555556, \"#d8576b\"], [0.6666666666666666, \"#ed7953\"], [0.7777777777777778, \"#fb9f3a\"], [0.8888888888888888, \"#fdca26\"], [1.0, \"#f0f921\"]]}, \"colorway\": [\"#636efa\", \"#EF553B\", \"#00cc96\", \"#ab63fa\", \"#FFA15A\", \"#19d3f3\", \"#FF6692\", \"#B6E880\", \"#FF97FF\", \"#FECB52\"], \"font\": {\"color\": \"#2a3f5f\"}, \"geo\": {\"bgcolor\": \"white\", \"lakecolor\": \"white\", \"landcolor\": \"#E5ECF6\", \"showlakes\": true, \"showland\": true, \"subunitcolor\": \"white\"}, \"hoverlabel\": {\"align\": \"left\"}, \"hovermode\": \"closest\", \"mapbox\": {\"style\": \"light\"}, \"paper_bgcolor\": \"white\", \"plot_bgcolor\": \"#E5ECF6\", \"polar\": {\"angularaxis\": {\"gridcolor\": \"white\", \"linecolor\": \"white\", \"ticks\": \"\"}, \"bgcolor\": \"#E5ECF6\", \"radialaxis\": {\"gridcolor\": \"white\", \"linecolor\": \"white\", \"ticks\": \"\"}}, \"scene\": {\"xaxis\": {\"backgroundcolor\": \"#E5ECF6\", \"gridcolor\": \"white\", \"gridwidth\": 2, \"linecolor\": \"white\", \"showbackground\": true, \"ticks\": \"\", \"zerolinecolor\": \"white\"}, \"yaxis\": {\"backgroundcolor\": \"#E5ECF6\", \"gridcolor\": \"white\", \"gridwidth\": 2, \"linecolor\": \"white\", \"showbackground\": true, \"ticks\": \"\", \"zerolinecolor\": \"white\"}, \"zaxis\": {\"backgroundcolor\": \"#E5ECF6\", \"gridcolor\": \"white\", \"gridwidth\": 2, \"linecolor\": \"white\", \"showbackground\": true, \"ticks\": \"\", \"zerolinecolor\": \"white\"}}, \"shapedefaults\": {\"line\": {\"color\": \"#2a3f5f\"}}, \"ternary\": {\"aaxis\": {\"gridcolor\": \"white\", \"linecolor\": \"white\", \"ticks\": \"\"}, \"baxis\": {\"gridcolor\": \"white\", \"linecolor\": \"white\", \"ticks\": \"\"}, \"bgcolor\": \"#E5ECF6\", \"caxis\": {\"gridcolor\": \"white\", \"linecolor\": \"white\", \"ticks\": \"\"}}, \"title\": {\"x\": 0.05}, \"xaxis\": {\"automargin\": true, \"gridcolor\": \"white\", \"linecolor\": \"white\", \"ticks\": \"\", \"title\": {\"standoff\": 15}, \"zerolinecolor\": \"white\", \"zerolinewidth\": 2}, \"yaxis\": {\"automargin\": true, \"gridcolor\": \"white\", \"linecolor\": \"white\", \"ticks\": \"\", \"title\": {\"standoff\": 15}, \"zerolinecolor\": \"white\", \"zerolinewidth\": 2}}}, \"xaxis\": {\"anchor\": \"y\", \"domain\": [0.0, 1.0]}, \"yaxis\": {\"anchor\": \"x\", \"domain\": [0.0, 1.0]}},                        {\"responsive\": true}                    ).then(function(){\n",
       "                            \n",
       "var gd = document.getElementById('23366a42-ad5f-4e45-8de9-d2fa5a758bcf');\n",
       "var x = new MutationObserver(function (mutations, observer) {{\n",
       "        var display = window.getComputedStyle(gd).display;\n",
       "        if (!display || display === 'none') {{\n",
       "            console.log([gd, 'removed!']);\n",
       "            Plotly.purge(gd);\n",
       "            observer.disconnect();\n",
       "        }}\n",
       "}});\n",
       "\n",
       "// Listen for the removal of the full notebook cells\n",
       "var notebookContainer = gd.closest('#notebook-container');\n",
       "if (notebookContainer) {{\n",
       "    x.observe(notebookContainer, {childList: true});\n",
       "}}\n",
       "\n",
       "// Listen for the clearing of the current output cell\n",
       "var outputEl = gd.closest('.output');\n",
       "if (outputEl) {{\n",
       "    x.observe(outputEl, {childList: true});\n",
       "}}\n",
       "\n",
       "                        })                };                });            </script>        </div>"
      ]
     },
     "metadata": {},
     "output_type": "display_data"
    }
   ],
   "source": [
    "# now, we can filter by Arecaecae\n",
    "palms = genomesra5[genomesra5['tax_level3'] == 'Arecaceae']\n",
    "# groupby genera\n",
    "byorglib = palms.groupby(by = ['genus'])['Experiment Accession'].count().reset_index()\n",
    "byorglib.sort_values('Experiment Accession', ascending = False, inplace = True)\n",
    "byorglib\n",
    "\n",
    "fig = make_subplots(rows = 1, cols = 1, column_widths = [50], row_heights = [5])\n",
    "fig.add_trace(go.Bar(x = byorglib['genus'],\n",
    "             y = byorglib['Experiment Accession'], textposition = 'outside', textfont = dict(size = 6)),\n",
    "             row=1, col=1)\n",
    "fig.show()# not zero indexed ffs"
   ]
  },
  {
   "cell_type": "code",
   "execution_count": 71,
   "metadata": {
    "ExecuteTime": {
     "end_time": "2021-05-12T14:56:45.835053Z",
     "start_time": "2021-05-12T14:56:45.822953Z"
    }
   },
   "outputs": [
    {
     "data": {
      "text/html": [
       "<div>\n",
       "<style scoped>\n",
       "    .dataframe tbody tr th:only-of-type {\n",
       "        vertical-align: middle;\n",
       "    }\n",
       "\n",
       "    .dataframe tbody tr th {\n",
       "        vertical-align: top;\n",
       "    }\n",
       "\n",
       "    .dataframe thead th {\n",
       "        text-align: right;\n",
       "    }\n",
       "</style>\n",
       "<table border=\"1\" class=\"dataframe\">\n",
       "  <thead>\n",
       "    <tr style=\"text-align: right;\">\n",
       "      <th></th>\n",
       "      <th>genus</th>\n",
       "      <th>Organism Name</th>\n",
       "      <th>Experiment Accession</th>\n",
       "    </tr>\n",
       "  </thead>\n",
       "  <tbody>\n",
       "    <tr>\n",
       "      <td>345177</td>\n",
       "      <td>Calyptronoma</td>\n",
       "      <td>Calyptronoma rivalis</td>\n",
       "      <td>SRX5978737</td>\n",
       "    </tr>\n",
       "    <tr>\n",
       "      <td>345178</td>\n",
       "      <td>Calyptronoma</td>\n",
       "      <td>Calyptronoma occidentalis</td>\n",
       "      <td>SRX5978736</td>\n",
       "    </tr>\n",
       "    <tr>\n",
       "      <td>345837</td>\n",
       "      <td>Calyptronoma</td>\n",
       "      <td>Calyptronoma occidentalis</td>\n",
       "      <td>SRX5964004</td>\n",
       "    </tr>\n",
       "    <tr>\n",
       "      <td>345838</td>\n",
       "      <td>Calyptronoma</td>\n",
       "      <td>Calyptronoma rivalis</td>\n",
       "      <td>SRX5964003</td>\n",
       "    </tr>\n",
       "  </tbody>\n",
       "</table>\n",
       "</div>"
      ],
      "text/plain": [
       "               genus              Organism Name Experiment Accession\n",
       "345177  Calyptronoma       Calyptronoma rivalis           SRX5978737\n",
       "345178  Calyptronoma  Calyptronoma occidentalis           SRX5978736\n",
       "345837  Calyptronoma  Calyptronoma occidentalis           SRX5964004\n",
       "345838  Calyptronoma       Calyptronoma rivalis           SRX5964003"
      ]
     },
     "execution_count": 71,
     "metadata": {},
     "output_type": "execute_result"
    }
   ],
   "source": [
    "# let's imagine we don't have Calyptronoma\n",
    "SRR = list(palms[palms['genus'] == 'Calyptronoma']['Experiment Accession'].values)\n",
    "palms[palms['genus'] == 'Calyptronoma'][['genus','Organism Name','Experiment Accession']]"
   ]
  },
  {
   "cell_type": "code",
   "execution_count": null,
   "metadata": {},
   "outputs": [],
   "source": [
    "# to download use the sra-toolkit:\n",
    "# https://github.com/ncbi/sra-tools\n",
    "%%bash\n",
    "\n",
    "for i in SRX5978737 SRX5978736 SRX5964004 SRX5964003; do ./bin/fasterq-dump $i; done"
   ]
  }
 ],
 "metadata": {
  "kernelspec": {
   "display_name": "python36",
   "language": "python",
   "name": "python36"
  },
  "varInspector": {
   "cols": {
    "lenName": 16,
    "lenType": 16,
    "lenVar": 40
   },
   "kernels_config": {
    "python": {
     "delete_cmd_postfix": "",
     "delete_cmd_prefix": "del ",
     "library": "var_list.py",
     "varRefreshCmd": "print(var_dic_list())"
    },
    "r": {
     "delete_cmd_postfix": ") ",
     "delete_cmd_prefix": "rm(",
     "library": "var_list.r",
     "varRefreshCmd": "cat(var_dic_list()) "
    }
   },
   "types_to_exclude": [
    "module",
    "function",
    "builtin_function_or_method",
    "instance",
    "_Feature"
   ],
   "window_display": false
  }
 },
 "nbformat": 4,
 "nbformat_minor": 2
}
